{
 "cells":[
  {
   "cell_type":"markdown",
   "source":[
    "# Sheet"
   ],
   "attachments":{
    
   },
   "metadata":{
    "datalore":{
     "node_id":"Sheet",
     "type":"MD",
     "hide_input_from_viewers":false,
     "hide_output_from_viewers":false,
     "sheet_delimiter":true
    }
   }
  },
  {
   "cell_type":"code",
   "source":[
    "import pandas as pd\n",
    "import bs4\n",
    "from bs4 import BeautifulSoup"
   ],
   "execution_count":1,
   "outputs":[
    
   ],
   "metadata":{
    "datalore":{
     "node_id":"NmH7ZtZgqloCDK4vjGORyk",
     "type":"CODE",
     "hide_input_from_viewers":true,
     "hide_output_from_viewers":true
    }
   }
  },
  {
   "cell_type":"code",
   "source":[
    "import requests"
   ],
   "execution_count":2,
   "outputs":[
    
   ],
   "metadata":{
    "datalore":{
     "node_id":"Syeffg2kgjOubxwlE5P4ky",
     "type":"CODE",
     "hide_input_from_viewers":true,
     "hide_output_from_viewers":true
    }
   }
  },
  {
   "cell_type":"code",
   "source":[
    "url = \"http:\/\/www.ibm.com\""
   ],
   "execution_count":3,
   "outputs":[
    
   ],
   "metadata":{
    "datalore":{
     "node_id":"efij8QptzVitUqTONPZqbf",
     "type":"CODE",
     "hide_input_from_viewers":true,
     "hide_output_from_viewers":true
    }
   }
  },
  {
   "cell_type":"code",
   "source":[
    " r = requests.get(url)"
   ],
   "execution_count":4,
   "outputs":[
    
   ],
   "metadata":{
    "datalore":{
     "node_id":"SpZArSB74DhaCH1q0YTLrG",
     "type":"CODE",
     "hide_input_from_viewers":true,
     "hide_output_from_viewers":true
    }
   }
  },
  {
   "cell_type":"code",
   "source":[
    "data = r.text\n",
    "data"
   ],
   "execution_count":5,
   "outputs":[
    {
     "data":{
      "text\/plain":[
       "'<!DOCTYPE html><html lang=\"en-US\"><head><meta name=\"viewport\" content=\"width=device-width\"\/><meta charSet=\"utf-8\"\/><title>IBM - United States<\/title><link rel=\"canonical\" href=\"https:\/\/www.ibm.com\/us-en\"\/><meta name=\"robots\" content=\"index,follow\"\/><meta name=\"description\" content=\"For more than a century IBM has been dedicated to every client&#x27;s success and to creating innovations that matter for the world\"\/><meta name=\"keywords\" content=\"IBM\"\/><meta http-equiv=\"X-UA-Compatible\" content=\"IE=Edge\"\/><meta http-equiv=\"Cache-Control\" content=\"no-cache, no-store, must-revalidate\"\/><meta http-equiv=\"Pragma\" content=\"no-cache\"\/><meta http-equiv=\"Expires\" content=\"0\"\/><link rel=\"icon\" href=\"\/\/www.ibm.com\/favicon.ico\"\/><meta name=\"ibmdotcom.version.react\" content=\"^1.38.0\"\/><meta name=\"ibmdotcom.version.styles\" content=\"^1.38.0\"\/><meta name=\"ibmdotcom.build.time\" content=\"2023-04-05T12:49:56.425Z\"\/><meta name=\"dcterms.date\" content=\"2015-10-01\"\/><meta name=\"dcterms.rights\" content=\"Â© Copyright IBM Corp. 2020\"\/><meta name=\"geo.country\" content=\"US\"\/><script>digitalData={\"page\":{\"category\":{\"primaryCategory\":\"SB03\"},\"pageInfo\":{\"effectiveDate\":\"2022-12-15\",\"expiryDate\":\"2027-12-15\",\"language\":\"en-us\",\"publishDate\":\"2022-12-15\",\"publisher\":\"IBM Corporation\",\"version\":\"Carbon:IBM.com Library v1.32.0\",\"ibm\":{\"contentDelivery\":\"Hand coded\",\"contentProducer\":\"Lance Tappana\",\"country\":\"us\",\"industry\":\"ZZ\",\"owner\":\"Corporate Webmaster\/New York\/IBM\",\"siteID\":\"GLOBAL\",\"subject\":\"IBM000\",\"type\":\"CT052\",\"messaging\":{\"routing\":{\"focusArea\":\"Miscellaneous - Cross IBM\",\"languageCode\":\"en\",\"regionCode\":\"US\"},\"translation\":{\"languageCode\":\"en\",\"regionCode\":\"US\"}}},\"hotjar\":{\"enabled\":0}}}};<\/script><script>\\n            window.hj=window.hj||function(){(hj.q=hj.q||[]).push(arguments)};\\n            window.hj(\\'tagRecording\\', [\\'hjLoaded\\']);\\n            document.addEventListener(\\'onMegaMenuToggle\\', e => {\\n              if(e.target.getAttribute(\"data-title\") == \\'products-solutions\\') {\\n                window.hj(\\'trigger\\', \\'MM_products-solutions\\');\\n              }\\n              if(e.target.getAttribute(\"data-title\") == \\'services-consulting\\') {\\n                window.hj(\\'trigger\\', \\'MM_services-consulting\\');\\n              }\\n              if(e.target.getAttribute(\"data-title\") == \\'learn-support\\') {\\n                window.hj(\\'trigger\\', \\'MM_learn-support\\');\\n              }\\n              if(e.target.getAttribute(\"data-title\") == \\'explore-more\\') {\\n                window.hj(\\'trigger\\', \\'MM_explore-more\\');\\n              }\\n            });\\n\\n            <\/script><script type=\"module\" src=\"https:\/\/1.www.s81c.com\/common\/carbon-for-ibm-dotcom\/tag\/v2\/alpha\/masthead.min.js\"><\/script><link rel=\"alternate\" hrefLang=\"en-us\" href=\"https:\/\/www.ibm.com\/us-en\"\/><link rel=\"alternate\" hrefLang=\"x-default\" href=\"https:\/\/www.ibm.com\"\/><link rel=\"alternate\" hrefLang=\"en-af\" href=\"https:\/\/www.ibm.com\/af-en\"\/><link rel=\"alternate\" hrefLang=\"fr-dz\" href=\"https:\/\/www.ibm.com\/dz-fr\"\/><link rel=\"alternate\" hrefLang=\"pt-ao\" href=\"https:\/\/www.ibm.com\/ao-pt\"\/><link rel=\"alternate\" hrefLang=\"en-ai\" href=\"https:\/\/www.ibm.com\/ai-en\"\/><link rel=\"alternate\" hrefLang=\"en-ag\" href=\"https:\/\/www.ibm.com\/ag-en\"\/><link rel=\"alternate\" hrefLang=\"es-ar\" href=\"https:\/\/www.ibm.com\/ar-es\"\/><link rel=\"alternate\" hrefLang=\"en-aw\" href=\"https:\/\/www.ibm.com\/aw-en\"\/><link rel=\"alternate\" hrefLang=\"en-au\" href=\"https:\/\/www.ibm.com\/au-en\"\/><link rel=\"alternate\" hrefLang=\"de-at\" href=\"https:\/\/www.ibm.com\/at-de\"\/><link rel=\"alternate\" hrefLang=\"en-bs\" href=\"https:\/\/www.ibm.com\/bs-en\"\/><link rel=\"alternate\" hrefLang=\"en-bh\" href=\"https:\/\/www.ibm.com\/bh-en\"\/><link rel=\"alternate\" hrefLang=\"en-bd\" href=\"https:\/\/www.ibm.com\/bd-en\"\/><link rel=\"alternate\" hrefLang=\"en-bb\" href=\"https:\/\/www.ibm.com\/bb-en\"\/><link rel=\"alternate\" hrefLang=\"en-be\" href=\"https:\/\/www.ibm.com\/be-en\"\/><link rel=\"alternate\" hrefLang=\"en-bm\" href=\"https:\/\/www.ibm.com\/bm-en\"\/><link rel=\"alternate\" hrefLang=\"es-bo\" href=\"https:\/\/www.ibm.com\/bo-es\"\/><link rel=\"alternate\" hrefLang=\"en-bw\" href=\"https:\/\/www.ibm.com\/bw-en\"\/><link rel=\"alternate\" hrefLang=\"pt-br\" href=\"https:\/\/www.ibm.com\/br-pt\"\/><link rel=\"alternate\" hrefLang=\"en-vg\" href=\"https:\/\/www.ibm.com\/vg-en\"\/><link rel=\"alternate\" hrefLang=\"en-bn\" href=\"https:\/\/www.ibm.com\/bn-en\"\/><link rel=\"alternate\" hrefLang=\"en-bg\" href=\"https:\/\/www.ibm.com\/bg-en\"\/><link rel=\"alternate\" hrefLang=\"fr-bf\" href=\"https:\/\/www.ibm.com\/bf-fr\"\/><link rel=\"alternate\" hrefLang=\"en-kh\" href=\"https:\/\/www.ibm.com\/kh-en\"\/><link rel=\"alternate\" hrefLang=\"fr-cm\" href=\"https:\/\/www.ibm.com\/cm-fr\"\/><link rel=\"alternate\" hrefLang=\"en-ca\" href=\"https:\/\/www.ibm.com\/ca-en\"\/><link rel=\"alternate\" hrefLang=\"fr-ca\" href=\"https:\/\/www.ibm.com\/ca-fr\"\/><link rel=\"alternate\" hrefLang=\"en-ky\" href=\"https:\/\/www.ibm.com\/ky-en\"\/><link rel=\"alternate\" hrefLang=\"fr-td\" href=\"https:\/\/www.ibm.com\/td-fr\"\/><link rel=\"alternate\" hrefLang=\"es-cl\" href=\"https:\/\/www.ibm.com\/cl-es\"\/><link rel=\"alternate\" hrefLang=\"zh-cn\" href=\"https:\/\/www.ibm.com\/cn-zh\"\/><link rel=\"alternate\" hrefLang=\"es-co\" href=\"https:\/\/www.ibm.com\/co-es\"\/><link rel=\"alternate\" hrefLang=\"fr-cd\" href=\"https:\/\/www.ibm.com\/cd-fr\"\/><link rel=\"alternate\" hrefLang=\"fr-cg\" href=\"https:\/\/www.ibm.com\/cg-fr\"\/><link rel=\"alternate\" hrefLang=\"es-cr\" href=\"https:\/\/www.ibm.com\/cr-es\"\/><link rel=\"alternate\" hrefLang=\"en-hr\" href=\"https:\/\/www.ibm.com\/hr-en\"\/><link rel=\"alternate\" hrefLang=\"en-cw\" href=\"https:\/\/www.ibm.com\/cw-en\"\/><link rel=\"alternate\" hrefLang=\"en-cy\" href=\"https:\/\/www.ibm.com\/cy-en\"\/><link rel=\"alternate\" hrefLang=\"en-cz\" href=\"https:\/\/www.ibm.com\/cz-en\"\/><link rel=\"alternate\" hrefLang=\"en-dm\" href=\"https:\/\/www.ibm.com\/dm-en\"\/><link rel=\"alternate\" hrefLang=\"en-dk\" href=\"https:\/\/www.ibm.com\/dk-en\"\/><link rel=\"alternate\" hrefLang=\"es-ec\" href=\"https:\/\/www.ibm.com\/ec-es\"\/><link rel=\"alternate\" hrefLang=\"en-eg\" href=\"https:\/\/www.ibm.com\/eg-en\"\/><link rel=\"alternate\" hrefLang=\"en-ee\" href=\"https:\/\/www.ibm.com\/ee-en\"\/><link rel=\"alternate\" hrefLang=\"en-et\" href=\"https:\/\/www.ibm.com\/et-en\"\/><link rel=\"alternate\" hrefLang=\"en-fi\" href=\"https:\/\/www.ibm.com\/fi-en\"\/><link rel=\"alternate\" hrefLang=\"fr-fr\" href=\"https:\/\/www.ibm.com\/fr-fr\"\/><link rel=\"alternate\" hrefLang=\"fr-ga\" href=\"https:\/\/www.ibm.com\/ga-fr\"\/><link rel=\"alternate\" hrefLang=\"de-de\" href=\"https:\/\/www.ibm.com\/de-de\"\/><link rel=\"alternate\" hrefLang=\"en-gh\" href=\"https:\/\/www.ibm.com\/gh-en\"\/><link rel=\"alternate\" hrefLang=\"en-gr\" href=\"https:\/\/www.ibm.com\/gr-en\"\/><link rel=\"alternate\" hrefLang=\"en-gd\" href=\"https:\/\/www.ibm.com\/gd-en\"\/><link rel=\"alternate\" hrefLang=\"en-gy\" href=\"https:\/\/www.ibm.com\/gy-en\"\/><link rel=\"alternate\" hrefLang=\"en-hk\" href=\"https:\/\/www.ibm.com\/hk-en\"\/><link rel=\"alternate\" hrefLang=\"en-hu\" href=\"https:\/\/www.ibm.com\/hu-en\"\/><link rel=\"alternate\" hrefLang=\"en-in\" href=\"https:\/\/www.ibm.com\/in-en\"\/><link rel=\"alternate\" hrefLang=\"en-id\" href=\"https:\/\/www.ibm.com\/id-en\"\/><link rel=\"alternate\" hrefLang=\"en-iq\" href=\"https:\/\/www.ibm.com\/iq-en\"\/><link rel=\"alternate\" hrefLang=\"en-ie\" href=\"https:\/\/www.ibm.com\/ie-en\"\/><link rel=\"alternate\" hrefLang=\"en-il\" href=\"https:\/\/www.ibm.com\/il-en\"\/><link rel=\"alternate\" hrefLang=\"it-it\" href=\"https:\/\/www.ibm.com\/it-it\"\/><link rel=\"alternate\" hrefLang=\"fr-ci\" href=\"https:\/\/www.ibm.com\/ci-fr\"\/><link rel=\"alternate\" hrefLang=\"en-jm\" href=\"https:\/\/www.ibm.com\/jm-en\"\/><link rel=\"alternate\" hrefLang=\"ja-jp\" href=\"https:\/\/www.ibm.com\/jp-ja\"\/><link rel=\"alternate\" hrefLang=\"en-jo\" href=\"https:\/\/www.ibm.com\/jo-en\"\/><link rel=\"alternate\" hrefLang=\"en-kz\" href=\"https:\/\/www.ibm.com\/kz-en\"\/><link rel=\"alternate\" hrefLang=\"en-ke\" href=\"https:\/\/www.ibm.com\/ke-en\"\/><link rel=\"alternate\" hrefLang=\"ko-kr\" href=\"https:\/\/www.ibm.com\/kr-ko\"\/><link rel=\"alternate\" hrefLang=\"en-kw\" href=\"https:\/\/www.ibm.com\/kw-en\"\/><link rel=\"alternate\" hrefLang=\"en-lv\" href=\"https:\/\/www.ibm.com\/lv-en\"\/><link rel=\"alternate\" hrefLang=\"en-lb\" href=\"https:\/\/www.ibm.com\/lb-en\"\/><link rel=\"alternate\" hrefLang=\"en-ly\" href=\"https:\/\/www.ibm.com\/ly-en\"\/><link rel=\"alternate\" hrefLang=\"en-lt\" href=\"https:\/\/www.ibm.com\/lt-en\"\/><link rel=\"alternate\" hrefLang=\"en-mw\" href=\"https:\/\/www.ibm.com\/mw-en\"\/><link rel=\"alternate\" hrefLang=\"en-my\" href=\"https:\/\/www.ibm.com\/my-en\"\/><link rel=\"alternate\" hrefLang=\"fr-mu\" href=\"https:\/\/www.ibm.com\/mu-fr\"\/><link rel=\"alternate\" hrefLang=\"es-mx\" href=\"https:\/\/www.ibm.com\/mx-es\"\/><link rel=\"alternate\" hrefLang=\"en-ms\" href=\"https:\/\/www.ibm.com\/ms-en\"\/><link rel=\"alternate\" hrefLang=\"fr-ma\" href=\"https:\/\/www.ibm.com\/ma-fr\"\/><link rel=\"alternate\" hrefLang=\"pt-mz\" href=\"https:\/\/www.ibm.com\/mz-pt\"\/><link rel=\"alternate\" hrefLang=\"en-na\" href=\"https:\/\/www.ibm.com\/na-en\"\/><link rel=\"alternate\" hrefLang=\"en-np\" href=\"https:\/\/www.ibm.com\/np-en\"\/><link rel=\"alternate\" hrefLang=\"en-nl\" href=\"https:\/\/www.ibm.com\/nl-en\"\/><link rel=\"alternate\" hrefLang=\"en-nz\" href=\"https:\/\/www.ibm.com\/nz-en\"\/><link rel=\"alternate\" hrefLang=\"fr-ne\" href=\"https:\/\/www.ibm.com\/ne-fr\"\/><link rel=\"alternate\" hrefLang=\"en-ng\" href=\"https:\/\/www.ibm.com\/ng-en\"\/><link rel=\"alternate\" hrefLang=\"en-no\" href=\"https:\/\/www.ibm.com\/no-en\"\/><link rel=\"alternate\" hrefLang=\"en-om\" href=\"https:\/\/www.ibm.com\/om-en\"\/><link rel=\"alternate\" hrefLang=\"en-pk\" href=\"https:\/\/www.ibm.com\/pk-en\"\/><link rel=\"alternate\" hrefLang=\"es-py\" href=\"https:\/\/www.ibm.com\/py-es\"\/><link rel=\"alternate\" hrefLang=\"es-pe\" href=\"https:\/\/www.ibm.com\/pe-es\"\/><link rel=\"alternate\" hrefLang=\"en-ph\" href=\"https:\/\/www.ibm.com\/ph-en\"\/><link rel=\"alternate\" hrefLang=\"pl-pl\" href=\"https:\/\/www.ibm.com\/pl-pl\"\/><link rel=\"alternate\" hrefLang=\"en-pt\" href=\"https:\/\/www.ibm.com\/pt-en\"\/><link rel=\"alternate\" hrefLang=\"en-qa\" href=\"https:\/\/www.ibm.com\/qa-en\"\/><link rel=\"alternate\" hrefLang=\"en-ro\" href=\"https:\/\/www.ibm.com\/ro-en\"\/><link rel=\"alternate\" hrefLang=\"ru-ru\" href=\"https:\/\/www.ibm.com\/ru-ru\"\/><link rel=\"alternate\" hrefLang=\"en-kn\" href=\"https:\/\/www.ibm.com\/kn-en\"\/><link rel=\"alternate\" hrefLang=\"en-lc\" href=\"https:\/\/www.ibm.com\/lc-en\"\/><link rel=\"alternate\" hrefLang=\"en-vc\" href=\"https:\/\/www.ibm.com\/vc-en\"\/><link rel=\"alternate\" hrefLang=\"en-sa\" href=\"https:\/\/www.ibm.com\/sa-en\"\/><link rel=\"alternate\" hrefLang=\"fr-sn\" href=\"https:\/\/www.ibm.com\/sn-fr\"\/><link rel=\"alternate\" hrefLang=\"en-rs\" href=\"https:\/\/www.ibm.com\/rs-en\"\/><link rel=\"alternate\" hrefLang=\"fr-sc\" href=\"https:\/\/www.ibm.com\/sc-fr\"\/><link rel=\"alternate\" hrefLang=\"en-sl\" href=\"https:\/\/www.ibm.com\/sl-en\"\/><link rel=\"alternate\" hrefLang=\"en-sg\" href=\"https:\/\/www.ibm.com\/sg-en\"\/><link rel=\"alternate\" hrefLang=\"en-sk\" href=\"https:\/\/www.ibm.com\/sk-en\"\/><link rel=\"alternate\" hrefLang=\"en-si\" href=\"https:\/\/www.ibm.com\/si-en\"\/><link rel=\"alternate\" hrefLang=\"en-za\" href=\"https:\/\/www.ibm.com\/za-en\"\/><link rel=\"alternate\" hrefLang=\"es-es\" href=\"https:\/\/www.ibm.com\/es-es\"\/><link rel=\"alternate\" hrefLang=\"en-lk\" href=\"https:\/\/www.ibm.com\/lk-en\"\/><link rel=\"alternate\" hrefLang=\"en-sr\" href=\"https:\/\/www.ibm.com\/sr-en\"\/><link rel=\"alternate\" hrefLang=\"en-se\" href=\"https:\/\/www.ibm.com\/se-en\"\/><link rel=\"alternate\" hrefLang=\"fr-ch\" href=\"https:\/\/www.ibm.com\/ch-fr\"\/><link rel=\"alternate\" hrefLang=\"de-ch\" href=\"https:\/\/www.ibm.com\/ch-de\"\/><link rel=\"alternate\" hrefLang=\"zh-tw\" href=\"https:\/\/www.ibm.com\/tw-zh\"\/><link rel=\"alternate\" hrefLang=\"en-tz\" href=\"https:\/\/www.ibm.com\/tz-en\"\/><link rel=\"alternate\" hrefLang=\"en-th\" href=\"https:\/\/www.ibm.com\/th-en\"\/><link rel=\"alternate\" hrefLang=\"en-tt\" href=\"https:\/\/www.ibm.com\/tt-en\"\/><link rel=\"alternate\" hrefLang=\"fr-tn\" href=\"https:\/\/www.ibm.com\/tn-fr\"\/><link rel=\"alternate\" hrefLang=\"tr-tr\" href=\"https:\/\/www.ibm.com\/tr-tr\"\/><link rel=\"alternate\" hrefLang=\"en-ye\" href=\"https:\/\/www.ibm.com\/ye-en\"\/><link rel=\"alternate\" hrefLang=\"en-tc\" href=\"https:\/\/www.ibm.com\/tc-en\"\/><link rel=\"alternate\" hrefLang=\"en-ua\" href=\"https:\/\/www.ibm.com\/ua-en\"\/><link rel=\"alternate\" hrefLang=\"en-ug\" href=\"https:\/\/www.ibm.com\/ug-en\"\/><link rel=\"alternate\" hrefLang=\"en-ae\" href=\"https:\/\/www.ibm.com\/ae-en\"\/><link rel=\"alternate\" hrefLang=\"en-gb\" href=\"https:\/\/www.ibm.com\/uk-en\"\/><link rel=\"alternate\" hrefLang=\"es-uy\" href=\"https:\/\/www.ibm.com\/uy-es\"\/><link rel=\"alternate\" hrefLang=\"en-uz\" href=\"https:\/\/www.ibm.com\/uz-en\"\/><link rel=\"alternate\" hrefLang=\"es-ve\" href=\"https:\/\/www.ibm.com\/ve-es\"\/><link rel=\"alternate\" hrefLang=\"en-vn\" href=\"https:\/\/www.ibm.com\/vn-en\"\/><link rel=\"alternate\" hrefLang=\"en-zm\" href=\"https:\/\/www.ibm.com\/zm-en\"\/><link rel=\"alternate\" hrefLang=\"en-zw\" href=\"https:\/\/www.ibm.com\/zw-en\"\/><meta name=\"next-head-count\" content=\"155\"\/><link rel=\"preload\" href=\".\/_next\/static\/css\/styles.9a6296ad.chunk.css\" as=\"style\"\/><link rel=\"stylesheet\" href=\".\/_next\/static\/css\/styles.9a6296ad.chunk.css\" data-n-g=\"\"\/><noscript data-n-css=\"\"><\/noscript><link rel=\"preload\" href=\".\/_next\/static\/chunks\/webpack-9a6e2dd34947de61505d.js\" as=\"script\"\/><link rel=\"preload\" href=\".\/_next\/static\/chunks\/framework.602aaa49e9cf44108ea4.js\" as=\"script\"\/><link rel=\"preload\" href=\".\/_next\/static\/chunks\/commons.04d70673b3635e2c032c.js\" as=\"script\"\/><link rel=\"preload\" href=\".\/_next\/static\/chunks\/f6078781a05fe1bcb0902d23dbbb2662c8d200b3.baa606c551593d36f912.js\" as=\"script\"\/><link rel=\"preload\" href=\".\/_next\/static\/chunks\/main-20e8e4975220bbb5666e.js\" as=\"script\"\/><link rel=\"preload\" href=\".\/_next\/static\/chunks\/styles.3461e1160e1b06bf3496.js\" as=\"script\"\/><link rel=\"preload\" href=\".\/_next\/static\/chunks\/pages\/_app-e308e6c78a93f9b5a2a4.js\" as=\"script\"\/><link rel=\"preload\" href=\".\/_next\/static\/chunks\/1c920f04.f50eb41f4d89f09b8cba.js\" as=\"script\"\/><link rel=\"preload\" href=\".\/_next\/static\/chunks\/5f6bb6fb.b7c8fc8ba1743aa7acaa.js\" as=\"script\"\/><link rel=\"preload\" href=\".\/_next\/static\/chunks\/8f19d780.5fa18abdb131962d1cc4.js\" as=\"script\"\/><link rel=\"preload\" href=\".\/_next\/static\/chunks\/8edc3fe5.82abc186386cef91e9b2.js\" as=\"script\"\/><link rel=\"preload\" href=\".\/_next\/static\/chunks\/fc20e1c4.d98d23767340a1237305.js\" as=\"script\"\/><link rel=\"preload\" href=\".\/_next\/static\/chunks\/90141894.85594eb6a9acdd782abf.js\" as=\"script\"\/><link rel=\"preload\" href=\".\/_next\/static\/chunks\/bc80632e.9a80bcc8415ae464fab2.js\" as=\"script\"\/><link rel=\"preload\" href=\".\/_next\/static\/chunks\/1dd0fb51.f16e33f7e2db3449d18e.js\" as=\"script\"\/><link rel=\"preload\" href=\".\/_next\/static\/chunks\/500f7593.4b01426721d5ac82f9ba.js\" as=\"script\"\/><link rel=\"preload\" href=\".\/_next\/static\/chunks\/5d8d49e442f4e00190cb1a13966c1f91ed87c0f4.913e5d188c252db9d171.js\" as=\"script\"\/><link rel=\"preload\" href=\".\/_next\/static\/chunks\/11.f003844d8f71e73157c2.js\" as=\"script\"\/><link rel=\"preload\" href=\".\/_next\/static\/chunks\/pages\/index-c9e08ed78998acd87c11.js\" as=\"script\"\/><\/head><body><div id=\"__next\"><div><div class=\"bx--dotcom-shell\"><main class=\"dds-ce-demo--ui-shell-content\"><div><dds-masthead-container\\n                      data-endpoint=\"\/common\/carbon-for-ibm-dotcom\/translations\/masthead-footer\/v2\"\\n                      auth-method=\"profile-api\"\\n                      has-contact=\"false\">\\n                  <\/dds-masthead-container><\/div><div class=\"newsflash-placeholder\"><\/div><div data-autoid=\"dds--leadspace-with-cta\" class=\"bx--leadspace bx--leadspace--super bx--leadspace-with-ctas\"><section class=\"bx--leadspace__section bx--leadspace--white\"><div class=\"bx--leadspace__container\"><div class=\"bx--grid\"><div class=\"bx--row\"><div class=\"bx--col-sm-4 bx--col-md-8 bx--col-lg-8\"><div class=\"bx--leadspace--content__container\"><div class=\"bx--leadspace__row\"><h1 class=\"bx--leadspace__title\">What if AI could transform the fan experience?<\/h1><\/div><div class=\"bx--leadspace__content\"><div class=\"bx--leadspace__row\"><p data-autoid=\"dds--leadspace__desc\" class=\"bx--leadspace__desc\"><\/p><\/div><ol class=\"bx--buttongroup\" data-autoid=\"dds--button-group\" style=\"--dds--button-group--item-count:1\"><li class=\"bx--buttongroup-item\"><a id=\"ls-cta-control\" data-autoid=\"dds--button-group-0\" copy=\"Watch the video\" tabindex=\"0\" data-videoid=\"\" class=\"bx--btn bx--btn--primary bx--btn--expressive\" href=\"#\">Watch the video<svg focusable=\"false\" preserveAspectRatio=\"xMidYMid meet\" xmlns=\"http:\/\/www.w3.org\/2000\/svg\" fill=\"currentColor\" width=\"20\" height=\"20\" viewBox=\"0 0 32 32\" aria-hidden=\"true\" class=\"bx--btn__icon\"><path d=\"M11,23a1,1,0,0,1-1-1V10a1,1,0,0,1,1.4473-.8945l12,6a1,1,0,0,1,0,1.789l-12,6A1.001,1.001,0,0,1,11,23Zm1-11.3821v8.7642L20.7642,16Z\"><\/path><path d=\"M16,4A12,12,0,1,1,4,16,12,12,0,0,1,16,4m0-2A14,14,0,1,0,30,16,14,14,0,0,0,16,2Z\"><\/path><title>Play outline<\/title><\/svg><\/a><\/li><li class=\"bx--buttongroup-item bx--visually-hidden\"><a id=\"ls-cta-variation-a\" data-autoid=\"dds--button-group-0\" copy=\"Watch the video\" tabindex=\"0\" data-videoid=\"\" class=\"bx--btn bx--btn--primary bx--btn--expressive\" href=\"#\">Watch the video<svg focusable=\"false\" preserveAspectRatio=\"xMidYMid meet\" xmlns=\"http:\/\/www.w3.org\/2000\/svg\" fill=\"currentColor\" width=\"20\" height=\"20\" viewBox=\"0 0 32 32\" aria-hidden=\"true\" class=\"bx--btn__icon\"><path d=\"M11,23a1,1,0,0,1-1-1V10a1,1,0,0,1,1.4473-.8945l12,6a1,1,0,0,1,0,1.789l-12,6A1.001,1.001,0,0,1,11,23Zm1-11.3821v8.7642L20.7642,16Z\"><\/path><path d=\"M16,4A12,12,0,1,1,4,16,12,12,0,0,1,16,4m0-2A14,14,0,1,0,30,16,14,14,0,0,0,16,2Z\"><\/path><title>Play outline<\/title><\/svg><\/a><\/li><li class=\"bx--buttongroup-item bx--visually-hidden\"><a id=\"ls-cta-variation-b\" data-autoid=\"dds--button-group-0\" copy=\"Watch the video\" tabindex=\"0\" data-videoid=\"\" class=\"bx--btn bx--btn--primary bx--btn--expressive\" href=\"#\">Watch the video<svg focusable=\"false\" preserveAspectRatio=\"xMidYMid meet\" xmlns=\"http:\/\/www.w3.org\/2000\/svg\" fill=\"currentColor\" width=\"20\" height=\"20\" viewBox=\"0 0 32 32\" aria-hidden=\"true\" class=\"bx--btn__icon\"><path d=\"M11,23a1,1,0,0,1-1-1V10a1,1,0,0,1,1.4473-.8945l12,6a1,1,0,0,1,0,1.789l-12,6A1.001,1.001,0,0,1,11,23Zm1-11.3821v8.7642L20.7642,16Z\"><\/path><path d=\"M16,4A12,12,0,1,1,4,16,12,12,0,0,1,16,4m0-2A14,14,0,1,0,30,16,14,14,0,0,0,16,2Z\"><\/path><title>Play outline<\/title><\/svg><\/a><\/li><li class=\"bx--buttongroup-item bx--visually-hidden\"><a id=\"ls-cta-variation-c\" data-autoid=\"dds--button-group-0\" copy=\"Watch the video\" tabindex=\"0\" data-videoid=\"\" class=\"bx--btn bx--btn--primary bx--btn--expressive\" href=\"#\">Watch the video<svg focusable=\"false\" preserveAspectRatio=\"xMidYMid meet\" xmlns=\"http:\/\/www.w3.org\/2000\/svg\" fill=\"currentColor\" width=\"20\" height=\"20\" viewBox=\"0 0 32 32\" aria-hidden=\"true\" class=\"bx--btn__icon\"><path d=\"M11,23a1,1,0,0,1-1-1V10a1,1,0,0,1,1.4473-.8945l12,6a1,1,0,0,1,0,1.789l-12,6A1.001,1.001,0,0,1,11,23Zm1-11.3821v8.7642L20.7642,16Z\"><\/path><path d=\"M16,4A12,12,0,1,1,4,16,12,12,0,0,1,16,4m0-2A14,14,0,1,0,30,16,14,14,0,0,0,16,2Z\"><\/path><title>Play outline<\/title><\/svg><\/a><\/li><li class=\"bx--buttongroup-item bx--visually-hidden\"><a id=\"ls-cta-variation-d\" data-autoid=\"dds--button-group-0\" copy=\"Watch the video\" tabindex=\"0\" data-videoid=\"\" class=\"bx--btn bx--btn--primary bx--btn--expressive\" href=\"#\">Watch the video<svg focusable=\"false\" preserveAspectRatio=\"xMidYMid meet\" xmlns=\"http:\/\/www.w3.org\/2000\/svg\" fill=\"currentColor\" width=\"20\" height=\"20\" viewBox=\"0 0 32 32\" aria-hidden=\"true\" class=\"bx--btn__icon\"><path d=\"M11,23a1,1,0,0,1-1-1V10a1,1,0,0,1,1.4473-.8945l12,6a1,1,0,0,1,0,1.789l-12,6A1.001,1.001,0,0,1,11,23Zm1-11.3821v8.7642L20.7642,16Z\"><\/path><path d=\"M16,4A12,12,0,1,1,4,16,12,12,0,0,1,16,4m0-2A14,14,0,1,0,30,16,14,14,0,0,0,16,2Z\"><\/path><title>Play outline<\/title><\/svg><\/a><\/li><li class=\"bx--buttongroup-item bx--visually-hidden\"><a id=\"ls-cta-variation-e\" data-autoid=\"dds--button-group-0\" copy=\"Read the Threat Intelligence report\" tabindex=\"0\" data-videoid=\"\" class=\"bx--btn bx--btn--primary bx--btn--expressive\" href=\"https:\/\/www.ibm.com\/reports\/threat-intelligence\">Read the Threat Intelligence report<svg focusable=\"false\" preserveAspectRatio=\"xMidYMid meet\" xmlns=\"http:\/\/www.w3.org\/2000\/svg\" fill=\"currentColor\" width=\"20\" height=\"20\" viewBox=\"0 0 32 32\" aria-hidden=\"true\" class=\"bx--btn__icon\"><path d=\"M18 6L16.57 7.393 24.15 15 4 15 4 17 24.15 17 16.57 24.573 18 26 28 16 18 6z\"><\/path><title>Arrow right<\/title><\/svg><\/a><\/li><\/ol><\/div><\/div><\/div><div class=\"bx--col-sm-4 bx--col-md-8 bx--col-lg-8\"><div class=\"bx--image\" data-autoid=\"dds--image__longdescription\"><picture><source media=\"(min-width: 1056px)\" srcSet=\"https:\/\/1.dam.s81c.com\/p\/0b52088cc24c2f37\/CS_the_transform_masters_question_30_prores_frame00.png.global.mr_5x4.jpg\"\/><source media=\"(min-width: 672px)\" srcSet=\"https:\/\/1.dam.s81c.com\/p\/0b52088cc24c2f37\/CS_the_transform_masters_question_30_prores_frame00.png.global.m_16x9.jpg\"\/><source media=\"(min-width: 320px)\" srcSet=\"https:\/\/1.dam.s81c.com\/p\/0b52088cc24c2f37\/CS_the_transform_masters_question_30_prores_frame00.png.global.s_16x9.jpg\"\/><img class=\"bx--image__img\" src=\"https:\/\/1.dam.s81c.com\/p\/0b52088cc24c2f37\/CS_the_transform_masters_question_30_prores_frame00.png.global.mr_5x4.jpg\" alt=\"Close-up of golf ball on a green course\"\/><\/picture><\/div><\/div><\/div><\/div><\/div><\/section><section class=\"bx--leadspace__cta-section\"><div class=\"bx--grid bx--grid--condensed\"><div data-autoid=\"dds--card-group\" class=\"bx--card-group__cards__row bx--row--condensed\" style=\"--dds--card-group--cards-in-row:4\"><div class=\"bx--card-group__cards__col\"><div class=\"bx--card-group__card\"><div class=\"bx--tile bx--card bx--card-link bx--card__CTA bx--card__CardCTA\" data-autoid=\"dds--card\" href=\"https:\/\/www.ibm.com\/resources\/consulting\/experience-transformation\"><div class=\"bx--card__wrapper\"><div class=\"bx--card__content\"><p class=\"bx--card__eyebrow\">Resource<\/p><div class=\"bx--card__copy\"><p>Experience data-driven CX<\/p> <\/div><a class=\"bx--link bx--card__footer\" href=\"https:\/\/www.ibm.com\/resources\/consulting\/experience-transformation\" aria-label=\"Experience data-driven CX\"><svg focusable=\"false\" preserveAspectRatio=\"xMidYMid meet\" xmlns=\"http:\/\/www.w3.org\/2000\/svg\" fill=\"currentColor\" src=\"[object Object]\" width=\"20\" height=\"20\" viewBox=\"0 0 20 20\" aria-hidden=\"true\" class=\"bx--card__cta\"><path d=\"M11.8 2.8L10.8 3.8 16.2 9.3 1 9.3 1 10.7 16.2 10.7 10.8 16.2 11.8 17.2 19 10z\"><\/path><\/svg><\/a><\/div><\/div><\/div><\/div><\/div><div class=\"bx--card-group__cards__col\"><div class=\"bx--card-group__card\"><div class=\"bx--tile bx--card bx--card-link bx--card__CTA bx--card__CardCTA\" data-autoid=\"dds--card\" href=\"https:\/\/www.ibm.com\/resources\/consulting\/operational-efficiency\"><div class=\"bx--card__wrapper\"><div class=\"bx--card__content\"><p class=\"bx--card__eyebrow\">Resource<\/p><div class=\"bx--card__copy\"><p>Streamline business operations<\/p> <\/div><a class=\"bx--link bx--card__footer\" href=\"https:\/\/www.ibm.com\/resources\/consulting\/operational-efficiency\" aria-label=\"Streamline business operations\"><svg focusable=\"false\" preserveAspectRatio=\"xMidYMid meet\" xmlns=\"http:\/\/www.w3.org\/2000\/svg\" fill=\"currentColor\" src=\"[object Object]\" width=\"20\" height=\"20\" viewBox=\"0 0 20 20\" aria-hidden=\"true\" class=\"bx--card__cta\"><path d=\"M11.8 2.8L10.8 3.8 16.2 9.3 1 9.3 1 10.7 16.2 10.7 10.8 16.2 11.8 17.2 19 10z\"><\/path><\/svg><\/a><\/div><\/div><\/div><\/div><\/div><div class=\"bx--card-group__cards__col\"><div class=\"bx--card-group__card\"><div class=\"bx--tile bx--card bx--card-link bx--card__CTA bx--card__CardCTA\" data-autoid=\"dds--card\" href=\"https:\/\/www.ibm.com\/resources\/consulting\/hybrid-cloud-services\"><div class=\"bx--card__wrapper\"><div class=\"bx--card__content\"><p class=\"bx--card__eyebrow\">Service<\/p><div class=\"bx--card__copy\"><p>Build your hybrid cloud strategy<\/p> <\/div><a class=\"bx--link bx--card__footer\" href=\"https:\/\/www.ibm.com\/resources\/consulting\/hybrid-cloud-services\" aria-label=\"Build your hybrid cloud strategy\"><svg focusable=\"false\" preserveAspectRatio=\"xMidYMid meet\" xmlns=\"http:\/\/www.w3.org\/2000\/svg\" fill=\"currentColor\" src=\"[object Object]\" width=\"20\" height=\"20\" viewBox=\"0 0 20 20\" aria-hidden=\"true\" class=\"bx--card__cta\"><path d=\"M11.8 2.8L10.8 3.8 16.2 9.3 1 9.3 1 10.7 16.2 10.7 10.8 16.2 11.8 17.2 19 10z\"><\/path><\/svg><\/a><\/div><\/div><\/div><\/div><\/div><div class=\"bx--card-group__cards__col\"><div class=\"bx--card-group__card\"><div class=\"bx--tile bx--card bx--card-link bx--card__CTA bx--card__CardCTA\" data-autoid=\"dds--card\" href=\"https:\/\/www.ibm.com\/consulting\"><div class=\"bx--card__wrapper\"><div class=\"bx--card__content\"><p class=\"bx--card__eyebrow\">Explore<\/p><div class=\"bx--card__copy\"><p>Collaborate with IBM<\/p> <\/div><a class=\"bx--link bx--card__footer\" href=\"https:\/\/www.ibm.com\/consulting\" aria-label=\"Collaborate with IBM\"><svg focusable=\"false\" preserveAspectRatio=\"xMidYMid meet\" xmlns=\"http:\/\/www.w3.org\/2000\/svg\" fill=\"currentColor\" src=\"[object Object]\" width=\"20\" height=\"20\" viewBox=\"0 0 20 20\" aria-hidden=\"true\" class=\"bx--card__cta\"><path d=\"M11.8 2.8L10.8 3.8 16.2 9.3 1 9.3 1 10.7 16.2 10.7 10.8 16.2 11.8 17.2 19 10z\"><\/path><\/svg><\/a><\/div><\/div><\/div><\/div><\/div><\/div><\/div><\/section><\/div><hr data-autoid=\"dds--hr\" class=\"bx--hr bx--hr--low-contrast\"\/><div id=\"main-content\" style=\"background-color:#FFF\"><div><div class=\"ibm-br--toc-section\"><section data-autoid=\"dds--tableofcontents\" class=\"bx--tableofcontents bx--tableofcontents--white\"><div class=\"dds-ce--table-of-contents__container\"><div class=\"bx--tableofcontents__sidebar\"><div class=\"bx--tableofcontents__mobile-top\"><\/div><div style=\"position:sticky;top:64px\"><div class=\"bx--tableofcontents__desktop\" data-autoid=\"dds--tableofcontents__desktop\"><ul><\/ul><\/div><div class=\"bx--tableofcontents__mobile\" data-autoid=\"dds--tableofcontents__mobile\"><div class=\"bx--tableofcontents__mobile__select__wrapper\"><select aria-label=\"Jump to\" class=\"bx--tableofcontents__mobile__select\"><option selected=\"\" class=\"bx--tableofcontents__mobile__select__option\" data-autoid=\"dds--tableofcontents__mobile__select__option-menuLabel\" value=\"menuLabel\" disabled=\"\" hidden=\"\">Jump to ...<\/option><\/select><svg focusable=\"false\" preserveAspectRatio=\"xMidYMid meet\" xmlns=\"http:\/\/www.w3.org\/2000\/svg\" fill=\"currentColor\" aria-label=\"menu icon\" width=\"20\" height=\"20\" viewBox=\"0 0 32 32\" role=\"img\" class=\"bx--tableofcontents__mobile__select__icon\"><path d=\"M4 6H22V8H4zM4 12H22V14H4zM4 18H22V20H4zM4 24H22V26H4zM26 6H28V8H26zM26 12H28V14H26zM26 18H28V20H26zM26 24H28V26H26z\"><\/path><title>menu icon<\/title><\/svg><\/div><\/div><\/div><\/div><div class=\"bx--tableofcontents__content\"><div class=\"bx--tableofcontents__content-wrapper\"><a name=\"welcome\" data-title=\"IBM in action\"><\/a><div class=\"bx--custom-intro-section ibm--fade\"><div data-autoid=\"dds--content-block\" class=\"bx--content-block\"><h2 data-autoid=\"dds--content-block__heading\" class=\"bx--content-block__heading\">More ways to create with IBM<\/h2><div data-autoid=\"dds--content-block__children\" class=\"bx--content-block__children\"><div class=\"bx--content-block-simple__content\"><div class=\"bx--content-item\" data-autoid=\"dds--content-item\"><div data-autoid=\"dds--content-item__copy\" class=\"bx--content-item__copy\"><p>We enable people, ideas and technologies to make the world work better through hybrid cloud and AI<\/p><\/div><\/div><\/div><div class=\"bx--content-block-cards__content\"><div data-autoid=\"dds--card-group\" class=\"bx--card-group__cards__row bx--row--condensed\"><div id=\"more-video-card-1-cta-1\" class=\"bx--card-group__cards__col bx--visually-hidden\"><div class=\"bx--card-group__card\"><div class=\"bx--tile bx--card\" data-autoid=\"dds--card\"><div class=\"bx--image\" data-autoid=\"dds--image__longdescription\"><picture><img class=\"bx--image__img bx--card__img\" src=\"https:\/\/1.dam.s81c.com\/p\/0b52088cc24c2f37\/CS_the_transform_masters_question_30_prores_frame00.png.global.mr_5x4.jpg\" alt=\"Aerial view of the Masters golf course with the leader-board\"\/><\/picture><\/div><div class=\"bx--card__wrapper\"><div class=\"bx--card__content\"><div class=\"bx--card__copy\"><p>Transforming the fan experience<\/p> <\/div><a class=\"bx--link bx--card__footer bx--card__footer__copy\" href=\"#\" aria-label=\"\"><span class=\"bx--card__cta__copy\">Watch the video<\/span><svg focusable=\"false\" preserveAspectRatio=\"xMidYMid meet\" xmlns=\"http:\/\/www.w3.org\/2000\/svg\" fill=\"currentColor\" width=\"20\" height=\"20\" viewBox=\"0 0 32 32\" aria-hidden=\"true\" class=\"bx--btn__icon\"><path d=\"M11,23a1,1,0,0,1-1-1V10a1,1,0,0,1,1.4473-.8945l12,6a1,1,0,0,1,0,1.789l-12,6A1.001,1.001,0,0,1,11,23Zm1-11.3821v8.7642L20.7642,16Z\"><\/path><path d=\"M16,4A12,12,0,1,1,4,16,12,12,0,0,1,16,4m0-2A14,14,0,1,0,30,16,14,14,0,0,0,16,2Z\"><\/path><title>Play outline<\/title><\/svg><\/a><\/div><\/div><\/div><\/div><\/div><div id=\"more-video-card-2-cta-1\" class=\"bx--card-group__cards__col \"><div class=\"bx--card-group__card\"><div class=\"bx--tile bx--card\" data-autoid=\"dds--card\"><div class=\"bx--image\" data-autoid=\"dds--image__longdescription\"><picture><img class=\"bx--image__img bx--card__img\" src=\"https:\/\/1.dam.s81c.com\/p\/0b526ddf40c4140c\/CS_The_Sustainability_Building_Question_30_ProRes-frame-07-00.png.global.sr_5x4.png\" alt=\"View of the sky between skyscrapers\"\/><\/picture><\/div><div class=\"bx--card__wrapper\"><div class=\"bx--card__content\"><div class=\"bx--card__copy\"><p>Use data to save energy, money and the planet<\/p> <\/div><a class=\"bx--link bx--card__footer bx--card__footer__copy\" href=\"#\" aria-label=\"\"><span class=\"bx--card__cta__copy\">Watch the video<\/span><svg focusable=\"false\" preserveAspectRatio=\"xMidYMid meet\" xmlns=\"http:\/\/www.w3.org\/2000\/svg\" fill=\"currentColor\" width=\"20\" height=\"20\" viewBox=\"0 0 32 32\" aria-hidden=\"true\" class=\"bx--btn__icon\"><path d=\"M11,23a1,1,0,0,1-1-1V10a1,1,0,0,1,1.4473-.8945l12,6a1,1,0,0,1,0,1.789l-12,6A1.001,1.001,0,0,1,11,23Zm1-11.3821v8.7642L20.7642,16Z\"><\/path><path d=\"M16,4A12,12,0,1,1,4,16,12,12,0,0,1,16,4m0-2A14,14,0,1,0,30,16,14,14,0,0,0,16,2Z\"><\/path><title>Play outline<\/title><\/svg><\/a><\/div><\/div><\/div><\/div><\/div><div id=\"more-video-card-3-cta-1\" class=\"bx--card-group__cards__col \"><div class=\"bx--card-group__card\"><div class=\"bx--tile bx--card\" data-autoid=\"dds--card\"><div class=\"bx--image\" data-autoid=\"dds--image__longdescription\"><picture><img class=\"bx--image__img bx--card__img\" src=\"https:\/\/1.dam.s81c.com\/p\/0b52088cc24c2f41\/CS_The_Modernize_Banking_Question_V1_30_ProRes_frame-00-06.png.global.sr_5x4.png\" alt=\"Person working in office behind computer screen\"\/><\/picture><\/div><div class=\"bx--card__wrapper\"><div class=\"bx--card__content\"><div class=\"bx--card__copy\"><p>Connect data across systems<\/p> <\/div><a class=\"bx--link bx--card__footer bx--card__footer__copy\" href=\"#\" aria-label=\"\"><span class=\"bx--card__cta__copy\">Watch the video<\/span><svg focusable=\"false\" preserveAspectRatio=\"xMidYMid meet\" xmlns=\"http:\/\/www.w3.org\/2000\/svg\" fill=\"currentColor\" width=\"20\" height=\"20\" viewBox=\"0 0 32 32\" aria-hidden=\"true\" class=\"bx--btn__icon\"><path d=\"M11,23a1,1,0,0,1-1-1V10a1,1,0,0,1,1.4473-.8945l12,6a1,1,0,0,1,0,1.789l-12,6A1.001,1.001,0,0,1,11,23Zm1-11.3821v8.7642L20.7642,16Z\"><\/path><path d=\"M16,4A12,12,0,1,1,4,16,12,12,0,0,1,16,4m0-2A14,14,0,1,0,30,16,14,14,0,0,0,16,2Z\"><\/path><title>Play outline<\/title><\/svg><\/a><\/div><\/div><\/div><\/div><\/div><div id=\"more-video-card-4-cta-1\" class=\"bx--card-group__cards__col \"><div class=\"bx--card-group__card\"><div class=\"bx--tile bx--card\" data-autoid=\"dds--card\"><div class=\"bx--image\" data-autoid=\"dds--image__longdescription\"><picture><img class=\"bx--image__img bx--card__img\" src=\"https:\/\/1.dam.s81c.com\/p\/0b52088cc24c2f3d\/CS-The-Automate-Beer-Question-30_ProRes_frame-13-22.png.global.sr_5x4.png\" alt=\"Workers in a tap room\"\/><\/picture><\/div><div class=\"bx--card__wrapper\"><div class=\"bx--card__content\"><div class=\"bx--card__copy\"><p>Automate a supply chain that delivers<\/p> <\/div><a class=\"bx--link bx--card__footer bx--card__footer__copy\" href=\"#\" aria-label=\"\"><span class=\"bx--card__cta__copy\">Watch the video<\/span><svg focusable=\"false\" preserveAspectRatio=\"xMidYMid meet\" xmlns=\"http:\/\/www.w3.org\/2000\/svg\" fill=\"currentColor\" width=\"20\" height=\"20\" viewBox=\"0 0 32 32\" aria-hidden=\"true\" class=\"bx--btn__icon\"><path d=\"M11,23a1,1,0,0,1-1-1V10a1,1,0,0,1,1.4473-.8945l12,6a1,1,0,0,1,0,1.789l-12,6A1.001,1.001,0,0,1,11,23Zm1-11.3821v8.7642L20.7642,16Z\"><\/path><path d=\"M16,4A12,12,0,1,1,4,16,12,12,0,0,1,16,4m0-2A14,14,0,1,0,30,16,14,14,0,0,0,16,2Z\"><\/path><title>Play outline<\/title><\/svg><\/a><\/div><\/div><\/div><\/div><\/div><div id=\"more-video-card-5-cta-1\" class=\"bx--card-group__cards__col bx--visually-hidden\"><div class=\"bx--card-group__card\"><div class=\"bx--tile bx--card\" data-autoid=\"dds--card\"><div class=\"bx--image\" data-autoid=\"dds--image__longdescription\"><picture><img class=\"bx--image__img bx--card__img\" src=\"https:\/\/1.dam.s81c.com\/p\/0b52088cc24c2f35\/CS_The_Modernize_Banking_Question_V1_30_ProRes-frame-04-30.png.global.sr_5x4.png\" alt=\"Person sitting behind a desk in an office\"\/><\/picture><\/div><div class=\"bx--card__wrapper\"><div class=\"bx--card__content\"><div class=\"bx--card__copy\"><p>Make analyzing data no big deal<\/p> <\/div><a class=\"bx--link bx--card__footer bx--card__footer__copy\" href=\"#\" aria-label=\"\"><span class=\"bx--card__cta__copy\">Watch the video<\/span><svg focusable=\"false\" preserveAspectRatio=\"xMidYMid meet\" xmlns=\"http:\/\/www.w3.org\/2000\/svg\" fill=\"currentColor\" width=\"20\" height=\"20\" viewBox=\"0 0 32 32\" aria-hidden=\"true\" class=\"bx--btn__icon\"><path d=\"M11,23a1,1,0,0,1-1-1V10a1,1,0,0,1,1.4473-.8945l12,6a1,1,0,0,1,0,1.789l-12,6A1.001,1.001,0,0,1,11,23Zm1-11.3821v8.7642L20.7642,16Z\"><\/path><path d=\"M16,4A12,12,0,1,1,4,16,12,12,0,0,1,16,4m0-2A14,14,0,1,0,30,16,14,14,0,0,0,16,2Z\"><\/path><title>Play outline<\/title><\/svg><\/a><\/div><\/div><\/div><\/div><\/div><\/div><\/div><\/div><\/div><\/div><a name=\"Technology\" id=\"ibm-hp--tech-section\" data-title=\"Technology\"><\/a><div class=\"ibm--fade\"><div class=\"bx--custom-widget-band-header\"><h2 class=\"bx--type-productive-heading-07\">Explore our technology<\/h2><\/div><div class=\"bx--widget-container\" id=\"product-explorer-main-offering\" data-widget=\"product-explorer-main-offering\" data-localecode=\"en-us\" data-full-width=\"true\"><\/div><\/div><a name=\"inside-ibm\" data-title=\"Inside IBM\"><\/a><div class=\"bx--custom-cards-carousel-wrapper ibm--fade\"><div class=\"bx--custom-cards-carousel-heading\"><h2 class=\"bx--type-productive-heading-07\">Whatâ\\x80\\x99s new inside IBM<\/h2><\/div><dds-card-in-card href=\"https:\/\/www.ibm.com\/reports\/threat-intelligence\"><dds-card-in-card-image slot=\"image\" alt=\"Network of interconnected lines and circles of blue, grey, and red\" default-src=\"https:\/\/1.dam.s81c.com\/p\/0b526ddf40c413f8\/threat-index-desktop.jpg\"><dds-image-item media=\"(min-width: 1312px)\" srcset=\"[object Object]\"><\/dds-image-item><dds-image-item media=\"(min-width: 672px)\" srcset=\"[object Object]\"><\/dds-image-item><dds-image-item media=\"(min-width: 320px)\" srcset=\"[object Object]\"><\/dds-image-item><\/dds-card-in-card-image><dds-card-eyebrow>Powering the future<\/dds-card-eyebrow><dds-card-heading>Read the X-Force Threat Intelligence Index<\/dds-card-heading><dds-card-cta-footer>Get the new report<svg focusable=\"false\" preserveAspectRatio=\"xMidYMid meet\" xmlns=\"http:\/\/www.w3.org\/2000\/svg\" fill=\"currentColor\" slot=\"icon\" width=\"20\" height=\"20\" viewBox=\"0 0 20 20\" aria-hidden=\"true\"><path d=\"M11.8 2.8L10.8 3.8 16.2 9.3 1 9.3 1 10.7 16.2 10.7 10.8 16.2 11.8 17.2 19 10z\"><\/path><\/svg><\/dds-card-cta-footer><\/dds-card-in-card><div data-autoid=\"dds--card-group\" class=\"bx--card-group__cards__row bx--row--condensed\" style=\"--dds--card-group--cards-in-row:3\"><div class=\"bx--card-group__cards__col\"><div class=\"bx--card-group__card\"><div class=\"bx--tile bx--card bx--card-link bx--card__CTA bx--card__CardCTA\" data-autoid=\"dds--card\" href=\"https:\/\/www.ibm.com\/employment\/?lnk=flatitem\"><div class=\"bx--card__wrapper\"><div class=\"bx--card__content\"><h3 class=\"bx--card__heading\">Careers at IBM<\/h3><div class=\"bx--card__copy\"><p>From a safer food supply to ethical AI, your skills can help tackle the worldâ\\x80\\x99s toughest problems<\/p> <\/div><a class=\"bx--link bx--card__footer\" href=\"https:\/\/www.ibm.com\/employment\/?lnk=flatitem\" aria-label=\"Careers at IBM\"><svg focusable=\"false\" preserveAspectRatio=\"xMidYMid meet\" xmlns=\"http:\/\/www.w3.org\/2000\/svg\" fill=\"currentColor\" src=\"[object Object]\" width=\"20\" height=\"20\" viewBox=\"0 0 20 20\" aria-hidden=\"true\" class=\"bx--card__cta\"><path d=\"M11.8 2.8L10.8 3.8 16.2 9.3 1 9.3 1 10.7 16.2 10.7 10.8 16.2 11.8 17.2 19 10z\"><\/path><\/svg><\/a><\/div><\/div><\/div><\/div><\/div><div class=\"bx--card-group__cards__col\"><div class=\"bx--card-group__card\"><div class=\"bx--tile bx--card bx--card-link bx--card__CTA bx--card__CardCTA\" data-autoid=\"dds--card\" href=\"https:\/\/www.ibm.com\/impact\"><div class=\"bx--card__wrapper\"><div class=\"bx--card__content\"><h3 class=\"bx--card__heading\">Corporate social responsibility<\/h3><div class=\"bx--card__copy\"><p>IBM aspires to make a positive impact on the world, and the places where we work and live<\/p> <\/div><a class=\"bx--link bx--card__footer\" href=\"https:\/\/www.ibm.com\/impact\" aria-label=\"Corporate social responsibility\"><svg focusable=\"false\" preserveAspectRatio=\"xMidYMid meet\" xmlns=\"http:\/\/www.w3.org\/2000\/svg\" fill=\"currentColor\" src=\"[object Object]\" width=\"20\" height=\"20\" viewBox=\"0 0 20 20\" aria-hidden=\"true\" class=\"bx--card__cta\"><path d=\"M11.8 2.8L10.8 3.8 16.2 9.3 1 9.3 1 10.7 16.2 10.7 10.8 16.2 11.8 17.2 19 10z\"><\/path><\/svg><\/a><\/div><\/div><\/div><\/div><\/div><div class=\"bx--card-group__cards__col\"><div class=\"bx--card-group__card\"><div class=\"bx--tile bx--card bx--card-link bx--card__CTA bx--card__CardCTA\" data-autoid=\"dds--card\" href=\"https:\/\/research.ibm.com\/\"><div class=\"bx--card__wrapper\"><div class=\"bx--card__content\"><h3 class=\"bx--card__heading\">IBM Research<\/h3><div class=\"bx--card__copy\"><p>Around the globe, 3,000 IBM scientists and design thinkers are inventing whatâ\\x80\\x99s next in computing<\/p> <\/div><a class=\"bx--link bx--card__footer\" href=\"https:\/\/research.ibm.com\/\" aria-label=\"IBM Research\"><svg focusable=\"false\" preserveAspectRatio=\"xMidYMid meet\" xmlns=\"http:\/\/www.w3.org\/2000\/svg\" fill=\"currentColor\" src=\"[object Object]\" width=\"20\" height=\"20\" viewBox=\"0 0 20 20\" aria-hidden=\"true\" class=\"bx--card__cta\"><path d=\"M11.8 2.8L10.8 3.8 16.2 9.3 1 9.3 1 10.7 16.2 10.7 10.8 16.2 11.8 17.2 19 10z\"><\/path><\/svg><\/a><\/div><\/div><\/div><\/div><\/div><\/div><\/div><a name=\"consulting\" data-title=\"Consulting\"><\/a><div class=\"ibm--spacer\"><\/div><div class=\"ibm--fade bx--custom-band-consulting\"><h2 class=\"bx--type-productive-heading-07\">Consulting<\/h2><dds-tabs-extended><dds-tab label=\"Overview\"><div class=\"bx--custom-content-item bx--grid bx--no-gutter\"><div class=\"bx--row\"><div class=\"bx--custom-content-item-col-image\"><div class=\"bx--image\" data-autoid=\"dds--image__longdescription\"><picture><img class=\"bx--image__img\" src=\"https:\/\/1.dam.s81c.com\/p\/0aac9cf57bcbf324\/dotcom-1-overview.jpg.global.sr_16x9.jpg\" alt=\"Grid of diverse group of professionals\" aria-describedby=\"bx--image-2\"\/><\/picture><div id=\"bx--image-2\" class=\"bx--image__longdescription\">Grid of diverse group of professionals<\/div><\/div><\/div><div class=\"bx--custom-content-item-col-content\"><h3>Accelerate together<\/h3><p>Work shoulder to shoulder with experts to accelerate business transformation.<\/p><div class=\"bx--link-list\" data-autoid=\"dds--link-list\"><ul class=\"bx--link-list__list bx--link-list__list--vertical\"><li class=\"bx--link-list__list__CTA bx--link-list__list--local\"><div><div class=\"bx--link-with-icon__container\" data-autoid=\"dds--link-with-icon\"><a class=\"bx--link bx--link-with-icon bx--link-with-icon--inline-icon bx--link--lg\" href=\"https:\/\/www.ibm.com\/consulting\/?lnk=flathl\"><span>Explore IBM Consulting services<\/span><svg focusable=\"false\" preserveAspectRatio=\"xMidYMid meet\" xmlns=\"http:\/\/www.w3.org\/2000\/svg\" fill=\"currentColor\" width=\"20\" height=\"20\" viewBox=\"0 0 20 20\" aria-hidden=\"true\"><path d=\"M11.8 2.8L10.8 3.8 16.2 9.3 1 9.3 1 10.7 16.2 10.7 10.8 16.2 11.8 17.2 19 10z\"><\/path><\/svg><\/a><\/div><\/div><\/li><\/ul><\/div><\/div><\/div><\/div><\/dds-tab><dds-tab label=\"Strategy\"><div class=\"bx--custom-content-item bx--grid bx--no-gutter\"><div class=\"bx--row\"><div class=\"bx--custom-content-item-col-image\"><div class=\"bx--image\" data-autoid=\"dds--image__longdescription\"><picture><img class=\"bx--image__img\" src=\"https:\/\/1.dam.s81c.com\/p\/0aac9cf57c4bf381\/0935e0d55846b9ec_dotcom-2-strategy.jpg.global.m_16x9.jpg\" alt=\"professional pointing to a chart\" aria-describedby=\"bx--image-3\"\/><\/picture><div id=\"bx--image-3\" class=\"bx--image__longdescription\">professional pointing to a chart<\/div><\/div><\/div><div class=\"bx--custom-content-item-col-content\"><h3>Rethink whatâ\\x80\\x99s possible<\/h3><p>Uncover the untapped potential inside your business.<\/p><div class=\"bx--link-list\" data-autoid=\"dds--link-list\"><ul class=\"bx--link-list__list bx--link-list__list--vertical\"><li class=\"bx--link-list__list__CTA bx--link-list__list--local\"><div><div class=\"bx--link-with-icon__container\" data-autoid=\"dds--link-with-icon\"><a class=\"bx--link bx--link-with-icon bx--link-with-icon--inline-icon bx--link--lg\" href=\"https:\/\/www.ibm.com\/consulting\/strategy\/?lnk=flathl\"><span>Create your new strategy<\/span><svg focusable=\"false\" preserveAspectRatio=\"xMidYMid meet\" xmlns=\"http:\/\/www.w3.org\/2000\/svg\" fill=\"currentColor\" width=\"20\" height=\"20\" viewBox=\"0 0 20 20\" aria-hidden=\"true\"><path d=\"M11.8 2.8L10.8 3.8 16.2 9.3 1 9.3 1 10.7 16.2 10.7 10.8 16.2 11.8 17.2 19 10z\"><\/path><\/svg><\/a><\/div><\/div><\/li><\/ul><\/div><\/div><\/div><\/div><\/dds-tab><dds-tab label=\"Experience\"><div class=\"bx--custom-content-item bx--grid bx--no-gutter\"><div class=\"bx--row\"><div class=\"bx--custom-content-item-col-image\"><div class=\"bx--image\" data-autoid=\"dds--image__longdescription\"><picture><img class=\"bx--image__img\" src=\"https:\/\/1.dam.s81c.com\/p\/0aac9cf57c4bf382\/0656655b47a3af8b_dotcom-3-experience.jpg.global.sr_16x9.jpg\" alt=\"two professionals working with a whiteboard outdoors\" aria-describedby=\"bx--image-4\"\/><\/picture><div id=\"bx--image-4\" class=\"bx--image__longdescription\">two professionals working with a whiteboard outdoors<\/div><\/div><\/div><div class=\"bx--custom-content-item-col-content\"><h3>Engage at every touchpoint<\/h3><p>Reinvent your relationships with customers, employees and partners.<\/p><div class=\"bx--link-list\" data-autoid=\"dds--link-list\"><ul class=\"bx--link-list__list bx--link-list__list--vertical\"><li class=\"bx--link-list__list__CTA bx--link-list__list--local\"><div><div class=\"bx--link-with-icon__container\" data-autoid=\"dds--link-with-icon\"><a class=\"bx--link bx--link-with-icon bx--link-with-icon--inline-icon bx--link--lg\" href=\"https:\/\/www.ibm.com\/consulting\/ibmix?lnk=flathl\"><span>Transform your experiences<\/span><svg focusable=\"false\" preserveAspectRatio=\"xMidYMid meet\" xmlns=\"http:\/\/www.w3.org\/2000\/svg\" fill=\"currentColor\" width=\"20\" height=\"20\" viewBox=\"0 0 20 20\" aria-hidden=\"true\"><path d=\"M11.8 2.8L10.8 3.8 16.2 9.3 1 9.3 1 10.7 16.2 10.7 10.8 16.2 11.8 17.2 19 10z\"><\/path><\/svg><\/a><\/div><\/div><\/li><\/ul><\/div><\/div><\/div><\/div><\/dds-tab><dds-tab label=\"Technology\"><div class=\"bx--custom-content-item bx--grid bx--no-gutter\"><div class=\"bx--row\"><div class=\"bx--custom-content-item-col-image\"><div class=\"bx--image\" data-autoid=\"dds--image__longdescription\"><picture><img class=\"bx--image__img\" src=\"https:\/\/1.dam.s81c.com\/p\/0aac9cf57c4bf383\/08f9513598a70746_dotcom-4-technology.jpg.global.sr_16x9.jpg\" alt=\"professionals working with a sticky notes on a whiteboard\" aria-describedby=\"bx--image-5\"\/><\/picture><div id=\"bx--image-5\" class=\"bx--image__longdescription\">professionals working with a sticky notes on a whiteboard<\/div><\/div><\/div><div class=\"bx--custom-content-item-col-content\"><h3>The future is open<\/h3><p>From Hybrid Cloud to AI, Automation and Security, we unite an open ecosystem to help you scale impact.<\/p><div class=\"bx--link-list\" data-autoid=\"dds--link-list\"><ul class=\"bx--link-list__list bx--link-list__list--vertical\"><li class=\"bx--link-list__list__CTA bx--link-list__list--local\"><div><div class=\"bx--link-with-icon__container\" data-autoid=\"dds--link-with-icon\"><a class=\"bx--link bx--link-with-icon bx--link-with-icon--inline-icon bx--link--lg\" href=\"https:\/\/www.ibm.com\/consulting\/technology\/\"><span>Modernize with purpose<\/span><svg focusable=\"false\" preserveAspectRatio=\"xMidYMid meet\" xmlns=\"http:\/\/www.w3.org\/2000\/svg\" fill=\"currentColor\" width=\"20\" height=\"20\" viewBox=\"0 0 20 20\" aria-hidden=\"true\"><path d=\"M11.8 2.8L10.8 3.8 16.2 9.3 1 9.3 1 10.7 16.2 10.7 10.8 16.2 11.8 17.2 19 10z\"><\/path><\/svg><\/a><\/div><\/div><\/li><\/ul><\/div><\/div><\/div><\/div><\/dds-tab><dds-tab label=\"Operations\"><div class=\"bx--custom-content-item bx--grid bx--no-gutter\"><div class=\"bx--row\"><div class=\"bx--custom-content-item-col-image\"><div class=\"bx--image\" data-autoid=\"dds--image__longdescription\"><picture><img class=\"bx--image__img\" src=\"https:\/\/1.dam.s81c.com\/p\/0aac9cf57c4bf380\/0935e0d55846b9e4_dotcom-5-operations.jpg.global.sr_16x9.jpg\" alt=\"professionals having a conversation in an office\" aria-describedby=\"bx--image-6\"\/><\/picture><div id=\"bx--image-6\" class=\"bx--image__longdescription\">professionals having a conversation in an office<\/div><\/div><\/div><div class=\"bx--custom-content-item-col-content\"><h3>Optimize your operations<\/h3><p>Increase productivity and reduce costs when you optimize your operations with Ai and automation.<\/p><div class=\"bx--link-list\" data-autoid=\"dds--link-list\"><ul class=\"bx--link-list__list bx--link-list__list--vertical\"><li class=\"bx--link-list__list__CTA bx--link-list__list--local\"><div><div class=\"bx--link-with-icon__container\" data-autoid=\"dds--link-with-icon\"><a class=\"bx--link bx--link-with-icon bx--link-with-icon--inline-icon bx--link--lg\" href=\"https:\/\/www.ibm.com\/consulting\/operations\/?lnk=flathl\"><span>Reimagine operations<\/span><svg focusable=\"false\" preserveAspectRatio=\"xMidYMid meet\" xmlns=\"http:\/\/www.w3.org\/2000\/svg\" fill=\"currentColor\" width=\"20\" height=\"20\" viewBox=\"0 0 20 20\" aria-hidden=\"true\"><path d=\"M11.8 2.8L10.8 3.8 16.2 9.3 1 9.3 1 10.7 16.2 10.7 10.8 16.2 11.8 17.2 19 10z\"><\/path><\/svg><\/a><\/div><\/div><\/li><\/ul><\/div><\/div><\/div><\/div><\/dds-tab><dds-tab label=\"Partners\"><div class=\"bx--custom-content-item bx--grid bx--no-gutter\"><div class=\"bx--row\"><div class=\"bx--custom-content-item-col-image\"><div class=\"bx--image\" data-autoid=\"dds--image__longdescription\"><picture><img class=\"bx--image__img\" src=\"https:\/\/1.dam.s81c.com\/p\/0aac9cf57c4bf384\/064e0139f5a3aa3f_dotcom-6-partners.jpg.global.sr_16x9.jpg\" alt=\"group of professionals walking down stairs outdoors\" aria-describedby=\"bx--image-7\"\/><\/picture><div id=\"bx--image-7\" class=\"bx--image__longdescription\">group of professionals walking down stairs outdoors<\/div><\/div><\/div><div class=\"bx--custom-content-item-col-content\"><h3>The power of partnership<\/h3><p>Collaborate with the worldâ\\x80\\x99s leading platform and infrastructure leaders.<\/p><div class=\"bx--link-list\" data-autoid=\"dds--link-list\"><ul class=\"bx--link-list__list bx--link-list__list--vertical\"><li class=\"bx--link-list__list__CTA bx--link-list__list--local\"><div><div class=\"bx--link-with-icon__container\" data-autoid=\"dds--link-with-icon\"><a class=\"bx--link bx--link-with-icon bx--link-with-icon--inline-icon bx--link--lg\" href=\"https:\/\/www.ibm.com\/strategic-partnerships\"><span>Unlock new opportunities<\/span><svg focusable=\"false\" preserveAspectRatio=\"xMidYMid meet\" xmlns=\"http:\/\/www.w3.org\/2000\/svg\" fill=\"currentColor\" width=\"20\" height=\"20\" viewBox=\"0 0 20 20\" aria-hidden=\"true\"><path d=\"M11.8 2.8L10.8 3.8 16.2 9.3 1 9.3 1 10.7 16.2 10.7 10.8 16.2 11.8 17.2 19 10z\"><\/path><\/svg><\/a><\/div><\/div><\/li><\/ul><\/div><\/div><\/div><\/div><\/dds-tab><\/dds-tabs-extended><\/div><div class=\"ibm--spacer\"><\/div><\/div><\/div><\/div><\/section><\/div><\/div><\/div><div data-autoid=\"dds--expressive-modal\" role=\"presentation\" aria-hidden=\"true\" class=\"bx--modal bx--modal--expressive bx--modal--expressive--fullwidth\"><div class=\"bx--modal-container\" role=\"dialog\" aria-modal=\"true\"><button type=\"button\" class=\"bx--visually-hidden\">Focus sentinel<\/button><div class=\"bx--modal-container-body\"><button data-autoid=\"dds--expressive-modal__close\" class=\"bx--modal-close\" title=\"Close\" type=\"button\"><svg focusable=\"false\" preserveAspectRatio=\"xMidYMid meet\" xmlns=\"http:\/\/www.w3.org\/2000\/svg\" fill=\"currentColor\" aria-label=\"Close\" width=\"20\" height=\"20\" viewBox=\"0 0 32 32\" role=\"img\" class=\"bx--modal-close__icon\"><path d=\"M24 9.4L22.6 8 16 14.6 9.4 8 8 9.4 14.6 16 8 22.6 9.4 24 16 17.4 22.6 24 24 22.6 17.4 16 24 9.4z\"><\/path><\/svg><\/button><div class=\"bx--lightbox-media-viewer__container\"><div class=\"bx--lightbox-media-viewer__row\"><div class=\"bx--lightbox-media-viewer__media bx--no-gutter\"><div aria-label=\" 0\" role=\"region\" class=\"bx--video-player\"><div class=\"bx--video-player__video-container \" data-autoid=\"dds--video-player__video-1_4f1czavh\"><div class=\"bx--video-player__video\" id=\"bx--video-player__video-1_4f1czavh-8\"><button class=\"bx--video-player__image-overlay\" data-autoid=\"dds--video-player__image-overlay\"><\/button><\/div><\/div><\/div><\/div><div class=\"bx--lightbox-media-viewer__media-description bx--no-gutter\"><div class=\"bx--lightbox-media-viewer__content\"><div data-autoid=\"dds--lightbox-media-viewer__content__title\" class=\"bx--lightbox-media-viewer__content__title\">Create personalized experiences at scale<\/div><div data-autoid=\"dds--lightbox-media-viewer__content__desc\" class=\"bx--lightbox-media-viewer__content__desc\">\\nFrom The Masters to car manufacturers, organizations are working with IBM Consulting to create personalized experiences for their fans and customers. With IBMâ\\x80\\x99s expertise, you can take a <a href=\"http:\/\/ibm.com\/consulting\/ibmix\">design-led, data-driven approach<\/a> to transformation that can help reinvent your relationships with customers and employees.\\n<\/div><div class=\"bx--lightbox-media-viewer__content__ctas\"><div class=\"bx--link-list\" data-autoid=\"dds--link-list\"><ul class=\"bx--link-list__list bx--link-list__list--vertical\"><li class=\"bx--link-list__list__CTA bx--link-list__list--local\"><div><div class=\"bx--link-with-icon__container\" data-autoid=\"dds--link-with-icon\"><a class=\"bx--link bx--link-with-icon bx--link-with-icon--inline-icon bx--link--lg\" href=\"https:\/\/www.ibm.com\/consulting\"><span>Personalize your experiences<\/span><svg focusable=\"false\" preserveAspectRatio=\"xMidYMid meet\" xmlns=\"http:\/\/www.w3.org\/2000\/svg\" fill=\"currentColor\" width=\"20\" height=\"20\" viewBox=\"0 0 20 20\" aria-hidden=\"true\"><path d=\"M11.8 2.8L10.8 3.8 16.2 9.3 1 9.3 1 10.7 16.2 10.7 10.8 16.2 11.8 17.2 19 10z\"><\/path><\/svg><\/a><\/div><\/div><\/li><li class=\"bx--link-list__list__CTA bx--link-list__list--local\"><div><div class=\"bx--link-with-icon__container\" data-autoid=\"dds--link-with-icon\"><a class=\"bx--link bx--link-with-icon bx--link-with-icon--inline-icon bx--link--lg\" href=\"https:\/\/www.ibm.com\/sports\/masters\"><span>Explore IBM at The Masters<\/span><svg focusable=\"false\" preserveAspectRatio=\"xMidYMid meet\" xmlns=\"http:\/\/www.w3.org\/2000\/svg\" fill=\"currentColor\" width=\"20\" height=\"20\" viewBox=\"0 0 20 20\" aria-hidden=\"true\"><path d=\"M11.8 2.8L10.8 3.8 16.2 9.3 1 9.3 1 10.7 16.2 10.7 10.8 16.2 11.8 17.2 19 10z\"><\/path><\/svg><\/a><\/div><\/div><\/li><\/ul><\/div><\/div><\/div><\/div><\/div><\/div><\/div><button type=\"button\" class=\"bx--visually-hidden\">Focus sentinel<\/button><\/div><\/div><div data-autoid=\"dds--expressive-modal\" role=\"presentation\" aria-hidden=\"true\" class=\"bx--modal bx--modal--expressive bx--modal--expressive--fullwidth\"><div class=\"bx--modal-container\" role=\"dialog\" aria-modal=\"true\"><button type=\"button\" class=\"bx--visually-hidden\">Focus sentinel<\/button><div class=\"bx--modal-container-body\"><button data-autoid=\"dds--expressive-modal__close\" class=\"bx--modal-close\" title=\"Close\" type=\"button\"><svg focusable=\"false\" preserveAspectRatio=\"xMidYMid meet\" xmlns=\"http:\/\/www.w3.org\/2000\/svg\" fill=\"currentColor\" aria-label=\"Close\" width=\"20\" height=\"20\" viewBox=\"0 0 32 32\" role=\"img\" class=\"bx--modal-close__icon\"><path d=\"M24 9.4L22.6 8 16 14.6 9.4 8 8 9.4 14.6 16 8 22.6 9.4 24 16 17.4 22.6 24 24 22.6 17.4 16 24 9.4z\"><\/path><\/svg><\/button><div class=\"bx--lightbox-media-viewer__container\"><div class=\"bx--lightbox-media-viewer__row\"><div class=\"bx--lightbox-media-viewer__media bx--no-gutter\"><div aria-label=\" 0\" role=\"region\" class=\"bx--video-player\"><div class=\"bx--video-player__video-container \" data-autoid=\"dds--video-player__video-1_ohfv4i6v\"><div class=\"bx--video-player__video\" id=\"bx--video-player__video-1_ohfv4i6v-9\"><button class=\"bx--video-player__image-overlay\" data-autoid=\"dds--video-player__image-overlay\"><\/button><\/div><\/div><\/div><\/div><div class=\"bx--lightbox-media-viewer__media-description bx--no-gutter\"><div class=\"bx--lightbox-media-viewer__content\"><div data-autoid=\"dds--lightbox-media-viewer__content__title\" class=\"bx--lightbox-media-viewer__content__title\">Embed sustainability into your business<\/div><div data-autoid=\"dds--lightbox-media-viewer__content__desc\" class=\"bx--lightbox-media-viewer__content__desc\">From real estate companies to water management services, businesses are partnering with IBM and using our software to pinpoint inefficiencies in their energy use and spend. Whether itâ\\x80\\x99s <a href=\"https:\/\/www.ibm.com\/products\/envizi\">building a data foundation<\/a> or <a href=\"https:\/\/www.ibm.com\/products\/maximo\">predictive maintenance<\/a>, IBMâ\\x80\\x99s sustainability solutions can help your business turn ambition into action.<\/div><div class=\"bx--lightbox-media-viewer__content__ctas\"><div class=\"bx--link-list\" data-autoid=\"dds--link-list\"><ul class=\"bx--link-list__list bx--link-list__list--vertical\"><li class=\"bx--link-list__list__CTA bx--link-list__list--local\"><div><div class=\"bx--link-with-icon__container\" data-autoid=\"dds--link-with-icon\"><a class=\"bx--link bx--link-with-icon bx--link-with-icon--inline-icon bx--link--lg\" href=\"https:\/\/www.ibm.com\/sustainability\"><span>See sustainability solutions<\/span><svg focusable=\"false\" preserveAspectRatio=\"xMidYMid meet\" xmlns=\"http:\/\/www.w3.org\/2000\/svg\" fill=\"currentColor\" width=\"20\" height=\"20\" viewBox=\"0 0 20 20\" aria-hidden=\"true\"><path d=\"M11.8 2.8L10.8 3.8 16.2 9.3 1 9.3 1 10.7 16.2 10.7 10.8 16.2 11.8 17.2 19 10z\"><\/path><\/svg><\/a><\/div><\/div><\/li><\/ul><\/div><\/div><\/div><\/div><\/div><\/div><\/div><button type=\"button\" class=\"bx--visually-hidden\">Focus sentinel<\/button><\/div><\/div><div data-autoid=\"dds--expressive-modal\" role=\"presentation\" aria-hidden=\"true\" class=\"bx--modal bx--modal--expressive bx--modal--expressive--fullwidth\"><div class=\"bx--modal-container\" role=\"dialog\" aria-modal=\"true\"><button type=\"button\" class=\"bx--visually-hidden\">Focus sentinel<\/button><div class=\"bx--modal-container-body\"><button data-autoid=\"dds--expressive-modal__close\" class=\"bx--modal-close\" title=\"Close\" type=\"button\"><svg focusable=\"false\" preserveAspectRatio=\"xMidYMid meet\" xmlns=\"http:\/\/www.w3.org\/2000\/svg\" fill=\"currentColor\" aria-label=\"Close\" width=\"20\" height=\"20\" viewBox=\"0 0 32 32\" role=\"img\" class=\"bx--modal-close__icon\"><path d=\"M24 9.4L22.6 8 16 14.6 9.4 8 8 9.4 14.6 16 8 22.6 9.4 24 16 17.4 22.6 24 24 22.6 17.4 16 24 9.4z\"><\/path><\/svg><\/button><div class=\"bx--lightbox-media-viewer__container\"><div class=\"bx--lightbox-media-viewer__row\"><div class=\"bx--lightbox-media-viewer__media bx--no-gutter\"><div aria-label=\" 0\" role=\"region\" class=\"bx--video-player\"><div class=\"bx--video-player__video-container \" data-autoid=\"dds--video-player__video-1_iqia5ojr\"><div class=\"bx--video-player__video\" id=\"bx--video-player__video-1_iqia5ojr-10\"><button class=\"bx--video-player__image-overlay\" data-autoid=\"dds--video-player__image-overlay\"><\/button><\/div><\/div><\/div><\/div><div class=\"bx--lightbox-media-viewer__media-description bx--no-gutter\"><div class=\"bx--lightbox-media-viewer__content\"><div data-autoid=\"dds--lightbox-media-viewer__content__title\" class=\"bx--lightbox-media-viewer__content__title\">Modernize your IT with hybrid cloud<\/div><div data-autoid=\"dds--lightbox-media-viewer__content__desc\" class=\"bx--lightbox-media-viewer__content__desc\">From banks to energy suppliers, businesses are working with IBM and Red Hat to connect data across multiple systems globally. By building and running apps on an <a href=\"https:\/\/www.ibm.com\/cloud\/campaign\/cloud-simplicity\">open hybrid cloud platform<\/a>, IBM can help your business create more innovative and secured customer experiences.<\/div><div class=\"bx--lightbox-media-viewer__content__ctas\"><div class=\"bx--link-list\" data-autoid=\"dds--link-list\"><ul class=\"bx--link-list__list bx--link-list__list--vertical\"><li class=\"bx--link-list__list__CTA bx--link-list__list--local\"><div><div class=\"bx--link-with-icon__container\" data-autoid=\"dds--link-with-icon\"><a class=\"bx--link bx--link-with-icon bx--link-with-icon--inline-icon bx--link--lg\" href=\"https:\/\/www.ibm.com\/cloud\/campaign\/cloud-simplicity\"><span>Explore hybrid cloud solutions<\/span><svg focusable=\"false\" preserveAspectRatio=\"xMidYMid meet\" xmlns=\"http:\/\/www.w3.org\/2000\/svg\" fill=\"currentColor\" width=\"20\" height=\"20\" viewBox=\"0 0 20 20\" aria-hidden=\"true\"><path d=\"M11.8 2.8L10.8 3.8 16.2 9.3 1 9.3 1 10.7 16.2 10.7 10.8 16.2 11.8 17.2 19 10z\"><\/path><\/svg><\/a><\/div><\/div><\/li><\/ul><\/div><\/div><\/div><\/div><\/div><\/div><\/div><button type=\"button\" class=\"bx--visually-hidden\">Focus sentinel<\/button><\/div><\/div><div data-autoid=\"dds--expressive-modal\" role=\"presentation\" aria-hidden=\"true\" class=\"bx--modal bx--modal--expressive bx--modal--expressive--fullwidth\"><div class=\"bx--modal-container\" role=\"dialog\" aria-modal=\"true\"><button type=\"button\" class=\"bx--visually-hidden\">Focus sentinel<\/button><div class=\"bx--modal-container-body\"><button data-autoid=\"dds--expressive-modal__close\" class=\"bx--modal-close\" title=\"Close\" type=\"button\"><svg focusable=\"false\" preserveAspectRatio=\"xMidYMid meet\" xmlns=\"http:\/\/www.w3.org\/2000\/svg\" fill=\"currentColor\" aria-label=\"Close\" width=\"20\" height=\"20\" viewBox=\"0 0 32 32\" role=\"img\" class=\"bx--modal-close__icon\"><path d=\"M24 9.4L22.6 8 16 14.6 9.4 8 8 9.4 14.6 16 8 22.6 9.4 24 16 17.4 22.6 24 24 22.6 17.4 16 24 9.4z\"><\/path><\/svg><\/button><div class=\"bx--lightbox-media-viewer__container\"><div class=\"bx--lightbox-media-viewer__row\"><div class=\"bx--lightbox-media-viewer__media bx--no-gutter\"><div aria-label=\" 0\" role=\"region\" class=\"bx--video-player\"><div class=\"bx--video-player__video-container \" data-autoid=\"dds--video-player__video-1_xzci2wc9\"><div class=\"bx--video-player__video\" id=\"bx--video-player__video-1_xzci2wc9-11\"><button class=\"bx--video-player__image-overlay\" data-autoid=\"dds--video-player__image-overlay\"><\/button><\/div><\/div><\/div><\/div><div class=\"bx--lightbox-media-viewer__media-description bx--no-gutter\"><div class=\"bx--lightbox-media-viewer__content\"><div data-autoid=\"dds--lightbox-media-viewer__content__title\" class=\"bx--lightbox-media-viewer__content__title\">Automate your business with AI-powered software<\/div><div data-autoid=\"dds--lightbox-media-viewer__content__desc\" class=\"bx--lightbox-media-viewer__content__desc\">From beer companies to retailers, businesses are working with IBM and using our AI-powered software to change the way they work. Whether itâ\\x80\\x99s <a href=\"https:\/\/www.ibm.com\/products\/instana\">faster incident resolution<\/a> or <a href=\"https:\/\/www.ibm.com\/products\/turbonomic\">app efficiency<\/a>, IBMâ\\x80\\x99s automation solutions can help make people more productive, processes more efficient and IT systems more proactive.<\/div><div class=\"bx--lightbox-media-viewer__content__ctas\"><div class=\"bx--link-list\" data-autoid=\"dds--link-list\"><ul class=\"bx--link-list__list bx--link-list__list--vertical\"><li class=\"bx--link-list__list__CTA bx--link-list__list--local\"><div><div class=\"bx--link-with-icon__container\" data-autoid=\"dds--link-with-icon\"><a class=\"bx--link bx--link-with-icon bx--link-with-icon--inline-icon bx--link--lg\" href=\"https:\/\/www.ibm.com\/automation\"><span>Explore automation solutions<\/span><svg focusable=\"false\" preserveAspectRatio=\"xMidYMid meet\" xmlns=\"http:\/\/www.w3.org\/2000\/svg\" fill=\"currentColor\" width=\"20\" height=\"20\" viewBox=\"0 0 20 20\" aria-hidden=\"true\"><path d=\"M11.8 2.8L10.8 3.8 16.2 9.3 1 9.3 1 10.7 16.2 10.7 10.8 16.2 11.8 17.2 19 10z\"><\/path><\/svg><\/a><\/div><\/div><\/li><\/ul><\/div><\/div><\/div><\/div><\/div><\/div><\/div><button type=\"button\" class=\"bx--visually-hidden\">Focus sentinel<\/button><\/div><\/div><div data-autoid=\"dds--expressive-modal\" role=\"presentation\" aria-hidden=\"true\" class=\"bx--modal bx--modal--expressive bx--modal--expressive--fullwidth\"><div class=\"bx--modal-container\" role=\"dialog\" aria-modal=\"true\"><button type=\"button\" class=\"bx--visually-hidden\">Focus sentinel<\/button><div class=\"bx--modal-container-body\"><button data-autoid=\"dds--expressive-modal__close\" class=\"bx--modal-close\" title=\"Close\" type=\"button\"><svg focusable=\"false\" preserveAspectRatio=\"xMidYMid meet\" xmlns=\"http:\/\/www.w3.org\/2000\/svg\" fill=\"currentColor\" aria-label=\"Close\" width=\"20\" height=\"20\" viewBox=\"0 0 32 32\" role=\"img\" class=\"bx--modal-close__icon\"><path d=\"M24 9.4L22.6 8 16 14.6 9.4 8 8 9.4 14.6 16 8 22.6 9.4 24 16 17.4 22.6 24 24 22.6 17.4 16 24 9.4z\"><\/path><\/svg><\/button><div class=\"bx--lightbox-media-viewer__container\"><div class=\"bx--lightbox-media-viewer__row\"><div class=\"bx--lightbox-media-viewer__media bx--no-gutter\"><div aria-label=\" 0\" role=\"region\" class=\"bx--video-player\"><div class=\"bx--video-player__video-container \" data-autoid=\"dds--video-player__video-1_t4tolges\"><div class=\"bx--video-player__video\" id=\"bx--video-player__video-1_t4tolges-12\"><button class=\"bx--video-player__image-overlay\" data-autoid=\"dds--video-player__image-overlay\"><\/button><\/div><\/div><\/div><\/div><div class=\"bx--lightbox-media-viewer__media-description bx--no-gutter\"><div class=\"bx--lightbox-media-viewer__content\"><div data-autoid=\"dds--lightbox-media-viewer__content__title\" class=\"bx--lightbox-media-viewer__content__title\">Design a data strategy for your business<\/div><div data-autoid=\"dds--lightbox-media-viewer__content__desc\" class=\"bx--lightbox-media-viewer__content__desc\">From banks to apparel companies, businesses are partnering with IBM to unlock more value from their data with AI, no matter where their data resides. By <a href=\"https:\/\/www.ibm.com\/cloud\/watson-knowledge-catalog\">reducing complexity and improving data quality<\/a>, IBMâ\\x80\\x99s data management solutions can help make employeesâ\\x80\\x99 and customersâ\\x80\\x99 day-to-day workflows easier.<\/div><div class=\"bx--lightbox-media-viewer__content__ctas\"><div class=\"bx--link-list\" data-autoid=\"dds--link-list\"><ul class=\"bx--link-list__list bx--link-list__list--vertical\"><li class=\"bx--link-list__list__CTA bx--link-list__list--local\"><div><div class=\"bx--link-with-icon__container\" data-autoid=\"dds--link-with-icon\"><a class=\"bx--link bx--link-with-icon bx--link-with-icon--inline-icon bx--link--lg\" href=\"https:\/\/www.ibm.com\/data-management\"><span>See data management solutions<\/span><svg focusable=\"false\" preserveAspectRatio=\"xMidYMid meet\" xmlns=\"http:\/\/www.w3.org\/2000\/svg\" fill=\"currentColor\" width=\"20\" height=\"20\" viewBox=\"0 0 20 20\" aria-hidden=\"true\"><path d=\"M11.8 2.8L10.8 3.8 16.2 9.3 1 9.3 1 10.7 16.2 10.7 10.8 16.2 11.8 17.2 19 10z\"><\/path><\/svg><\/a><\/div><\/div><\/li><li class=\"bx--link-list__list__CTA bx--link-list__list--local\"><div><div class=\"bx--link-with-icon__container\" data-autoid=\"dds--link-with-icon\"><a class=\"bx--link bx--link-with-icon bx--link-with-icon--inline-icon bx--link--lg\" href=\"https:\/\/www.ibm.com\/data-fabric\"><span>Use data fabric to transform your organization<\/span><svg focusable=\"false\" preserveAspectRatio=\"xMidYMid meet\" xmlns=\"http:\/\/www.w3.org\/2000\/svg\" fill=\"currentColor\" width=\"20\" height=\"20\" viewBox=\"0 0 20 20\" aria-hidden=\"true\"><path d=\"M11.8 2.8L10.8 3.8 16.2 9.3 1 9.3 1 10.7 16.2 10.7 10.8 16.2 11.8 17.2 19 10z\"><\/path><\/svg><\/a><\/div><\/div><\/li><\/ul><\/div><\/div><\/div><\/div><\/div><\/div><\/div><button type=\"button\" class=\"bx--visually-hidden\">Focus sentinel<\/button><\/div><\/div><footer data-autoid=\"dds--footer\" class=\"bx--footer\"><section class=\"bx--footer__main\"><div class=\"bx--footer__main-container\"><div class=\"bx--footer__logo-container\"><div class=\"bx--footer__logo-row\"><div data-autoid=\"dds--footer-logo\" class=\"bx--footer-logo\"><a data-autoid=\"dds--footer-logo__link\" class=\"bx--footer-logo__link\" href=\"https:\/\/www.ibm.com\/\"><svg width=\"157\" height=\"65\" class=\"bx--footer-logo__logo\" viewBox=\"0 0 157 65\" xmlns=\"http:\/\/www.w3.org\/2000\/svg\"><title>IBM Logo<\/title><path d=\"M30.444 60.208v4.03H0v-4.03h30.444zm78.291-.001v4.03H86.983v-4.03h21.752zm47.858 0v4.03H134.84v-4.03h21.753zm-33.416 0l-1.398 4.03-1.38-4.03h2.778zm-88.384 0h42.775c-2.797 2.426-6.39 3.925-10.327 4.025l-.423.006H34.793v-4.03h42.775zm-4.35-8.46v4.03H0v-4.03h30.444zm52.402 0c-.332 1.248-.8 2.44-1.389 3.555l-.259.474H34.793v-4.029h48.052zm73.748-.005v4.031H134.84v-4.03h21.753zm-47.858 0v4.031H86.983v-4.03h21.752zm17.375 0l-1.398 4.031h-5.85l-1.395-4.03h8.643zM21.745 43.285v4.03H8.698v-4.03h13.047zm61.195 0a17.32 17.32 0 0 1 .476 3.51l.008.52H68.796v-4.03H82.94zm-26.401 0v4.03H43.491v-4.03H56.54zm72.502-.007l-1.396 4.03H115.93l-1.397-4.03h14.507zm18.85 0v4.03h-13.05v-4.03h13.05zm-39.156 0v4.03H95.684v-4.03h13.051zm-86.99-8.454v4.03H8.698v-4.03h13.047zm56.117 0a16.945 16.945 0 0 1 2.926 3.582l.264.447h-37.56v-4.03h34.37zm30.873-.01v4.03H95.684v-4.03h13.051zm39.157 0v4.03H134.84v-4.03h13.052zm-15.919 0l-1.396 4.03h-17.579l-1.396-4.03h20.371zm-50.778-8.452a16.963 16.963 0 0 1-2.82 3.674l-.37.355H43.49v-4.029h37.704zm-59.45 0v4.03H8.698v-4.03h13.047zm126.147-.013v4.031H134.84v-3.839l-1.33 3.839h-11.456l1.373-4.03h24.465zm-27.743 0l1.372 4.031h-11.456l-1.33-3.839v3.84H95.684v-4.032h24.465zm-98.404-8.448v4.03H8.698V17.9h13.047zm61.68 0c0 1.215-.134 2.399-.375 3.542l-.11.487H68.796V17.9h14.628zM56.538 17.9v4.03H43.491V17.9H56.54zm91.352-.015v4.03h-22.954l1.37-4.03h21.584zm-30.624 0l1.372 4.03H95.684v-4.03h21.583zM30.444 9.437v4.03H0v-4.03h30.444zm50.753 0a17.048 17.048 0 0 1 1.498 3.499l.15.531H34.794v-4.03h46.403zm75.396-.018v4.03h-28.776l1.373-4.03h27.403zm-42.207 0l1.372 4.031H86.982V9.42h27.404zM30.444.978v4.03H0V.977h30.444zm36.374 0c3.96 0 7.594 1.415 10.448 3.772l.303.257H34.794V.977h32.024zm89.775-.022v4.031h-25.894l1.372-4.03h24.522zm-45.098 0l1.372 4.03H86.982V.955h24.513z\"><\/path><\/svg><\/a><\/div><div class=\"bx--locale-btn__container\"><button data-autoid=\"dds--locale-btn\" aria-label=\"\" tabindex=\"0\" class=\"bx--locale-btn bx--btn bx--btn--tertiary\" type=\"button\"><svg focusable=\"false\" preserveAspectRatio=\"xMidYMid meet\" xmlns=\"http:\/\/www.w3.org\/2000\/svg\" fill=\"currentColor\" aria-label=\"Earth Filled Icon\" aria-hidden=\"true\" width=\"20\" height=\"20\" viewBox=\"0 0 32 32\" role=\"img\" class=\"bx--btn__icon\"><path d=\"M16,2A14,14,0,1,0,30,16,14.0158,14.0158,0,0,0,16,2ZM4.02,16.394l1.3384.4458L7,19.3027v1.2831a1,1,0,0,0,.2929.7071L10,24v2.3765A11.9941,11.9941,0,0,1,4.02,16.394ZM16,28a11.9682,11.9682,0,0,1-2.5718-.2847L14,26l1.8046-4.5116a1,1,0,0,0-.0964-.9261l-1.4113-2.117A1,1,0,0,0,13.4648,18h-4.93L7.2866,16.1274,9.4141,14H11v2h2V13.2656l3.8682-6.7695-1.7364-.9922L14.2769,7H11.5352l-1.086-1.6289A11.861,11.861,0,0,1,20,4.7V8a1,1,0,0,0,1,1h1.4648a1,1,0,0,0,.8321-.4453l.8769-1.3154A12.0331,12.0331,0,0,1,26.8945,11H22.82a1,1,0,0,0-.9806.8039l-.7221,4.4708a1,1,0,0,0,.54,1.0539L25,19l.6851,4.0557A11.9793,11.9793,0,0,1,16,28Z\"><\/path><\/svg><\/button><div data-autoid=\"dds--locale-modal\" role=\"presentation\" aria-hidden=\"true\" class=\"bx--modal bx--locale-modal-container\"><div class=\"bx--modal-container\" role=\"dialog\" aria-modal=\"true\" aria-label=\",[object Object]\"><button type=\"button\" class=\"bx--visually-hidden\">Focus sentinel<\/button><div class=\"bx--modal-container-body\"><div class=\"bx--modal-header\"><h2 class=\"bx--modal-header__label bx--type-delta\"><svg focusable=\"false\" preserveAspectRatio=\"xMidYMid meet\" xmlns=\"http:\/\/www.w3.org\/2000\/svg\" fill=\"currentColor\" width=\"16\" height=\"16\" viewBox=\"0 0 32 32\" aria-hidden=\"true\" class=\"bx--locale-modal__label-globe\"><path d=\"M16,2A14,14,0,1,0,30,16,14.0158,14.0158,0,0,0,16,2ZM4.02,16.394l1.3384.4458L7,19.3027v1.2831a1,1,0,0,0,.2929.7071L10,24v2.3765A11.9941,11.9941,0,0,1,4.02,16.394ZM16,28a11.9682,11.9682,0,0,1-2.5718-.2847L14,26l1.8046-4.5116a1,1,0,0,0-.0964-.9261l-1.4113-2.117A1,1,0,0,0,13.4648,18h-4.93L7.2866,16.1274,9.4141,14H11v2h2V13.2656l3.8682-6.7695-1.7364-.9922L14.2769,7H11.5352l-1.086-1.6289A11.861,11.861,0,0,1,20,4.7V8a1,1,0,0,0,1,1h1.4648a1,1,0,0,0,.8321-.4453l.8769-1.3154A12.0331,12.0331,0,0,1,26.8945,11H22.82a1,1,0,0,0-.9806.8039l-.7221,4.4708a1,1,0,0,0,.54,1.0539L25,19l.6851,4.0557A11.9793,11.9793,0,0,1,16,28Z\"><\/path><\/svg><\/h2><button class=\"bx--modal-close\" title=\"Close\" aria-label=\"Close\" type=\"button\"><svg focusable=\"false\" preserveAspectRatio=\"xMidYMid meet\" xmlns=\"http:\/\/www.w3.org\/2000\/svg\" fill=\"currentColor\" width=\"20\" height=\"20\" viewBox=\"0 0 32 32\" aria-hidden=\"true\" class=\"bx--modal-close__icon\"><path d=\"M24 9.4L22.6 8 16 14.6 9.4 8 8 9.4 14.6 16 8 22.6 9.4 24 16 17.4 22.6 24 24 22.6 17.4 16 24 9.4z\"><\/path><\/svg><\/button><\/div><div class=\"bx--modal-content bx--locale-modal \"><div class=\"bx--grid bx--no-gutter bx--locale-modal__regions\"><div class=\"bx--row\"><\/div><\/div><div class=\"bx--locale-modal__filter\"><div class=\"bx--locale-modal__search\"><div role=\"search\" aria-labelledby=\"bx--locale-modal__filter-search\" class=\"bx--search bx--search--xl\"><div class=\"bx--search-magnifier\"><svg focusable=\"false\" preserveAspectRatio=\"xMidYMid meet\" xmlns=\"http:\/\/www.w3.org\/2000\/svg\" fill=\"currentColor\" width=\"16\" height=\"16\" viewBox=\"0 0 16 16\" aria-hidden=\"true\" class=\"bx--search-magnifier-icon\"><path d=\"M15,14.3L10.7,10c1.9-2.3,1.6-5.8-0.7-7.7S4.2,0.7,2.3,3S0.7,8.8,3,10.7c2,1.7,5,1.7,7,0l4.3,4.3L15,14.3z M2,6.5\\tC2,4,4,2,6.5,2S11,4,11,6.5S9,11,6.5,11S2,9,2,6.5z\"><\/path><\/svg><\/div><label id=\"bx--locale-modal__filter-search\" for=\"bx--locale-modal__filter\" class=\"bx--label\">Search by location or language<\/label><input type=\"text\" role=\"searchbox\" autoComplete=\"off\" data-autoid=\"dds--locale-modal__filter\" tabindex=\"0\" class=\"bx--search-input\" id=\"bx--locale-modal__filter\" placeholder=\"\"\/><button class=\"bx--search-close bx--search-close--hidden\" type=\"button\" aria-label=\"Clear search input\"><svg focusable=\"false\" preserveAspectRatio=\"xMidYMid meet\" xmlns=\"http:\/\/www.w3.org\/2000\/svg\" fill=\"currentColor\" width=\"16\" height=\"16\" viewBox=\"0 0 32 32\" aria-hidden=\"true\"><path d=\"M24 9.4L22.6 8 16 14.6 9.4 8 8 9.4 14.6 16 8 22.6 9.4 24 16 17.4 22.6 24 24 22.6 17.4 16 24 9.4z\"><\/path><\/svg><\/button><\/div><p class=\"bx--locale-modal__search-text\"><\/p><\/div><ul class=\"bx--locale-modal__list\"><p class=\"bx--assistive-text\" role=\"status\" aria-live=\"assertive\"><\/p><\/ul><\/div><\/div><\/div><button type=\"button\" class=\"bx--visually-hidden\">Focus sentinel<\/button><\/div><\/div><\/div><\/div><\/div><\/div><\/section><\/footer><\/main><script src=\"https:\/\/cdn.jsdelivr.net\/npm\/react@17\/umd\/react.production.min.js\"><\/script><script src=\"https:\/\/cdn.jsdelivr.net\/npm\/react-dom@17\/umd\/react-dom.production.min.js\"><\/script><script src=\"https:\/\/cdn.jsdelivr.net\/npm\/react-intl@5\/dist\/react-intl.min.js\"><\/script><\/div><\/div><script src=\"\/\/1.www.s81c.com\/common\/stats\/ibm-common.js\" defer=\"\"><\/script><link href=\"\/\/1.www.s81c.com\/common\/v18\/css\/forms.css\" rel=\"stylesheet\"\/><\/div><script id=\"__NEXT_DATA__\" type=\"application\/json\">{\"props\":{\"pageProps\":{\"data\":{\"_id\":\"7ec18a83cb1c595406965cba92f231c4\",\"_rev\":\"12548-3dfd99eb4894e9f9c7465872c5956d0e\",\"type\":\"production\",\"sections\":{\"leadspace\":{\"data\":{\"content\":[{\"blocklink\":true,\"largeCol\":\"bx--col-lg-6\",\"imagePos\":\"top right\",\"bgColor\":\"#000000\",\"ctaType\":\"links\",\"ctaColor\":\"gray-90\",\"webm\":\"\",\"gif\":\"\",\"videoImage\":\"\",\"ibmEvLinkTitle\":\"\",\"ibmEvGroup\":\"\",\"ibmEvName\":\"\",\"ibmEvSection\":\"L1\",\"ibmEvTarget\":\"\",\"lsPaddingTop\":\"ibm-pt-5\",\"lsPaddingBottom\":\"ibm-pb-5\",\"ctaOneVideoID\":\"\",\"ctaOneIcon\":\"forward\",\"videoID\":\"\",\"mp4\":\"\",\"type\":\"carbon\",\"ctaTwoVideoID\":\"\",\"ctaTwoIcon\":\"forward\",\"videoType\":\"kaltura\",\"alternate\":true,\"titleType\":\"bx--type-expressive-heading-05\",\"title\":\"The best of IBM 2022\\\\n\",\"copy\":\"From quantum breakthroughs to drug discovery, these 11 stories point to a brighter, more sustainable future\\\\n\",\"timestamp\":1671460488507,\"ctaOne\":\"See the year in review\",\"ctaOneLink\":\"https:\/\/www.ibm.com\/thought-leadership\/best-of\/2022\/?lnk=ushpv18l1\",\"airtableID\":\"27195\",\"imageMobile\":\"https:\/\/1.dam.s81c.com\/p\/0a23e3c651299e47\/20221216-best-of-2022-mobile-720x360.jpg\",\"image\":\"https:\/\/1.dam.s81c.com\/p\/0a23e3c651299e48\/20221216-best-of-2022-2304x983.jpg\",\"videoPosition\":\"video-center\",\"imageAlt\":\"Collage of semiconductor, 6 new creators, mayflower ship, man in a cleanroom, woman writing on a whiteboard, 2 men moving a mainframe \"}]}},\"newsflash\":{\"data\":{\"content\":[{\"active\":true,\"videoID\":\"\",\"bgColor\":\"#001d6c\",\"videoType\":\"kaltura\",\"ibmEvSection\":\"NF1\",\"airtableID\":\"\",\"sandbox\":false,\"title\":\"\\\\u003cstrong\\\\u003eNew\\\\u003c\/strong\\\\u003e: IBM z16 and LinuxONE 4 single frame and rack mount options offer data centers more flexibility, sustainability and security\\\\u0026nbsp;\\\\u0026#8594;\",\"stage\":true,\"timestamp\":1680630414102,\"videoTitle\":\"\",\"videoDesc\":\"\",\"link\":\"https:\/\/newsroom.ibm.com\/2023-04-04-IBM-Furthers-Flexibility,-Sustainability-and-Security-within-the-Data-Center-with-New-IBM-z16-and-LinuxONE-4-Single-Frame-and-Rack-Mount-Options?lnk=ushpv18nf1\"},{\"active\":false,\"videoID\":\"\",\"bgColor\":\"#001d6c\",\"videoType\":\"kaltura\",\"ibmEvSection\":\"NF2\",\"airtableID\":\"\",\"sandbox\":false,\"title\":\"\\\\u003cstrong\\\\u003eNew\\\\u003c\/strong\\\\u003e: \\\\u0026nbsp;\\\\u0026#8594;\",\"stage\":false,\"timestamp\":1680192662088},{\"active\":false,\"videoID\":\"\",\"bgColor\":\"#001d6c\",\"videoType\":\"kaltura\",\"ibmEvSection\":\"NF3\",\"airtableID\":\"\",\"sandbox\":false,\"title\":\"\\\\u003cstrong\\\\u003eNew\\\\u003c\/strong\\\\u003e: this is copy\\\\u0026nbsp;\\\\u0026#8594;\",\"stage\":false,\"timestamp\":1680192964674,\"videoTitle\":\"\",\"videoDesc\":\"\",\"link\":\"https:\/\/www.ibm.com\/thought-leadership\/smart\/talks\/?lnk=ushpv18nf3\"},{\"active\":false,\"videoID\":\"\",\"bgColor\":\"#001d6c\",\"videoType\":\"kaltura\",\"ibmEvSection\":\"NF4\",\"airtableID\":\"\",\"sandbox\":false,\"title\":\"\\\\u003cstrong\\\\u003eNews\\\\u003c\/strong\\\\u003e: \\\\u0026nbsp;\\\\u0026#8594;\",\"stage\":false,\"timestamp\":1679574208771},{\"active\":false,\"videoID\":\"\",\"bgColor\":\"#001d6c\",\"videoType\":\"kaltura\",\"ibmEvSection\":\"NF5\",\"airtableID\":\"\",\"sandbox\":false,\"title\":\"\\\\u003cstrong\\\\u003eNew\\\\u003c\/strong\\\\u003e \\\\u0026nbsp;\\\\u0026#8594;\",\"stage\":false,\"timestamp\":1679345827767,\"videoDesc\":\"\",\"link\":\"\"},{\"active\":false,\"videoID\":\"\",\"bgColor\":\"#001d6c\",\"videoType\":\"kaltura\",\"ibmEvSection\":\"NF6\",\"airtableID\":\"\",\"sandbox\":false,\"title\":\"\\\\u003cstrong\\\\u003eNew\\\\u003c\/strong\\\\u003e: IBMâ\\x80\\x99s comprehensive Data Management for Analytics foundation earns Leader status in 2023 Forrester Wave\\\\u0026nbsp;\\\\u0026#8594;\",\"stage\":false,\"timestamp\":1680547087561,\"videoTitle\":\"\",\"videoDesc\":\"\",\"link\":\"https:\/\/www.ibm.com\/blog\/ibm-named-a-leader-in-the-forrester-wave-data-management-for-analytics-q1-2023\/?lnk=ushpv18nf6\"},{\"active\":false,\"videoID\":\"\",\"bgColor\":\"#001d6c\",\"videoType\":\"kaltura\",\"ibmEvSection\":\"NF7\",\"airtableID\":\"\",\"sandbox\":false,\"title\":\"\\\\u003cstrong\\\\u003eNew\\\\u003c\/strong\\\\u003e: IBM and Cleveland Clinic unveil the first quantum computer dedicated to healthcare research\\\\u0026nbsp;\\\\u0026#8594;\",\"stage\":false,\"timestamp\":1679519285897,\"link\":\"https:\/\/newsroom.ibm.com\/2023-03-20-Cleveland-Clinic-and-IBM-Unveil-First-Quantum-Computer-Dedicated-to-Healthcare-Research?lnk=ushpv18nf7\"},{\"active\":false,\"videoID\":\"\",\"bgColor\":\"#001d6c\",\"videoType\":\"kaltura\",\"ibmEvSection\":\"NF8\",\"airtableID\":\"\",\"sandbox\":false,\"title\":\"\\\\u003cstrong\\\\u003eNew\\\\u003c\/strong\\\\u003e: AI-based sustainability solutions offer hope for 2.3 billion people living in water-stressed countries\\\\u0026nbsp;\\\\u0026#8594;\",\"stage\":false,\"timestamp\":1679574191891,\"link\":\"https:\/\/www.ibm.com\/blog\/how-technology-can-help-save-our-water-supply?lnk=ushpv18nf8\"}]}},\"mastheadbtn\":{\"data\":{\"content\":[{\"stage\":false,\"tool\":false,\"title\":\"Stay safe, y\\\\u0026#8217;all.\",\"link\":\"https:\/\/www.ibm.com\/impact\/covid-19\/?lnk=ushpv18mb\",\"active\":false,\"timestamp\":1591040701251}]}},\"featured\":{\"data\":{\"content\":[{\"videoImage\":\"\",\"videoType\":\"kaltura\",\"ibmEvLinkTitle\":\"\",\"ibmEvGroup\":\"\",\"ibmEvName\":\"\",\"ibmEvSection\":\"F1\",\"ibmEvTarget\":\"\",\"damVideoMP4\":\"\",\"damVideoWebM\":\"\",\"icon\":\"forward\",\"videoID\":\"\",\"title\":\"27164 IBM iX\",\"timestamp\":1670602077463,\"airtableID\":\"27164\",\"eyebrow\":\"IBM iX: design-led, data-driven\",\"copy\":\"A human-centered approach helps IBM Consulting clients transform customer and employee experiences\",\"image\":\"https:\/\/1.dam.s81c.com\/p\/0868c64e393cf933\/2017_12_Slowell_Inside_IBM_Cloud_developers_242.jpg.global.s_4x3.jpg\",\"imageAlt\":\"Two co-workers talking at a desk\",\"button\":\"\",\"link\":\"https:\/\/www.ibm.com\/consulting\/ibmix?lnk=ushpv18f1\"},{\"videoImage\":\"\",\"videoType\":\"youtube\",\"ibmEvLinkTitle\":\"\",\"ibmEvGroup\":\"\",\"ibmEvName\":\"\",\"ibmEvSection\":\"F2\",\"ibmEvTarget\":\"\",\"damVideoMP4\":\"\",\"damVideoWebM\":\"\",\"icon\":\"forward\",\"videoID\":\"\",\"title\":\"27173 Is your business cybersafe?\",\"copy\":\"Work with senior security consultants to understand where you are and where you need to go in this free 3\\\\u0026#8209;hour workshop\",\"eyebrow\":\"Is your business cybersafe?\\\\n\",\"timestamp\":1670602025015,\"airtableID\":\"27173\",\"image\":\"https:\/\/1.dam.s81c.com\/p\/08a56f9ac246227c\/20220801_26754_Countdown-to-Ransomware-guide-security-intelligence-444x333.jpg\",\"link\":\"https:\/\/www.ibm.com\/security\/resources\/workshop?lnk=ushpv18f2\",\"imageAlt\":\"Three IBM Security employees at a conference table interacting with a man at a whiteboard\"},{\"videoImage\":\"\",\"videoType\":\"youtube\",\"ibmEvLinkTitle\":\"\",\"ibmEvGroup\":\"\",\"ibmEvName\":\"\",\"ibmEvSection\":\"F3\",\"ibmEvTarget\":\"\",\"damVideoMP4\":\"\",\"damVideoWebM\":\"\",\"icon\":\"forward\",\"videoID\":\"\",\"title\":\"27158 Food trust\/FSMA\",\"timestamp\":1670605658975,\"airtableID\":\"27158\",\"copy\":\"IBM Food Trust ensures a safer food supply and simplifies compliance with the latest US FDA traceability rules\",\"image\":\"https:\/\/1.dam.s81c.com\/p\/04d38222a5bc17ff\/84962edd-c289-4d32-ad92a178655984d5.jpg.global.s_4x3.jpg\",\"mobileImg\":\"https:\/\/1.dam.s81c.com\/public\/content\/dam\/worldwide-content\/homepage\/ul\/g\/9e\/7c\/20210823-f-swiss-re-case-study-26069.jpg\",\"eyebrow\":\"A higher standard, farm to fork\",\"link\":\"https:\/\/www.ibm.com\/products\/supply-chain-intelligence-suite\/food-trust?lnk=ushpv18f3\",\"imageAlt\":\"Oranges on a factory assembly line\"},{\"videoImage\":\"\",\"videoType\":\"youtube\",\"ibmEvLinkTitle\":\"\",\"ibmEvGroup\":\"\",\"ibmEvName\":\"\",\"ibmEvSection\":\"F4\",\"ibmEvTarget\":\"\",\"damVideoMP4\":\"\",\"damVideoWebM\":\"\",\"icon\":\"forward\",\"videoID\":\"\",\"title\":\"27177 Year in review newsletters\",\"image\":\"https:\/\/1.dam.s81c.com\/p\/08243aa34ebb7a36\/2022_05_10_SpencerLowell_WorkingWorld_IBM_Brand_Library_285.jpg.global.s_4x3.jpg\",\"copy\":\"Three year-in-review newsletters will highlight the impact of todayâ\\x80\\x99s technology on the future of business. Subscribe now.\",\"eyebrow\":\"2022â\\x80\\x99s top thought leadership\",\"timestamp\":1670853303889,\"airtableID\":\"27177\",\"link\":\"https:\/\/www.ibm.com\/subscribe\/?lnk=ushpv18f4\",\"imageAlt\":\"Orion Crew Module solar panel mockup deployment test at NASA Glen Research Center in Sandusky, Ohio\"},{\"subcopy\":\"\",\"ibmEvLinkTitle\":\"\",\"ibmEvGroup\":\"\",\"ibmEvName\":\"\",\"ibmEvSection\":\"F5\",\"ibmEvTarget\":\"\",\"button_mobile\":\"t1\",\"videoID\":\"\",\"icon\":\"forward\",\"image\":\"\",\"title\":\"\",\"eyebrow\":\"\",\"copy\":\"\",\"button\":\"\",\"timestamp\":1644590702649,\"airtableID\":\"\",\"link\":\"\"},{\"subcopy\":\"\",\"ibmEvLinkTitle\":\"\",\"ibmEvGroup\":\"\",\"ibmEvName\":\"\",\"ibmEvSection\":\"F6\",\"ibmEvTarget\":\"\",\"button_mobile\":\"t1\",\"videoID\":\"\",\"icon\":\"forward\",\"image\":\"https:\/\/1.dam.s81c.com\/public\/content\/dam\/worldwide-content\/homepage\/ul\/g\/7b\/7b\/20220117-cloud-simplicity-26358-2304x983.png\",\"title\":\"\",\"eyebrow\":\"A unified cloud experience\",\"copy\":\"Build, deploy and scale faster across any environment with consistency and security\",\"button\":\"Simplify your multicloud\",\"timestamp\":1643665707293,\"airtableID\":\"\",\"link\":\"https:\/\/www.ibm.com\/cloud\/campaign\/cloud-simplicity?lnk=ushpv18f6\"},{\"videoImage\":\"\",\"videoType\":\"youtube\",\"ibmEvLinkTitle\":\"\",\"ibmEvGroup\":\"\",\"ibmEvName\":\"\",\"ibmEvSection\":\"F7\",\"ibmEvTarget\":\"\",\"damVideoMP4\":\"\",\"damVideoWebM\":\"\",\"icon\":\"forward\",\"videoID\":\"\",\"title\":\"\",\"link\":\"https:\/\/www.ibm.com\/consulting\/?lnk=ushpv18f7\",\"image\":\"https:\/\/1.dam.s81c.com\/public\/content\/dam\/worldwide-content\/homepage\/ul\/g\/ae\/b2\/20211103-f-ibm-consulting-26242.gif\",\"eyebrow\":\"Move fast and far with IBM Consulting\",\"copy\":\"Together, we can turn ideas into action better than we ever could alone\",\"button\":\"Navigate the new rules of modern business with a partner you\\\\u0026nbsp;trust\",\"timestamp\":1643665749045,\"airtableID\":\"\"},{\"videoID\":\"\",\"videoImage\":\"\",\"videoType\":\"youtube\",\"ibmEvLinkTitle\":\"\",\"ibmEvGroup\":\"\",\"ibmEvName\":\"\",\"ibmEvSection\":\"F8\",\"ibmEvTarget\":\"\",\"damVideoMP4\":\"\",\"damVideoWebM\":\"\",\"icon\":\"forward\",\"timestamp\":1643665604671,\"title\":\"\",\"eyebrow\":\"\",\"button\":\"\",\"copy\":\"\",\"image\":\"\",\"link\":\"\",\"airtableID\":\"\"},{\"videoImage\":\"\",\"videoType\":\"kaltura\",\"ibmEvLinkTitle\":\"\",\"ibmEvGroup\":\"\",\"ibmEvName\":\"\",\"ibmEvSection\":\"F9\",\"ibmEvTarget\":\"\",\"damVideoMP4\":\"\",\"damVideoWebM\":\"\",\"icon\":\"forward\",\"videoID\":\"\",\"title\":\"\",\"image\":\"\",\"link\":\"\",\"button\":\"\",\"eyebrow\":\"\",\"copy\":\"\",\"timestamp\":1643665619583,\"airtableID\":\"\"},{\"subcopy\":\"\",\"ibmEvLinkTitle\":\"\",\"ibmEvGroup\":\"\",\"ibmEvName\":\"\",\"ibmEvSection\":\"F10\",\"ibmEvTarget\":\"\",\"button_mobile\":\"t1\",\"videoID\":\"\",\"icon\":\"forward\",\"image\":\"\",\"title\":\"\",\"eyebrow\":\"\",\"copy\":\"\",\"button\":\"\",\"link\":\"\",\"timestamp\":1643665630573,\"airtableID\":\"\"},{\"subcopy\":\"\",\"ibmEvLinkTitle\":\"\",\"ibmEvGroup\":\"\",\"ibmEvName\":\"\",\"ibmEvSection\":\"F11\",\"ibmEvTarget\":\"\",\"button_mobile\":\"t1\",\"videoID\":\"\",\"icon\":\"forward\",\"image\":\"\",\"title\":\"\",\"eyebrow\":\"\",\"copy\":\"\",\"button\":\"\",\"link\":\"\",\"timestamp\":1643665641479,\"airtableID\":\"\"},{\"videoImage\":\"\",\"videoType\":\"kaltura\",\"ibmEvLinkTitle\":\"\",\"ibmEvGroup\":\"\",\"ibmEvName\":\"\",\"ibmEvSection\":\"F12\",\"ibmEvTarget\":\"\",\"damVideoMP4\":\"\",\"damVideoWebM\":\"\",\"icon\":\"forward\",\"videoID\":\"\",\"title\":\"\",\"eyebrow\":\"\",\"copy\":\"\",\"button\":\"\",\"image\":\"\",\"link\":\"\",\"timestamp\":1643665651571,\"airtableID\":\"\"}]},\"config\":{\"type\":\"quatro\",\"totalCards\":\"12\"}},\"research\":{\"data\":{\"content\":[{\"videoImage\":\"\",\"videoType\":\"youtube\",\"ibmEvLinkTitle\":\"\",\"ibmEvGroup\":\"\",\"ibmEvName\":\"\",\"ibmEvSection\":\"R1\",\"ibmEvTarget\":\"\",\"damVideoMP4\":\"\",\"damVideoWebM\":\"\",\"icon\":\"forward\",\"videoID\":\"\",\"title\":\"27189 Spot the dog safety monitor\",\"timestamp\":1670853838373,\"airtableID\":\"27189\",\"image\":\"https:\/\/1.dam.s81c.com\/p\/0a23e41430abcb17\/20221208-r1-spot-the-dog-robotics-offerings-27188-1600x900.jpg\",\"mobileImg\":\"https:\/\/1.dam.s81c.com\/public\/content\/dam\/worldwide-content\/homepage\/ul\/g\/9e\/7c\/20210823-f-swiss-re-case-study-26069.jpg\",\"headline\":\"Pin-Yu Chen challenges AI every day to build the most trustworthy systems possible\",\"eyebrow\":\"Will Spot the danger-detecting robot be your safety inspectorâ\\x80\\x99s best friend?\",\"imageAlt\":\"composite image featuring Spot, the dog-like robot\",\"copy\":\"\\\\n\",\"link\":\"https:\/\/research.ibm.com\/blog\/ibm-ai-edge-national-grid-monitoring?lnk=ushpv18r1\"},{\"videoImage\":\"\",\"videoType\":\"youtube\",\"ibmEvLinkTitle\":\"\",\"ibmEvGroup\":\"\",\"ibmEvName\":\"\",\"ibmEvSection\":\"R2\",\"ibmEvTarget\":\"\",\"damVideoMP4\":\"\",\"damVideoWebM\":\"\",\"icon\":\"forward\",\"videoID\":\"\",\"title\":\"27190 Quantum Open Science Prize\",\"timestamp\":1670593706262,\"airtableID\":\"27190\",\"copy\":\"\\\\n\",\"image\":\"https:\/\/1.dam.s81c.com\/p\/09f257ea96c87909\/20221205-r1-quantum-open-science-prize-1600x900.png\",\"mobileImg\":\"https:\/\/1.dam.s81c.com\/public\/content\/dam\/worldwide-content\/homepage\/ul\/g\/9e\/7c\/20210823-f-swiss-re-case-study-26069.jpg\",\"headline\":\"AI processes can have a massive carbon footprint. They donâ\\x80\\x99t have to, thanks to analog AI.\",\"eyebrow\":\"IBM Quantumâ\\x80\\x99s Open Science Prize seeks the best open source solutions to pressing problems\",\"imageAlt\":\"Schematic illustration of the honeycomb-pattered Kagome lattice\",\"link\":\"https:\/\/research.ibm.com\/blog\/ibm-quantum-open-science-prize-2022?lnk=ushpv18r2\"},{\"videoImage\":\"\",\"videoType\":\"youtube\",\"ibmEvLinkTitle\":\"\",\"ibmEvGroup\":\"\",\"ibmEvName\":\"\",\"ibmEvSection\":\"R3\",\"ibmEvTarget\":\"\",\"damVideoMP4\":\"\",\"damVideoWebM\":\"\",\"icon\":\"forward\",\"videoID\":\"\",\"title\":\"27191 Ruthenium 1nm chip\",\"timestamp\":1670593873723,\"airtableID\":\"27191\",\"copy\":\"\\\\n\",\"image\":\"https:\/\/1.dam.s81c.com\/p\/09e9905470286c48\/20221205-r1-1nm-chips-ruthenium-27178-1600x900.jpg\",\"mobileImg\":\"https:\/\/1.dam.s81c.com\/public\/content\/dam\/worldwide-content\/homepage\/ul\/g\/9e\/7c\/20210823-f-swiss-re-case-study-26069.jpg\",\"headline\":\"AI processes can have a massive carbon footprint. They donâ\\x80\\x99t have to, thanks to analog AI.\",\"eyebrow\":\"The 1-nanometer future: a metal called ruthenium will shrink the worldâ\\x80\\x99s smallest chip below 2nm\",\"imageAlt\":\"Fingers holding a chip wafer with a computer chip closeup in an inset\",\"link\":\"https:\/\/research.ibm.com\/blog\/1nm-chips-vtfet-ruthenium?lnk=ushpv18r3\"},{\"videoImage\":\"\",\"videoType\":\"youtube\",\"ibmEvLinkTitle\":\"\",\"ibmEvGroup\":\"\",\"ibmEvName\":\"\",\"ibmEvSection\":\"R4\",\"ibmEvTarget\":\"\",\"damVideoMP4\":\"\",\"damVideoWebM\":\"\",\"icon\":\"forward\",\"videoID\":\"https:\/\/www.ibm.com\/thought-leadership\/institute-business-value\/report\/space-cloud-computing\",\"title\":\"27192 PyTorch AI foundation models\",\"timestamp\":1670593999804,\"airtableID\":\"27192\",\"image\":\"https:\/\/1.dam.s81c.com\/p\/09e98ff48ebdd003\/20221128-r-pytorch-foundational-models-27155-800x450.png\",\"mobileImg\":\"https:\/\/1.dam.s81c.com\/public\/content\/dam\/worldwide-content\/homepage\/ul\/g\/9e\/7c\/20210823-f-swiss-re-case-study-26069.jpg\",\"headline\":\"Pin-Yu Chen challenges AI every day to build the most trustworthy systems possible\",\"eyebrow\":\"Train large AI models using standard Ethernet networking on Red Hat OpenShift, on any cloud\\\\n\",\"imageAlt\":\"intersecting groups of lines representing networking\",\"copy\":\"\\\\n\",\"link\":\"https:\/\/research.ibm.com\/blog\/ibm-pytorch-cloud-ai-ethernet?lnk=ushpv18r4\"}]},\"config\":{\"enabled\":\"true\",\"type\":\"carousel\",\"totalCards\":\"12\"}},\"makers\":{\"data\":{\"content\":[{\"alternate\":true,\"ctaColor\":\"red-50\",\"ibmEvLinkTitle\":\"\",\"ibmEvGroup\":\"\",\"ibmEvName\":\"case study\",\"ibmEvSection\":\"M1\",\"ibmEvTarget\":\"\",\"imageMobile\":\"\",\"damVideoMP4\":\"\",\"damVideoWebM\":\"\",\"ctaCopyThree\":\"\",\"ctaLinkTwoThree\":\"\",\"imagePos\":\"center center\",\"copyTwo\":\"\",\"videoType\":\"kaltura\",\"eyebrow\":\"Sustainability insights make facilities work more efficiently\",\"airtableID\":\"27171\",\"videoID\":\"\",\"mobileColumnHalf\":true,\"timestamp\":1671118406356,\"ctaLinkOne\":\"https:\/\/www.ibm.com\/case-studies\/audi-uk\/?lnk=ushpv18cs1\",\"copyOne\":\"A commitment to enhanced user experience enabled Audi UK to deepen its connection to customers\",\"title\":\"27171 GRE-Envizi\",\"ctaCopyOne\":\"See how IBM Consulting helped boost lead generation by 59%\",\"button\":\"See how data provided by the Envizi ESG Suite helped IBM reduce carbon emissions by 62%\",\"copy\":\"IBM Global Real Estate needed a greener way to manage more than 50 million square feet of space worldwide\",\"link\":\"https:\/\/www.ibm.com\/case-studies\/ibm-gre?lnk=ushpv18m1\",\"image\":\"https:\/\/1.dam.s81c.com\/p\/09e9905470a86c9a\/20221212-m-gre-envizi-27171-1600x900.jpg\",\"imageAlt\":\"A Black professional in an office building overlooking green landscape\"},{\"alternate\":true,\"ctaColor\":\"red-50\",\"ibmEvLinkTitle\":\"\",\"ibmEvGroup\":\"\",\"ibmEvName\":\"case study\",\"ibmEvSection\":\"M2\",\"ibmEvTarget\":\"\",\"imageMobile\":\"\",\"damVideoMP4\":\"\",\"damVideoWebM\":\"\",\"ctaCopyThree\":\"\",\"ctaLinkTwoThree\":\"\",\"imagePos\":\"center center\",\"copyTwo\":\"\",\"videoType\":\"kaltura\",\"eyebrow\":\"For predictable trains, we need predictive maintenance\",\"airtableID\":\"27193\",\"videoID\":\"\",\"mobileColumnHalf\":true,\"timestamp\":1670599073776,\"ctaLinkOne\":\"https:\/\/www.ibm.com\/case-studies\/audi-uk\/?lnk=ushpv18cs1\",\"copyOne\":\"A commitment to enhanced user experience enabled Audi UK to deepen its connection to customers\",\"title\":\"27193 Downer Group\",\"ctaCopyOne\":\"See how IBM Consulting helped boost lead generation by 59%\",\"button\":\"Working with IBM Consulting, they created TrainDNA and increased reliability by 51%\",\"copy\":\"When Australia moved to outsource operation of its railroad system, the Downer Group needed a way to handle a huge new workload\",\"link\":\"https:\/\/www.ibm.com\/case-studies\/downer?lnk=ushpv18m2\",\"image\":\"https:\/\/1.dam.s81c.com\/p\/09f257ea96c8790a\/20221205-m-downer-group-27163-1600x900.jpg\",\"imageAlt\":\"Young woman looking out a train window at the landscape passing by\"},{\"alternate\":true,\"ctaColor\":\"red-50\",\"ibmEvLinkTitle\":\"\",\"ibmEvGroup\":\"\",\"ibmEvName\":\"case study\",\"ibmEvSection\":\"M3\",\"ibmEvTarget\":\"\",\"imageMobile\":\"\",\"damVideoMP4\":\"\",\"damVideoWebM\":\"\",\"ctaCopyThree\":\"\",\"ctaLinkTwoThree\":\"\",\"imagePos\":\"center center\",\"copyTwo\":\"\",\"videoType\":\"kaltura\",\"eyebrow\":\"New Jersey keeps the heat and lights on for those in need\",\"airtableID\":\"27194\",\"videoID\":\"\",\"mobileColumnHalf\":true,\"timestamp\":1670599058497,\"ctaLinkOne\":\"https:\/\/www.ibm.com\/case-studies\/audi-uk\/?lnk=ushpv18cs1\",\"copyOne\":\"A commitment to enhanced user experience enabled Audi UK to deepen its connection to customers\",\"title\":\"27194 State of New Jersey\",\"ctaCopyOne\":\"See how IBM Consulting helped boost lead generation by 59%\",\"button\":\"IBM Consulting designed a portal that handles 6,200 calls a month, fast-tracking $127M in relief\",\"copy\":\"The pandemic caused many low-income residents to fall behind on their utility bills, putting their home heating at risk\",\"link\":\"https:\/\/www.ibm.com\/case-studies\/new-jersey-department-of-community-affairs\/?lnk=ushpv18m3\",\"image\":\"https:\/\/1.dam.s81c.com\/p\/09e98ff48ebdd004\/20221128-m-new-jersey-department-of-community-affairs-27154-1600x900.jpg\",\"imageAlt\":\"Winter view of suburban houses through frost on a window\"}]},\"config\":{\"enabled\":\"true\",\"type\":\"carousel\",\"totalCards\":\"12\"}},\"tech\":{\"data\":{\"content\":[{\"imageMobile\":\"10312017-n-episode6-starwars-600x260.jpg\",\"videoType\":\"kaltura\",\"ibmEvLinkTitle\":\"Dear Tech Sonoma\",\"ibmEvGroup\":\"Advertising\",\"ibmEvName\":\"Ad support\",\"ibmEvSection\":\"DT\",\"ibmEvTarget\":\"\",\"damVideoMP4\":\"\",\"damVideoWebM\":\"\",\"videoID\":\"\",\"icon\":\"forward\",\"copy\":\"\",\"link\":\"\",\"airtableID\":\"\",\"title\":\"\",\"eyebrow\":\"\",\"button\":\"\",\"image\":\"\",\"timestamp\":1598626304757},{\"icon\":\"forward\",\"videoID\":\"\",\"videoType\":\"kaltura\",\"ibmEvLinkTitle\":\"Network Consulting Services\",\"ibmEvGroup\":\"GTS\",\"ibmEvName\":\"service\",\"ibmEvSection\":\"BT\",\"ibmEvTarget\":\"\",\"damVideoMP4\":\"\",\"damVideoWebM\":\"\",\"title\":\"\",\"eyebrow\":\"\",\"image\":\"\",\"copy\":\"\",\"button\":\"\",\"link\":\"\",\"timestamp\":1598626317181,\"airtableID\":\"\"},{\"videoType\":\"kaltura\",\"ibmEvLinkTitle\":\"Systems TechU Las Vegas\",\"ibmEvGroup\":\"STG\",\"ibmEvName\":\"event\",\"ibmEvSection\":\"ST\",\"ibmEvTarget\":\"\",\"damVideoMP4\":\"\",\"damVideoWebM\":\"\",\"videoID\":\"\",\"icon\":\"play\",\"airtableID\":\"\",\"title\":\"\",\"copy\":\"\",\"eyebrow\":\"\",\"link\":\"\",\"image\":\"\",\"button\":\"\",\"timestamp\":1598626329298}]}},\"trials\":{\"data\":{\"content\":[{\"icon\":\"forward\",\"videoID\":\"\",\"videoImage\":\"\",\"videoType\":\"youtube\",\"ibmEvLinkTitle\":\"\",\"ibmEvGroup\":\"\",\"ibmEvName\":\"\",\"ibmEvSection\":\"T1\",\"ibmEvTarget\":\"\",\"damVideoMP4\":\"\",\"damVideoWebM\":\"\",\"timestamp\":1670594621355,\"title\":\"1303 IBM Watson Assistant\",\"airtableID\":\"1303\",\"copy\":\"Help customers get stuff done quickly, easily, on any channel. Ask for a demo.\",\"eyebrow\":\"IBM Watson Assistant\",\"link\":\"https:\/\/www.ibm.com\/products\/watson-assistant?lnk=ushpv18t1\\\\u0026lnk2=trial_WatAssist\\\\u0026psrc=none\\\\u0026pexp=def\",\"image\":\"https:\/\/1.dam.s81c.com\/public\/content\/dam\/worldwide-content\/homepage\/ul\/g\/ee\/15\/20220216-t-ibm-watson-assistant.png\",\"imageAlt\":\"The Watson Assistant interface with text boxes and a simulated chatbot\"},{\"subcopy\":\"\",\"ibmEvLinkTitle\":\"\",\"ibmEvGroup\":\"\",\"ibmEvName\":\"\",\"ibmEvSection\":\"T2\",\"ibmEvTarget\":\"\",\"button_mobile\":\"T2\",\"icon\":\"forward\",\"timestamp\":1670594649943,\"title\":\"1304 Cloud Pak for Business Automation\",\"airtableID\":\"1304\",\"copy\":\"Build and scale automation applications on any cloud. Test drive it at no\\\\u0026nbsp;cost.\",\"eyebrow\":\"Cloud Pak for Business Automation\",\"image\":\"https:\/\/1.dam.s81c.com\/public\/content\/dam\/worldwide-content\/homepage\/ul\/g\/67\/6a\/20220216-t-ibm-cloud-pak-for-automation.png\",\"link\":\"https:\/\/www.ibm.com\/cloud\/cloud-pak-for-automation?lnk=ushpv18t2\\\\u0026lnk2=trial_CloudPakAtm\\\\u0026psrc=none\\\\u0026pexp=def\",\"imageAlt\":\"spreadsheet-type charts\"},{\"subcopy\":\"\",\"ibmEvLinkTitle\":\"\",\"ibmEvGroup\":\"\",\"ibmEvName\":\"\",\"ibmEvSection\":\"T3\",\"ibmEvTarget\":\"\",\"button_mobile\":\"T4\",\"timestamp\":1670594670414,\"airtableID\":\"1305\",\"title\":\"1305 IBM Instana Observability\",\"image\":\"https:\/\/1.dam.s81c.com\/p\/08f951362f270092\/Instana-trial-800x450.jpg\",\"eyebrow\":\"IBM Instana Observability\",\"copy\":\"Easily manage the performance of your microservice applications. Get a free trial.\",\"link\":\"https:\/\/www.ibm.com\/cloud\/instana?lnk=ushpv18t3\\\\u0026lnk2=trial_Instana\\\\u0026psrc=none\\\\u0026pexp=def\",\"imageAlt\":\"Instana dashboard with status tables and charts\"},{\"subcopy\":\"\",\"ibmEvLinkTitle\":\"\",\"ibmEvGroup\":\"\",\"ibmEvName\":\"\",\"ibmEvSection\":\"T4\",\"ibmEvTarget\":\"\",\"button_mobile\":\"T4\",\"timestamp\":1645198930856,\"airtableID\":\"\",\"title\":\"\",\"image\":\"\",\"eyebrow\":\"\",\"copy\":\"\",\"button\":\"\",\"link\":\"\"}]}},\"contentspotlight\":{\"data\":{\"content\":[{\"alternate\":true,\"ctaColor\":\"red-50\",\"ibmEvLinkTitle\":\"\",\"ibmEvGroup\":\"\",\"ibmEvName\":\"case study\",\"ibmEvSection\":\"CS1\",\"ibmEvTarget\":\"\",\"imageMobile\":\"\",\"damVideoMP4\":\"\",\"damVideoWebM\":\"\",\"ctaCopyThree\":\"\",\"ctaLinkTwoThree\":\"\",\"imagePos\":\"center left\",\"copyTwo\":\"\",\"videoType\":\"kaltura\",\"eyebrow\":\"\",\"airtableID\":\"\",\"videoID\":\"\",\"mobileColumnHalf\":true,\"timestamp\":1645199476505,\"ctaLinkOne\":\"\",\"copyOne\":\"\",\"title\":\"\",\"ctaCopyOne\":\"\",\"image\":\"\"},{\"alternate\":true,\"image\":\"https:\/\/1.dam.s81c.com\/public\/content\/dam\/worldwide-content\/homepage\/ul\/g\/ea\/ca\/cs-hub-logos-k-1042x1130.png\",\"ctaColor\":\"red-50\",\"videoID\":\"\",\"videoType\":\"youtube\",\"ibmEvLinkTitle\":\"\",\"ibmEvGroup\":\"\",\"ibmEvName\":\"case study\",\"ibmEvSection\":\"CS2\",\"ibmEvTarget\":\"\",\"imageMobile\":\"\",\"damVideoMP4\":\"\",\"damVideoWebM\":\"\",\"ctaCopyThree\":\"\",\"ctaLinkTwoThree\":\"\",\"imagePos\":\"center center\",\"eyebrow\":\"25339\",\"title\":\"Client success stories\",\"ctaCopyTwo\":\"\",\"ctaCopyOne\":\"Read how industry leaders put smart to work\",\"ctaLinkTwo\":\"\",\"ctaLinkOne\":\"https:\/\/www.ibm.com\/case-studies\/search?search\\\\u0026lnk=ushpv18cs2\",\"copyOne\":\"\",\"copyTwo\":\"\",\"timestamp\":1638195426535,\"airtableID\":\"25339\",\"mobileColumnHalf\":true}]},\"config\":{\"type\":\"dos\"}},\"thinknews\":{\"data\":{\"content\":[{\"videoImage\":\"\",\"videoType\":\"youtube\",\"ibmEvLinkTitle\":\"\",\"ibmEvGroup\":\"\",\"ibmEvName\":\"\",\"ibmEvSection\":\"Th1\",\"ibmEvTarget\":\"\",\"damVideoMP4\":\"\",\"damVideoWebM\":\"\",\"icon\":\"forward\",\"videoID\":\"\",\"label\":\"\",\"title\":\"\",\"image\":\"https:\/\/1.dam.s81c.com\/p\/0797bc3546c3dcc9\/20220405-ibm-z-multiframe-annc-444x320-26343.jpg\",\"copy\":\"Breeze through 25 billion secure transactions daily, across any hybrid cloud structure\",\"eyebrow\":\"\",\"timestamp\":1655481021045,\"airtableID\":\"\",\"link\":\"\",\"active\":false,\"sandbox\":false,\"stage\":false},{\"videoImage\":\"\",\"videoType\":\"youtube\",\"ibmEvLinkTitle\":\"\",\"ibmEvGroup\":\"\",\"ibmEvName\":\"\",\"ibmEvSection\":\"Th2\",\"ibmEvTarget\":\"\",\"damVideoMP4\":\"\",\"damVideoWebM\":\"\",\"icon\":\"forward\",\"videoID\":\"\",\"label\":\"\",\"title\":\"\",\"timestamp\":1655481064068,\"airtableID\":\"\",\"eyebrow\":\"\",\"copy\":\"Four out of five companies surveyed use or plan to adopt AI. Find out why.\\\\n\",\"link\":\"\",\"active\":false,\"sandbox\":false,\"stage\":false},{\"videoImage\":\"\",\"videoType\":\"youtube\",\"ibmEvLinkTitle\":\"\",\"ibmEvGroup\":\"\",\"ibmEvName\":\"\",\"ibmEvSection\":\"Th3\",\"ibmEvTarget\":\"\",\"damVideoMP4\":\"\",\"damVideoWebM\":\"\",\"icon\":\"forward\",\"videoID\":\"\",\"label\":\"\",\"title\":\"\",\"timestamp\":1655481115853,\"airtableID\":\"\",\"eyebrow\":\"\",\"copy\":\"Boost your growth with up to $120K in cloud credits and expert mentoring when you join the Startup with IBM program\\\\n\",\"image\":\"https:\/\/1.dam.s81c.com\/public\/content\/dam\/worldwide-content\/homepage\/ul\/g\/0e\/e0\/20220131-startup-26374-444x320.jpg\",\"link\":\"\",\"active\":false,\"sandbox\":false,\"stage\":false},{\"videoImage\":\"\",\"videoType\":\"youtube\",\"ibmEvLinkTitle\":\"\",\"ibmEvGroup\":\"\",\"ibmEvName\":\"\",\"ibmEvSection\":\"Th4\",\"ibmEvTarget\":\"\",\"damVideoMP4\":\"\",\"damVideoWebM\":\"\",\"icon\":\"forward\",\"videoID\":\"\",\"label\":\"\",\"title\":\"\",\"image\":\"https:\/\/1.dam.s81c.com\/p\/0797bc3546c3dcc9\/20220405-ibm-z-multiframe-annc-444x320-26343.jpg\",\"copy\":\"Breeze through 25 billion secure transactions daily, across any hybrid cloud structure\\\\n\",\"eyebrow\":\"\",\"timestamp\":1655481135287,\"airtableID\":\"\",\"link\":\"\",\"active\":false,\"sandbox\":false,\"stage\":false},{\"videoImage\":\"\",\"videoType\":\"youtube\",\"ibmEvLinkTitle\":\"\",\"ibmEvGroup\":\"\",\"ibmEvName\":\"\",\"ibmEvSection\":\"Th5\",\"ibmEvTarget\":\"\",\"damVideoMP4\":\"\",\"damVideoWebM\":\"\",\"icon\":\"forward\",\"videoID\":\"\",\"label\":\"Creativity at work\",\"title\":\"\",\"timestamp\":1652111841522,\"airtableID\":\"\",\"eyebrow\":\"Meet the New Creators, 10 visionaries creatively applying technology in business to drive change\",\"copy\":\"Boost your growth with up to $120K in cloud credits and expert mentoring when you join the Startup with IBM program\\\\n\",\"image\":\"https:\/\/1.dam.s81c.com\/public\/content\/dam\/worldwide-content\/homepage\/ul\/g\/0e\/e0\/20220131-startup-26374-444x320.jpg\",\"link\":\"https:\/\/www.ibm.com\/thought-leadership\/new-creators?lnk=ushpv18Th3\",\"active\":false,\"sandbox\":false,\"stage\":false},{\"videoImage\":\"\",\"videoType\":\"youtube\",\"ibmEvLinkTitle\":\"\",\"ibmEvGroup\":\"\",\"ibmEvName\":\"\",\"ibmEvSection\":\"Th6\",\"ibmEvTarget\":\"\",\"damVideoMP4\":\"\",\"damVideoWebM\":\"\",\"icon\":\"forward\",\"videoID\":\"\",\"label\":\"Creativity at work\",\"title\":\"\",\"timestamp\":1652111851031,\"airtableID\":\"\",\"eyebrow\":\"Meet the New Creators, 10 visionaries creatively applying technology in business to drive change\",\"copy\":\"Boost your growth with up to $120K in cloud credits and expert mentoring when you join the Startup with IBM program\\\\n\",\"image\":\"https:\/\/1.dam.s81c.com\/public\/content\/dam\/worldwide-content\/homepage\/ul\/g\/0e\/e0\/20220131-startup-26374-444x320.jpg\",\"link\":\"https:\/\/www.ibm.com\/thought-leadership\/new-creators?lnk=ushpv18Th3\",\"active\":false,\"sandbox\":false,\"stage\":false}]}},\"big6LeadspaceCards\":{\"data\":{\"content\":[{\"title\":\"Work safe. Work smart.\",\"copy\":\"\",\"link\":\"https:\/\/www.ibm.com\/smarter-business\/work-safe?lnk=ushpv18cv1\",\"timestamp\":1591797887933},{\"title\":\"Engage customers anywhere with Watson\",\"copy\":\"\",\"link\":\"https:\/\/www.ibm.com\/smarter-business\/customer-experience?lnk=ushpv18cv2\",\"timestamp\":1591797833198},{\"title\":\"Enhance your IT resiliency and business continuity\",\"copy\":\"\",\"link\":\"https:\/\/www.ibm.com\/services\/business-continuity?lnk=ushpv18cv3\",\"timestamp\":1591797923124},{\"title\":\"Accelerate agility and efficiency with IBM Cloud\",\"copy\":\"\",\"link\":\"https:\/\/www.ibm.com\/cloud\/yourcloud?lnk=ushpv18cv4\",\"timestamp\":1591798189360},{\"title\":\"Protect against new cyber risks\",\"copy\":\"\",\"link\":\"https:\/\/www.ibm.com\/security?lnk=ushpv18cv5\",\"timestamp\":1591990121847},{\"title\":\"Build resilient supply chains and operations\",\"copy\":\"\",\"link\":\"https:\/\/www.ibm.com\/supply-chain?lnk=ushpv18cv6\",\"timestamp\":1591990130317}]}},\"certifications\":{\"data\":{\"content\":[{\"ibmEvSection\":\"tc1\",\"image\":\" https:\/\/1.dam.s81c.com\/public\/content\/dam\/worldwide-content\/homepage\/ul\/g\/bb\/fd\/20211018-cert-tech-u-virtual-edition.png\",\"eyebrow\":\"IBM TechU virtual edition: October 25â\\x80\\x9328\",\"title\":\"IBM TechU 2021, the virtual edition\",\"button\":\"Register to choose from 250+ sessions and labs, and engage live with experts and peers\",\"timestamp\":1634607850644,\"airtableID\":\"26189\",\"link\":\"https:\/\/www.ibm.com\/training\/events\/vtechu2021?lnk=ushpv18tc1\",\"mobileImg\":\"https:\/\/1.dam.s81c.com\/public\/content\/dam\/worldwide-content\/homepage\/ul\/g\/bb\/fd\/20211018-cert-tech-u-virtual-edition.png\",\"copy\":\"\\\\n\"},{\"ibmEvSection\":\"tc2\",\"eyebrow\":\"Design thinking is for everyone\",\"title\":\"26192 Design thinking practitioner \",\"button\":\"Learn how to drive business results by focusing on your usersâ\\x80\\x99 needs in this free course\",\"timestamp\":1634315831253,\"airtableID\":\"26192\",\"mobileImg\":\"https:\/\/1.dam.s81c.com\/public\/content\/dam\/worldwide-content\/homepage\/ul\/g\/e1\/3b\/20211018-cert-design-thinking.jpg\",\"copy\":\"\\\\n\",\"link\":\"https:\/\/www.ibm.com\/design\/thinking\/?lnk=ushpv18tc2\",\"image\":\"https:\/\/1.dam.s81c.com\/public\/content\/dam\/worldwide-content\/homepage\/ul\/g\/e1\/3b\/20211018-cert-design-thinking.jpg\"}]},\"config\":{\"enabled\":\"true\"}},\"videonews\":{\"data\":{\"content\":[{\"ibmEvSection\":\"vn1\",\"alternateColor\":true,\"eyebrow\":\"AI can take you to places youâ\\x80\\x99ve only dreamed of\\\\n\",\"title\":\"26324 Data Science: Watson Studio\",\"button\":\"Build and scale trusted AI across any cloud\",\"link\":\"https:\/\/www.ibm.com\/cloud\/watson-studio?lnk=ushpv18vn1\",\"timestamp\":1639779183583,\"airtableID\":\"26324\",\"copy\":\"Get there with Watson Studio, a simpler way to turn predictions into decisions collaboratively, on any cloud, on one data and AI platform\",\"videoLength\":\"1:13\",\"videoId\":\"1_iej13uex\",\"image\":\"https:\/\/1.dam.s81c.com\/public\/content\/dam\/worldwide-content\/homepage\/ul\/g\/82\/93\/20211025-vn-data-science-watson-studio-1200x900.jpg\"},{\"ibmEvSection\":\"vn2\",\"eyebrow\":\"A â\\x80\\x98never trust, always verifyâ\\x80\\x99 security model\\\\n\",\"title\":\"26325 Zero Trust Security\",\"button\":\"Read about zero trust architecture and the future of security\",\"timestamp\":1639779210749,\"airtableID\":\"26325\",\"copy\":\"On average, it can take 77 days to contain an insider data breach. Companies with a zero trust framework in place can do so in near-real time.\",\"videoLength\":\"3:06\",\"videoId\":\"1_yr2j7p5f\",\"image\":\"https:\/\/1.dam.s81c.com\/public\/content\/dam\/worldwide-content\/homepage\/ul\/g\/2e\/5a\/20211115-vn-zero-trust-security-26254-1200x900.jpg\",\"alternateColor\":true,\"link\":\"https:\/\/www.ibm.com\/security\/zero-trust?lnk=ushpv18vn2\"},{\"ibmEvSection\":\"vn3\",\"eyebrow\":\"Home Trust and IBM Cloud: prepared for the unforeseeable\\\\n\",\"title\":\"26326 Home Trust CS\",\"button\":\"Learn how the right platform supported the workforce during COVID\\\\u0026#8209;19 lockdowns\",\"timestamp\":1639779304922,\"airtableID\":\"26326\",\"copy\":\"Because of an early transition to IBM Cloud, one of Canadaâ\\x80\\x99s leading financial institutions was able to change to remote work and thrive in 2020\",\"videoLength\":\"2:37\",\"videoId\":\"1_fz1liaxf\",\"image\":\"https:\/\/1.dam.s81c.com\/public\/content\/dam\/worldwide-content\/homepage\/ul\/g\/37\/78\/20211122-vn-home-trust-26271-1200x900.jpg\",\"alternateColor\":true,\"link\":\"https:\/\/www.ibm.com\/case-studies\/home-trust\/?lnk=ushpv18vn3\"}]},\"config\":{\"enabled\":\"true\"}}}}},\"__N_SSG\":true},\"page\":\"\/\",\"query\":{},\"buildId\":\"28mTATVvmn7zNjnEP771C\",\"assetPrefix\":\".\",\"isFallback\":false,\"gsp\":true}<\/script><script nomodule=\"\" src=\".\/_next\/static\/chunks\/polyfills-265a51dacb3992e55d6f.js\"><\/script><script src=\".\/_next\/static\/chunks\/webpack-9a6e2dd34947de61505d.js\" async=\"\"><\/script><script src=\".\/_next\/static\/chunks\/framework.602aaa49e9cf44108ea4.js\" async=\"\"><\/script><script src=\".\/_next\/static\/chunks\/commons.04d70673b3635e2c032c.js\" async=\"\"><\/script><script src=\".\/_next\/static\/chunks\/f6078781a05fe1bcb0902d23dbbb2662c8d200b3.baa606c551593d36f912.js\" async=\"\"><\/script><script src=\".\/_next\/static\/chunks\/main-20e8e4975220bbb5666e.js\" async=\"\"><\/script><script src=\".\/_next\/static\/chunks\/styles.3461e1160e1b06bf3496.js\" async=\"\"><\/script><script src=\".\/_next\/static\/chunks\/pages\/_app-e308e6c78a93f9b5a2a4.js\" async=\"\"><\/script><script src=\".\/_next\/static\/chunks\/1c920f04.f50eb41f4d89f09b8cba.js\" async=\"\"><\/script><script src=\".\/_next\/static\/chunks\/5f6bb6fb.b7c8fc8ba1743aa7acaa.js\" async=\"\"><\/script><script src=\".\/_next\/static\/chunks\/8f19d780.5fa18abdb131962d1cc4.js\" async=\"\"><\/script><script src=\".\/_next\/static\/chunks\/8edc3fe5.82abc186386cef91e9b2.js\" async=\"\"><\/script><script src=\".\/_next\/static\/chunks\/fc20e1c4.d98d23767340a1237305.js\" async=\"\"><\/script><script src=\".\/_next\/static\/chunks\/90141894.85594eb6a9acdd782abf.js\" async=\"\"><\/script><script src=\".\/_next\/static\/chunks\/bc80632e.9a80bcc8415ae464fab2.js\" async=\"\"><\/script><script src=\".\/_next\/static\/chunks\/1dd0fb51.f16e33f7e2db3449d18e.js\" async=\"\"><\/script><script src=\".\/_next\/static\/chunks\/500f7593.4b01426721d5ac82f9ba.js\" async=\"\"><\/script><script src=\".\/_next\/static\/chunks\/5d8d49e442f4e00190cb1a13966c1f91ed87c0f4.913e5d188c252db9d171.js\" async=\"\"><\/script><script src=\".\/_next\/static\/chunks\/11.f003844d8f71e73157c2.js\" async=\"\"><\/script><script src=\".\/_next\/static\/chunks\/pages\/index-c9e08ed78998acd87c11.js\" async=\"\"><\/script><script src=\".\/_next\/static\/28mTATVvmn7zNjnEP771C\/_buildManifest.js\" async=\"\"><\/script><script src=\".\/_next\/static\/28mTATVvmn7zNjnEP771C\/_ssgManifest.js\" async=\"\"><\/script><script type=\"text\/javascript\"  src=\"\/hRvo6h\/Ynf\/d5i\/ctPvLWea\/Ef9hJtkLuw\/YnB5eA\/Pjc0\/GWFgMGI\"><\/script><link rel=\"stylesheet\" type=\"text\/css\"  href=\"\/_sec\/cp_challenge\/sec-3-9.css\">\\n          <script  src=\"\/_sec\/cp_challenge\/sec-cpt-3-9.js\" async defer><\/script>\\n          <div id=\"sec-overlay\" style=\"display:none;\">\\n          <div id=\"sec-container\">\\n          <\/div>\\n        <\/div><\/body><\/html>'"
      ]
     },
     "metadata":{
      
     },
     "output_type":"display_data"
    }
   ],
   "metadata":{
    "datalore":{
     "node_id":"IVLJlJvsLF4P7JIxjpxcVw",
     "type":"CODE",
     "hide_input_from_viewers":true,
     "hide_output_from_viewers":true
    }
   }
  },
  {
   "cell_type":"code",
   "source":[
    "r.headers"
   ],
   "execution_count":6,
   "outputs":[
    {
     "data":{
      "text\/plain":[
       "{'Accept-Ranges': 'bytes', 'Content-Type': 'text\/html', 'ETag': '\"2a5bad67a70f3cce74ec7a2a72316024:1680701468.351076\"', 'Last-Modified': 'Wed, 05 Apr 2023 12:50:26 GMT', 'Server': 'AkamaiNetStorage', 'Cache-Control': 'max-age=3600', 'Expires': 'Fri, 07 Apr 2023 05:14:52 GMT', 'X-Akamai-Transformed': '9 18721 0 pmb=mTOE,2', 'Content-Encoding': 'gzip', 'Date': 'Fri, 07 Apr 2023 04:14:52 GMT', 'Content-Length': '18901', 'Connection': 'keep-alive', 'Vary': 'Accept-Encoding', 'x-content-type-options': 'nosniff', 'X-XSS-Protection': '1; mode=block', 'Content-Security-Policy': 'upgrade-insecure-requests', 'Strict-Transport-Security': 'max-age=31536000'}"
      ]
     },
     "metadata":{
      
     },
     "output_type":"display_data"
    }
   ],
   "metadata":{
    "datalore":{
     "node_id":"hENIa5qhH4eNVAvprSmD0K",
     "type":"CODE",
     "hide_input_from_viewers":true,
     "hide_output_from_viewers":true
    }
   }
  },
  {
   "cell_type":"code",
   "source":[
    "soup = BeautifulSoup(data,'html5lib')"
   ],
   "execution_count":7,
   "outputs":[
    
   ],
   "metadata":{
    "datalore":{
     "node_id":"gRulpeI6U0Zd9IjEm4d41d",
     "type":"CODE",
     "hide_input_from_viewers":true,
     "hide_output_from_viewers":true
    }
   }
  },
  {
   "cell_type":"code",
   "source":[
    "#FOR SCRAPPING ALL THE LINKS\n",
    "for link in soup.findAll('a'):\n",
    "    print(link.get('href'))"
   ],
   "execution_count":8,
   "outputs":[
    {
     "name":"stdout",
     "text":[
      "#\n",
      "#\n",
      "#\n",
      "#\n",
      "#\n",
      "https:\/\/www.ibm.com\/reports\/threat-intelligence\n",
      "https:\/\/www.ibm.com\/resources\/consulting\/experience-transformation\n",
      "https:\/\/www.ibm.com\/resources\/consulting\/operational-efficiency\n",
      "https:\/\/www.ibm.com\/resources\/consulting\/hybrid-cloud-services\n",
      "https:\/\/www.ibm.com\/consulting\n",
      "None\n",
      "#\n",
      "#\n",
      "#\n",
      "#\n",
      "#\n",
      "None\n",
      "None\n",
      "https:\/\/www.ibm.com\/employment\/?lnk=flatitem\n",
      "https:\/\/www.ibm.com\/impact\n",
      "https:\/\/research.ibm.com\/\n",
      "None\n",
      "https:\/\/www.ibm.com\/consulting\/?lnk=flathl\n",
      "https:\/\/www.ibm.com\/consulting\/strategy\/?lnk=flathl\n",
      "https:\/\/www.ibm.com\/consulting\/ibmix?lnk=flathl\n",
      "https:\/\/www.ibm.com\/consulting\/technology\/\n",
      "https:\/\/www.ibm.com\/consulting\/operations\/?lnk=flathl\n",
      "https:\/\/www.ibm.com\/strategic-partnerships\n",
      "http:\/\/ibm.com\/consulting\/ibmix\n",
      "https:\/\/www.ibm.com\/consulting\n",
      "https:\/\/www.ibm.com\/sports\/masters\n",
      "https:\/\/www.ibm.com\/products\/envizi\n",
      "https:\/\/www.ibm.com\/products\/maximo\n",
      "https:\/\/www.ibm.com\/sustainability\n",
      "https:\/\/www.ibm.com\/cloud\/campaign\/cloud-simplicity\n",
      "https:\/\/www.ibm.com\/cloud\/campaign\/cloud-simplicity\n",
      "https:\/\/www.ibm.com\/products\/instana\n",
      "https:\/\/www.ibm.com\/products\/turbonomic\n",
      "https:\/\/www.ibm.com\/automation\n",
      "https:\/\/www.ibm.com\/cloud\/watson-knowledge-catalog\n",
      "https:\/\/www.ibm.com\/data-management\n",
      "https:\/\/www.ibm.com\/data-fabric\n",
      "https:\/\/www.ibm.com\/\n"
     ],
     "output_type":"stream"
    }
   ],
   "metadata":{
    "datalore":{
     "node_id":"tKRnXKtCJp9YVWbzAC7r2c",
     "type":"CODE",
     "hide_input_from_viewers":true,
     "hide_output_from_viewers":true
    }
   }
  },
  {
   "cell_type":"code",
   "source":[
    "# FOR SCRAPPING ALL THE IMAGES\n",
    "for link in soup.findAll('img'):\n",
    "    print(link.get('src'))"
   ],
   "execution_count":9,
   "outputs":[
    {
     "name":"stdout",
     "text":[
      "https:\/\/1.dam.s81c.com\/p\/0b52088cc24c2f37\/CS_the_transform_masters_question_30_prores_frame00.png.global.mr_5x4.jpg\n",
      "https:\/\/1.dam.s81c.com\/p\/0b52088cc24c2f37\/CS_the_transform_masters_question_30_prores_frame00.png.global.mr_5x4.jpg\n",
      "https:\/\/1.dam.s81c.com\/p\/0b526ddf40c4140c\/CS_The_Sustainability_Building_Question_30_ProRes-frame-07-00.png.global.sr_5x4.png\n",
      "https:\/\/1.dam.s81c.com\/p\/0b52088cc24c2f41\/CS_The_Modernize_Banking_Question_V1_30_ProRes_frame-00-06.png.global.sr_5x4.png\n",
      "https:\/\/1.dam.s81c.com\/p\/0b52088cc24c2f3d\/CS-The-Automate-Beer-Question-30_ProRes_frame-13-22.png.global.sr_5x4.png\n",
      "https:\/\/1.dam.s81c.com\/p\/0b52088cc24c2f35\/CS_The_Modernize_Banking_Question_V1_30_ProRes-frame-04-30.png.global.sr_5x4.png\n",
      "https:\/\/1.dam.s81c.com\/p\/0aac9cf57bcbf324\/dotcom-1-overview.jpg.global.sr_16x9.jpg\n",
      "https:\/\/1.dam.s81c.com\/p\/0aac9cf57c4bf381\/0935e0d55846b9ec_dotcom-2-strategy.jpg.global.m_16x9.jpg\n",
      "https:\/\/1.dam.s81c.com\/p\/0aac9cf57c4bf382\/0656655b47a3af8b_dotcom-3-experience.jpg.global.sr_16x9.jpg\n",
      "https:\/\/1.dam.s81c.com\/p\/0aac9cf57c4bf383\/08f9513598a70746_dotcom-4-technology.jpg.global.sr_16x9.jpg\n",
      "https:\/\/1.dam.s81c.com\/p\/0aac9cf57c4bf380\/0935e0d55846b9e4_dotcom-5-operations.jpg.global.sr_16x9.jpg\n",
      "https:\/\/1.dam.s81c.com\/p\/0aac9cf57c4bf384\/064e0139f5a3aa3f_dotcom-6-partners.jpg.global.sr_16x9.jpg\n"
     ],
     "output_type":"stream"
    }
   ],
   "metadata":{
    "datalore":{
     "node_id":"Orwsv88kWCgroP5I56vFaG",
     "type":"CODE",
     "hide_input_from_viewers":true,
     "hide_output_from_viewers":true
    }
   }
  },
  {
   "cell_type":"markdown",
   "source":[
    "# SCRAPE DATA FROM HTML TABLES"
   ],
   "attachments":{
    
   },
   "metadata":{
    "datalore":{
     "node_id":"dtoJwT3QguerREAkYVrj6M",
     "type":"MD",
     "hide_input_from_viewers":true,
     "hide_output_from_viewers":true
    }
   }
  },
  {
   "cell_type":"code",
   "source":[
    "url = \"https:\/\/cf-courses-data.s3.us.cloud-object-storage.appdomain.cloud\/IBM-DA0321EN-SkillsNetwork\/labs\/datasets\/HTMLColorCodes.html\""
   ],
   "execution_count":10,
   "outputs":[
    
   ],
   "metadata":{
    "datalore":{
     "node_id":"Y9JQkvFA6sbb9DVjdj9P7u",
     "type":"CODE",
     "hide_input_from_viewers":true,
     "hide_output_from_viewers":true
    }
   }
  },
  {
   "cell_type":"code",
   "source":[
    "data = requests.get(url).text\n",
    "data"
   ],
   "execution_count":13,
   "outputs":[
    {
     "data":{
      "text\/plain":[
       "'<html>\\n   <body>\\n      <h1>Partital List  of HTML5 Supported Colors<\/h1>\\n<table border =\"1\" class=\"main-table\">\\n   <tr>\\n      <td>Number <\/td>\\n      <td>Color<\/td>\\n      <td>Color Name<\/td>\\n      <td>Hex Code<br>#RRGGBB<\/td>\\n      <td>Decimal Code<br>(R,G,B)<\/td>\\n   <\/tr>\\n   <tr>\\n      <td>1<\/td>\\n      <td style=\"background:lightsalmon;\">&nbsp;<\/td>\\n      <td>lightsalmon<\/td>\\n      <td>#FFA07A<\/td>\\n      <td>rgb(255,160,122)<\/td>\\n   <\/tr>\\n   <tr>\\n      <td>2<\/td>\\n      <td style=\"background:salmon;\">&nbsp;<\/td>\\n      <td>salmon<\/td>\\n      <td>#FA8072<\/td>\\n      <td>rgb(250,128,114)<\/td>\\n   <\/tr>\\n   <tr>\\n      <td>3<\/td>\\n      <td style=\"background:darksalmon;\">&nbsp;<\/td>\\n      <td>darksalmon<\/td>\\n      <td>#E9967A<\/td>\\n      <td>rgb(233,150,122)<\/td>\\n   <\/tr>\\n   <tr>\\n      <td>4<\/td>\\n      <td style=\"background:lightcoral;\">&nbsp;<\/td>\\n      <td>lightcoral<\/td>\\n      <td>#F08080<\/td>\\n      <td>rgb(240,128,128)<\/td>\\n   <\/tr>\\n   <tr>\\n      <td>5<\/td>\\n      <td style=\"background:coral;\">&nbsp;<\/td>\\n      <td>coral<\/td>\\n      <td>#FF7F50<\/td>\\n      <td>rgb(255,127,80)<\/td>\\n   <\/tr>\\n   <tr>\\n      <td>6<\/td>\\n      <td style=\"background:tomato;\">&nbsp;<\/td>\\n      <td>tomato<\/td>\\n      <td>#FF6347<\/td>\\n      <td>rgb(255,99,71)<\/td>\\n   <\/tr>\\n   <tr>\\n      <td>7<\/td>\\n      <td style=\"background:orangered;\">&nbsp;<\/td>\\n      <td>orangered<\/td>\\n      <td>#FF4500<\/td>\\n      <td>rgb(255,69,0)<\/td>\\n   <\/tr>\\n   <tr>\\n      <td>8<\/td>\\n      <td style=\"background:gold;\">&nbsp;<\/td>\\n      <td>gold<\/td>\\n      <td>#FFD700<\/td>\\n      <td>rgb(255,215,0)<\/td>\\n   <\/tr>\\n   <tr>\\n      <td>9<\/td>\\n      <td style=\"background:orange;\">&nbsp;<\/td>\\n      <td>orange<\/td>\\n      <td>#FFA500<\/td>\\n      <td>rgb(255,165,0)<\/td>\\n   <\/tr>\\n   <tr>\\n      <td>10<\/td>\\n      <td style=\"background:darkorange;\">&nbsp;<\/td>\\n      <td>darkorange<\/td>\\n      <td>#FF8C00<\/td>\\n      <td>rgb(255,140,0)<\/td>\\n   <\/tr>\\n   <tr>\\n      <td>11<\/td>\\n      <td style=\"background:lightyellow;\">&nbsp;<\/td>\\n      <td>lightyellow<\/td>\\n      <td>#FFFFE0<\/td>\\n      <td>rgb(255,255,224)<\/td>\\n   <\/tr>\\n   <tr>\\n      <td>12<\/td>\\n      <td style=\"background:lemonchiffon;\">&nbsp;<\/td>\\n      <td>lemonchiffon<\/td>\\n      <td>#FFFACD<\/td>\\n      <td>rgb(255,250,205)<\/td>\\n   <\/tr>\\n   <tr>\\n      <td>13<\/td>\\n      <td style=\"background:papayawhip;\">&nbsp;<\/td>\\n      <td>papayawhip<\/td>\\n      <td>#FFEFD5<\/td>\\n      <td>rgb(255,239,213)<\/td>\\n   <\/tr>\\n   <tr>\\n      <td>14<\/td>\\n      <td style=\"background:moccasin;\">&nbsp;<\/td>\\n      <td>moccasin<\/td>\\n      <td>#FFE4B5<\/td>\\n      <td>rgb(255,228,181)<\/td>\\n   <\/tr>\\n   <tr>\\n      <td>15<\/td>\\n      <td style=\"background:peachpuff;\">&nbsp;<\/td>\\n      <td>peachpuff<\/td>\\n      <td>#FFDAB9<\/td>\\n      <td>rgb(255,218,185)<\/td>\\n   <\/tr>\\n   <tr>\\n      <td>16<\/td>\\n      <td style=\"background:palegoldenrod;\">&nbsp;<\/td>\\n      <td>palegoldenrod<\/td>\\n      <td>#EEE8AA<\/td>\\n      <td>rgb(238,232,170)<\/td>\\n   <\/tr>\\n   <tr>\\n      <td>17<\/td>\\n      <td style=\"background:khaki;\">&nbsp;<\/td>\\n      <td>khaki<\/td>\\n      <td>#F0E68C<\/td>\\n      <td>rgb(240,230,140)<\/td>\\n   <\/tr>\\n   <tr>\\n      <td>18<\/td>\\n      <td style=\"background:darkkhaki;\">&nbsp;<\/td>\\n      <td>darkkhaki<\/td>\\n      <td>#BDB76B<\/td>\\n      <td>rgb(189,183,107)<\/td>\\n   <\/tr>\\n   <tr>\\n      <td>19<\/td>\\n      <td style=\"background:yellow;\">&nbsp;<\/td>\\n      <td>yellow<\/td>\\n      <td>#FFFF00<\/td>\\n      <td>rgb(255,255,0)<\/td>\\n   <\/tr>\\n   <tr>\\n      <td>20<\/td>\\n      <td style=\"background:lawngreen;\">&nbsp;<\/td>\\n      <td>lawngreen<\/td>\\n      <td>#7CFC00<\/td>\\n      <td>rgb(124,252,0)<\/td>\\n   <\/tr>\\n   <tr>\\n      <td>21<\/td>\\n      <td style=\"background:chartreuse;\">&nbsp;<\/td>\\n      <td>chartreuse<\/td>\\n      <td>#7FFF00<\/td>\\n      <td>rgb(127,255,0)<\/td>\\n   <\/tr>\\n   <tr>\\n      <td>22<\/td>\\n      <td style=\"background:limegreen;\">&nbsp;<\/td>\\n      <td>limegreen<\/td>\\n      <td>#32CD32<\/td>\\n      <td>rgb(50,205,50)<\/td>\\n   <\/tr>\\n   <tr>\\n      <td>23<\/td>\\n      <td style=\"background:lime;\">&nbsp;<\/td>\\n      <td>lime<\/td>\\n      <td>#00FF00<\/td>\\n      <td>rgb(0.255.0)<\/td>\\n   <\/tr>\\n   <tr>\\n      <td>24<\/td>\\n      <td style=\"background:forestgreen;\">&nbsp;<\/td>\\n      <td>forestgreen<\/td>\\n      <td>#228B22<\/td>\\n      <td>rgb(34,139,34)<\/td>\\n   <\/tr>\\n   <tr>\\n      <td>25<\/td>\\n      <td style=\"background:green;\">&nbsp;<\/td>\\n      <td>green<\/td>\\n      <td>#008000<\/td>\\n      <td>rgb(0,128,0)<\/td>\\n   <\/tr>\\n   <tr>\\n      <td>26<\/td>\\n      <td style=\"background:powderblue;\">&nbsp;<\/td>\\n      <td>powderblue<\/td>\\n      <td>#B0E0E6<\/td>\\n      <td>rgb(176,224,230)<\/td>\\n   <\/tr>\\n   <tr>\\n      <td>27<\/td>\\n      <td style=\"background:lightblue;\">&nbsp;<\/td>\\n      <td>lightblue<\/td>\\n      <td>#ADD8E6<\/td>\\n      <td>rgb(173,216,230)<\/td>\\n   <\/tr>\\n   <tr>\\n      <td>28<\/td>\\n      <td style=\"background:lightskyblue;\">&nbsp;<\/td>\\n      <td>lightskyblue<\/td>\\n      <td>#87CEFA<\/td>\\n      <td>rgb(135,206,250)<\/td>\\n   <\/tr>\\n   <tr>\\n      <td>29<\/td>\\n      <td style=\"background:skyblue;\">&nbsp;<\/td>\\n      <td>skyblue<\/td>\\n      <td>#87CEEB<\/td>\\n      <td>rgb(135,206,235)<\/td>\\n   <\/tr>\\n   <tr>\\n      <td>30<\/td>\\n      <td style=\"background:deepskyblue;\">&nbsp;<\/td>\\n      <td>deepskyblue<\/td>\\n      <td>#00BFFF<\/td>\\n      <td>rgb(0,191,255)<\/td>\\n   <\/tr>\\n   <tr>\\n      <td>31<\/td>\\n      <td style=\"background:lightsteelblue;\">&nbsp;<\/td>\\n      <td>lightsteelblue<\/td>\\n      <td>#B0C4DE<\/td>\\n      <td>rgb(176,196,222)<\/td>\\n   <\/tr>\\n   <tr>\\n      <td>32<\/td>\\n      <td style=\"background:dodgerblue;\">&nbsp;<\/td>\\n      <td>dodgerblue<\/td>\\n      <td>#1E90FF<\/td>\\n      <td>rgb(30,144,255)<\/td>\\n   <\/tr>\\n<\/table>\\n   <\/body>\\n<\/html>'"
      ]
     },
     "metadata":{
      
     },
     "output_type":"display_data"
    }
   ],
   "metadata":{
    "datalore":{
     "node_id":"UxrCoSXYoP8m4Jm3AXlcx7",
     "type":"CODE",
     "hide_input_from_viewers":true,
     "hide_output_from_viewers":true
    }
   }
  },
  {
   "cell_type":"code",
   "source":[
    "soup = BeautifulSoup(data,'html5lib')"
   ],
   "execution_count":14,
   "outputs":[
    
   ],
   "metadata":{
    "datalore":{
     "node_id":"uFg3Dix0F0hVc9svH9gBgk",
     "type":"CODE",
     "hide_input_from_viewers":true,
     "hide_output_from_viewers":true
    }
   }
  },
  {
   "cell_type":"code",
   "source":[
    "table = soup.find('table')"
   ],
   "execution_count":15,
   "outputs":[
    
   ],
   "metadata":{
    "datalore":{
     "node_id":"cdQNE1pAsxLHHSZ2AErTTO",
     "type":"CODE",
     "hide_input_from_viewers":true,
     "hide_output_from_viewers":true
    }
   }
  },
  {
   "cell_type":"code",
   "source":[
    "for row in table.findAll('tr'):\n",
    "    cols = row.findAll('td')\n",
    "    color_name = cols[2].getText()\n",
    "    color_code = cols[3].getText()\n",
    "\n",
    "    print(\"{} ------> {}\".format(color_name, color_code))"
   ],
   "execution_count":18,
   "outputs":[
    {
     "name":"stdout",
     "text":[
      "Color Name ------> Hex Code#RRGGBB\n",
      "lightsalmon ------> #FFA07A\n",
      "salmon ------> #FA8072\n",
      "darksalmon ------> #E9967A\n",
      "lightcoral ------> #F08080\n",
      "coral ------> #FF7F50\n",
      "tomato ------> #FF6347\n",
      "orangered ------> #FF4500\n",
      "gold ------> #FFD700\n",
      "orange ------> #FFA500\n",
      "darkorange ------> #FF8C00\n",
      "lightyellow ------> #FFFFE0\n",
      "lemonchiffon ------> #FFFACD\n",
      "papayawhip ------> #FFEFD5\n",
      "moccasin ------> #FFE4B5\n",
      "peachpuff ------> #FFDAB9\n",
      "palegoldenrod ------> #EEE8AA\n",
      "khaki ------> #F0E68C\n",
      "darkkhaki ------> #BDB76B\n",
      "yellow ------> #FFFF00\n",
      "lawngreen ------> #7CFC00\n",
      "chartreuse ------> #7FFF00\n",
      "limegreen ------> #32CD32\n",
      "lime ------> #00FF00\n",
      "forestgreen ------> #228B22\n",
      "green ------> #008000\n",
      "powderblue ------> #B0E0E6\n",
      "lightblue ------> #ADD8E6\n",
      "lightskyblue ------> #87CEFA\n",
      "skyblue ------> #87CEEB\n",
      "deepskyblue ------> #00BFFF\n",
      "lightsteelblue ------> #B0C4DE\n",
      "dodgerblue ------> #1E90FF\n"
     ],
     "output_type":"stream"
    }
   ],
   "metadata":{
    "datalore":{
     "node_id":"vf0DsmY3DrosrzcsKp3Yyh",
     "type":"CODE",
     "hide_input_from_viewers":true,
     "hide_output_from_viewers":true
    }
   }
  },
  {
   "cell_type":"code",
   "source":[
    
   ],
   "execution_count":null,
   "outputs":[
    
   ],
   "metadata":{
    "datalore":{
     "node_id":"FEVbAU512oB7H71AYvJ5jl",
     "type":"CODE",
     "hide_input_from_viewers":true,
     "hide_output_from_viewers":true
    }
   }
  },
  {
   "cell_type":"markdown",
   "source":[
    "# Sheet 2"
   ],
   "attachments":{
    
   },
   "metadata":{
    "datalore":{
     "node_id":"Sheet 2",
     "type":"MD",
     "hide_input_from_viewers":false,
     "hide_output_from_viewers":false,
     "sheet_delimiter":true
    }
   }
  },
  {
   "cell_type":"code",
   "source":[
    "import bs4\n",
    "import pandas as pd\n",
    "from bs4 import BeautifulSoup\n",
    "import requests"
   ],
   "execution_count":2,
   "outputs":[
    
   ],
   "metadata":{
    "datalore":{
     "node_id":"rgTb31kDciQ4hWBG4ujlyp",
     "type":"CODE",
     "hide_input_from_viewers":true,
     "hide_output_from_viewers":true
    }
   }
  },
  {
   "cell_type":"code",
   "source":[
    "url = \"https:\/\/cf-courses-data.s3.us.cloud-object-storage.appdomain.cloud\/IBM-DA0321EN-SkillsNetwork\/labs\/datasets\/Programming_Languages.html\""
   ],
   "execution_count":3,
   "outputs":[
    
   ],
   "metadata":{
    "datalore":{
     "node_id":"OnLro4uTYgYUKcyDWvShUN",
     "type":"CODE",
     "hide_input_from_viewers":true,
     "hide_output_from_viewers":true
    }
   }
  },
  {
   "cell_type":"code",
   "source":[
    "r = requests.get(url)\n",
    "data = r.text"
   ],
   "execution_count":4,
   "outputs":[
    
   ],
   "metadata":{
    "datalore":{
     "node_id":"me8oKI8NDBj4OAabOWaX8Z",
     "type":"CODE",
     "hide_input_from_viewers":true,
     "hide_output_from_viewers":true
    }
   }
  },
  {
   "cell_type":"code",
   "source":[
    "data"
   ],
   "execution_count":5,
   "outputs":[
    {
     "data":{
      "text\/plain":[
       "'<!doctype html>\\n<html lang=\"en\">\\n<head>\\n<title>\\nSalary survey results of programming languages\\n<\/title>\\n<style>\\ntable, th, td {\\n  border: 1px solid black;\\n}\\n<\/style>\\n<\/head>\\n\\n<body>\\n<hr \/>\\n<h2>Popular Programming Languages<\/h2>\\n<hr \/>\\n<p>Finding out which is the best language is a tough task. A programming language is created to solve a specific problem. A language which is good for task A may not be able to properly handle task B. Comparing programming language is never easy. What we can do, however, is find which is popular in the industry.<\/p>\\n<p>There are many ways to find the popularity of a programming languages. Counting the number of google searchs for each language is a simple way to find the popularity. GitHub and StackOverflow also can give some good pointers.<\/p>\\n<p>Salary surveys are a way to find out the programmings languages that are most in demand in the industry. Below table is the result of one such survey. When using any survey keep in mind that the results vary year on year.<\/p>\\n<hr \/>\\n<table>\\n<tbody>\\n<tr>\\n<td>No.<\/td>\\n<td>Language<\/td>\\n<td>Created By<\/td>\\n<td>Average Annual Salary<\/td>\\n<td>Learning Difficulty<\/td>\\n<\/tr>\\n<tr>\\n<td>1<\/td>\\n<td>Python<\/td>\\n<td>Guido van Rossum<\/td>\\n<td>$114,383<\/td>\\n<td>Easy<\/td>\\n<\/tr>\\n<tr>\\n<td>2<\/td>\\n<td>Java<\/td>\\n<td>James Gosling<\/td>\\n<td>$101,013<\/td>\\n<td>Easy<\/td>\\n<\/tr>\\n<tr>\\n<td>3<\/td>\\n<td>R<\/td>\\n<td>Robert Gentleman, Ross Ihaka<\/td>\\n<td>$92,037<\/td>\\n<td>Hard<\/td>\\n<\/tr>\\n<tr>\\n<td>4<\/td>\\n<td>Javascript<\/td>\\n<td>Netscape<\/td>\\n<td>$110,981<\/td>\\n<td>Easy<\/td>\\n<\/tr>\\n<tr>\\n<td>5<\/td>\\n<td>Swift<\/td>\\n<td>Apple<\/td>\\n<td>$130,801<\/td>\\n<td>Easy<\/td>\\n<\/tr>\\n<tr>\\n<td>6<\/td>\\n<td>C++<\/td>\\n<td>Bjarne Stroustrup<\/td>\\n<td>$113,865<\/td>\\n<td>Hard<\/td>\\n<\/tr>\\n<tr>\\n<td>7<\/td>\\n<td>C#<\/td>\\n<td>Microsoft<\/td>\\n<td>$88,726<\/td>\\n<td>Hard<\/td>\\n<\/tr>\\n<tr>\\n<td>8<\/td>\\n<td>PHP<\/td>\\n<td>Rasmus Lerdorf<\/td>\\n<td>$84,727<\/td>\\n<td>Easy<\/td>\\n<\/tr>\\n<tr>\\n<td>9<\/td>\\n<td>SQL<\/td>\\n<td>Donald D. Chamberlin, Raymond F. Boyce.<\/td>\\n<td>$84,793<\/td>\\n<td>Easy<\/td>\\n<\/tr>\\n<tr>\\n<td>10<\/td>\\n<td>Go<\/td>\\n<td>Robert Griesemer, Ken Thompson, Rob Pike.<\/td>\\n<td>$94,082<\/td>\\n<td>Difficult<\/td>\\n<\/tr>\\n<\/tbody>\\n<\/table>\\n<hr \/>\\n<\/body>\\n<\/html>'"
      ]
     },
     "metadata":{
      
     },
     "output_type":"display_data"
    }
   ],
   "metadata":{
    "datalore":{
     "node_id":"KspRcSOILkH5wPi3JnZwcY",
     "type":"CODE",
     "hide_input_from_viewers":true,
     "hide_output_from_viewers":true
    }
   }
  },
  {
   "cell_type":"code",
   "source":[
    "soup = BeautifulSoup(data,'html5lib')\n",
    "soup"
   ],
   "execution_count":6,
   "outputs":[
    {
     "data":{
      "text\/plain":[
       "<!DOCTYPE html>\n",
       "<html lang=\"en\"><head>\n",
       "<title>\n",
       "Salary survey results of programming languages\n",
       "<\/title>\n",
       "<style>\n",
       "table, th, td {\n",
       "  border: 1px solid black;\n",
       "}\n",
       "<\/style>\n",
       "<\/head>\n",
       "\n",
       "<body>\n",
       "<hr\/>\n",
       "<h2>Popular Programming Languages<\/h2>\n",
       "<hr\/>\n",
       "<p>Finding out which is the best language is a tough task. A programming language is created to solve a specific problem. A language which is good for task A may not be able to properly handle task B. Comparing programming language is never easy. What we can do, however, is find which is popular in the industry.<\/p>\n",
       "<p>There are many ways to find the popularity of a programming languages. Counting the number of google searchs for each language is a simple way to find the popularity. GitHub and StackOverflow also can give some good pointers.<\/p>\n",
       "<p>Salary surveys are a way to find out the programmings languages that are most in demand in the industry. Below table is the result of one such survey. When using any survey keep in mind that the results vary year on year.<\/p>\n",
       "<hr\/>\n",
       "<table>\n",
       "<tbody>\n",
       "<tr>\n",
       "<td>No.<\/td>\n",
       "<td>Language<\/td>\n",
       "<td>Created By<\/td>\n",
       "<td>Average Annual Salary<\/td>\n",
       "<td>Learning Difficulty<\/td>\n",
       "<\/tr>\n",
       "<tr>\n",
       "<td>1<\/td>\n",
       "<td>Python<\/td>\n",
       "<td>Guido van Rossum<\/td>\n",
       "<td>$114,383<\/td>\n",
       "<td>Easy<\/td>\n",
       "<\/tr>\n",
       "<tr>\n",
       "<td>2<\/td>\n",
       "<td>Java<\/td>\n",
       "<td>James Gosling<\/td>\n",
       "<td>$101,013<\/td>\n",
       "<td>Easy<\/td>\n",
       "<\/tr>\n",
       "<tr>\n",
       "<td>3<\/td>\n",
       "<td>R<\/td>\n",
       "<td>Robert Gentleman, Ross Ihaka<\/td>\n",
       "<td>$92,037<\/td>\n",
       "<td>Hard<\/td>\n",
       "<\/tr>\n",
       "<tr>\n",
       "<td>4<\/td>\n",
       "<td>Javascript<\/td>\n",
       "<td>Netscape<\/td>\n",
       "<td>$110,981<\/td>\n",
       "<td>Easy<\/td>\n",
       "<\/tr>\n",
       "<tr>\n",
       "<td>5<\/td>\n",
       "<td>Swift<\/td>\n",
       "<td>Apple<\/td>\n",
       "<td>$130,801<\/td>\n",
       "<td>Easy<\/td>\n",
       "<\/tr>\n",
       "<tr>\n",
       "<td>6<\/td>\n",
       "<td>C++<\/td>\n",
       "<td>Bjarne Stroustrup<\/td>\n",
       "<td>$113,865<\/td>\n",
       "<td>Hard<\/td>\n",
       "<\/tr>\n",
       "<tr>\n",
       "<td>7<\/td>\n",
       "<td>C#<\/td>\n",
       "<td>Microsoft<\/td>\n",
       "<td>$88,726<\/td>\n",
       "<td>Hard<\/td>\n",
       "<\/tr>\n",
       "<tr>\n",
       "<td>8<\/td>\n",
       "<td>PHP<\/td>\n",
       "<td>Rasmus Lerdorf<\/td>\n",
       "<td>$84,727<\/td>\n",
       "<td>Easy<\/td>\n",
       "<\/tr>\n",
       "<tr>\n",
       "<td>9<\/td>\n",
       "<td>SQL<\/td>\n",
       "<td>Donald D. Chamberlin, Raymond F. Boyce.<\/td>\n",
       "<td>$84,793<\/td>\n",
       "<td>Easy<\/td>\n",
       "<\/tr>\n",
       "<tr>\n",
       "<td>10<\/td>\n",
       "<td>Go<\/td>\n",
       "<td>Robert Griesemer, Ken Thompson, Rob Pike.<\/td>\n",
       "<td>$94,082<\/td>\n",
       "<td>Difficult<\/td>\n",
       "<\/tr>\n",
       "<\/tbody>\n",
       "<\/table>\n",
       "<hr\/>\n",
       "\n",
       "<\/body><\/html>"
      ]
     },
     "metadata":{
      
     },
     "output_type":"display_data"
    }
   ],
   "metadata":{
    "datalore":{
     "node_id":"03yinPTixHZFbNVHI8AiWg",
     "type":"CODE",
     "hide_input_from_viewers":true,
     "hide_output_from_viewers":true
    }
   }
  },
  {
   "cell_type":"code",
   "source":[
    "table = pd.DataFrame({\"No\",\"Language\",\"Created By\",\"Average Annual Salary\",\"Learning Difficulty\"})"
   ],
   "execution_count":7,
   "outputs":[
    
   ],
   "metadata":{
    "datalore":{
     "node_id":"EAvYwtjznH5awUS2E3fZFX",
     "type":"CODE",
     "hide_input_from_viewers":true,
     "hide_output_from_viewers":true
    }
   }
  },
  {
   "cell_type":"code",
   "source":[
    "for row in soup.findAll('tr'):\n",
    "\n",
    "    cols = row.find_all('td')\n",
    "    langauge_name = cols[1].getText()\n",
    "    average_salary =cols[3].getText()\n",
    "    print(\"{} AND {}\".format(langauge_name,average_salary))\n",
    "\n",
    "    table = table.append({\"Language\":langauge_name,\"Average Annual Salary\": average_salary}, ignore_index=True)\n",
    "    table.head()\n",
    "    "
   ],
   "execution_count":8,
   "outputs":[
    {
     "name":"stdout",
     "text":[
      "Language AND Average Annual Salary\n",
      "Python AND $114,383\n",
      "Java AND $101,013\n",
      "R AND $92,037\n",
      "Javascript AND $110,981\n",
      "Swift AND $130,801\n",
      "C++ AND $113,865\n",
      "C# AND $88,726\n",
      "PHP AND $84,727\n",
      "SQL AND $84,793\n",
      "Go AND $94,082\n"
     ],
     "output_type":"stream"
    }
   ],
   "metadata":{
    "datalore":{
     "node_id":"b2nzlpTKfBSbBYatvz0xbA",
     "type":"CODE",
     "hide_input_from_viewers":true,
     "hide_output_from_viewers":true
    }
   }
  },
  {
   "cell_type":"code",
   "source":[
    "table_rows = soup.find_all('tr')\n",
    "l = []\n",
    "\n",
    "for tr in table_rows:\n",
    "    td = tr.find_all('td')\n",
    "    row = [tr.text for tr in td]\n",
    "    l.append(row)\n",
    "\n",
    "df = pd.DataFrame(l,columns=[\"No.\",\"Language\",\"Created By\",\"Average Annual Salary\",\"Learning Difficulty\"])\n",
    "df.drop([\"No.\",\"Created By\",\"Learning Difficulty\"], axis = 1,inplace= True)\n",
    "df.drop(df.index[0],inplace=True)\n",
    "df.to_csv(\"popular_languages.csv\")"
   ],
   "execution_count":10,
   "outputs":[
    
   ],
   "metadata":{
    "datalore":{
     "node_id":"CCw4Ozl6BUA0fgTgcNAgQD",
     "type":"CODE",
     "hide_input_from_viewers":true,
     "hide_output_from_viewers":true
    }
   }
  },
  {
   "cell_type":"code",
   "source":[
    
   ],
   "execution_count":null,
   "outputs":[
    
   ],
   "metadata":{
    "datalore":{
     "node_id":"EtUDAC5G3ksLZ8Dh6zjSxr",
     "type":"CODE",
     "hide_input_from_viewers":true,
     "hide_output_from_viewers":true
    }
   }
  }
 ],
 "metadata":{
  "kernelspec":{
   "display_name":"Python",
   "language":"python",
   "name":"python"
  },
  "datalore":{
   "computation_mode":"JUPYTER",
   "package_manager":"pip",
   "base_environment":"default",
   "packages":[
    {
     "name":"html5lib",
     "version":"1.1",
     "source":"PIP"
    }
   ],
   "report_row_ids":[
    
   ],
   "version":2
  }
 },
 "nbformat":4,
 "nbformat_minor":4
}
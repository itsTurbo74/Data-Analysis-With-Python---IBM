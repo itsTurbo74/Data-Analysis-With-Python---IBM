{
 "cells":[
  {
   "cell_type":"markdown",
   "source":[
    "<p style=\"text-align:center\">\n",
    "    <a href=\"https:\/\/skills.network\/?utm_medium=Exinfluencer&utm_source=Exinfluencer&utm_content=000026UJ&utm_term=10006555&utm_id=NA-SkillsNetwork-Channel-SkillsNetworkCoursesIBMDA0321ENSkillsNetwork928-2022-01-01\" target=\"_blank\">\n",
    "    <img src=\"https:\/\/cf-courses-data.s3.us.cloud-object-storage.appdomain.cloud\/assets\/logos\/SN_web_lightmode.png\" width=\"200\" alt=\"Skills Network Logo\"  \/>\n",
    "    <\/a>\n",
    "<\/p>"
   ],
   "attachments":{
    
   },
   "metadata":{
    "datalore":{
     "node_id":"qS94QJtFXLG71jAiHY6Nz9",
     "type":"MD",
     "hide_input_from_viewers":false,
     "hide_output_from_viewers":false,
     "report_properties":{
      "rowId":"HVPQEPgCZKeRFBc1sd34Yx"
     }
    }
   }
  },
  {
   "cell_type":"markdown",
   "source":[
    "# **Hands-on Lab : Web Scraping**"
   ],
   "attachments":{
    
   },
   "metadata":{
    "datalore":{
     "node_id":"dfpuRLFCDhV4NkhB64Tnpx",
     "type":"MD",
     "hide_input_from_viewers":false,
     "hide_output_from_viewers":false,
     "report_properties":{
      "rowId":"CjhyI10bDjnAxolvoQllnM"
     }
    }
   }
  },
  {
   "cell_type":"markdown",
   "source":[
    "Estimated time needed: **30 to 45** minutes"
   ],
   "attachments":{
    
   },
   "metadata":{
    "datalore":{
     "node_id":"vwzt0VQEIrkLOcmOiwIDEx",
     "type":"MD",
     "hide_input_from_viewers":false,
     "hide_output_from_viewers":false,
     "report_properties":{
      "rowId":"DxxcEuc4ttIYugjNHjX0i1"
     }
    }
   }
  },
  {
   "cell_type":"markdown",
   "source":[
    "## Objectives"
   ],
   "attachments":{
    
   },
   "metadata":{
    "datalore":{
     "node_id":"B5mrICbyQhHi0btsiDlYzq",
     "type":"MD",
     "hide_input_from_viewers":false,
     "hide_output_from_viewers":false,
     "report_properties":{
      "rowId":"RdvCnmBnpjprVFA8qCbEJH"
     }
    }
   }
  },
  {
   "cell_type":"markdown",
   "source":[
    "In this lab you will perform the following:"
   ],
   "attachments":{
    
   },
   "metadata":{
    "datalore":{
     "node_id":"Lg0LfdqGvRwuWMrchS2jRM",
     "type":"MD",
     "hide_input_from_viewers":false,
     "hide_output_from_viewers":false,
     "report_properties":{
      "rowId":"435rAxGj85P6x3HDRhXPvn"
     }
    }
   }
  },
  {
   "cell_type":"markdown",
   "source":[
    "* Extract information from a given web site \n",
    "* Write the scraped data into a csv file."
   ],
   "attachments":{
    
   },
   "metadata":{
    "datalore":{
     "node_id":"kh6LG4uyylb2JMUTunyqoY",
     "type":"MD",
     "hide_input_from_viewers":false,
     "hide_output_from_viewers":false,
     "report_properties":{
      "rowId":"wvcPpUGhEXyarPJhjRXa9h"
     }
    }
   }
  },
  {
   "cell_type":"markdown",
   "source":[
    "## Extract information from the given web site\n",
    "You will extract the data from the below web site: <br> "
   ],
   "attachments":{
    
   },
   "metadata":{
    "datalore":{
     "node_id":"Ptd7DzTYdaZRI6CJjRiViS",
     "type":"MD",
     "hide_input_from_viewers":false,
     "hide_output_from_viewers":false,
     "report_properties":{
      "rowId":"Lv8yXrnt1YuvupHodBOATT"
     }
    }
   }
  },
  {
   "cell_type":"code",
   "source":[
    "#this url contains the data you need to scrape\n",
    "url = \"https:\/\/cf-courses-data.s3.us.cloud-object-storage.appdomain.cloud\/IBM-DA0321EN-SkillsNetwork\/labs\/datasets\/Programming_Languages.html\""
   ],
   "execution_count":1,
   "outputs":[
    
   ],
   "metadata":{
    "datalore":{
     "node_id":"rjOLXEeYLZp1D8yGeD53vk",
     "type":"CODE",
     "hide_input_from_viewers":false,
     "hide_output_from_viewers":false,
     "report_properties":{
      "rowId":"Uw8SxC3SBobuaHVctspzZH"
     }
    }
   }
  },
  {
   "cell_type":"markdown",
   "source":[
    "The data you need to scrape is the **name of the programming language** and **average annual salary**.<br> It is a good idea to open the url in your web broswer and study the contents of the web page before you start to scrape."
   ],
   "attachments":{
    
   },
   "metadata":{
    "datalore":{
     "node_id":"SjzXZiisLFokqnOmlYL1W1",
     "type":"MD",
     "hide_input_from_viewers":false,
     "hide_output_from_viewers":false,
     "report_properties":{
      "rowId":"b16mkMkLsPvSsmTXwSwHAY"
     }
    }
   }
  },
  {
   "cell_type":"markdown",
   "source":[
    "Import the required libraries"
   ],
   "attachments":{
    
   },
   "metadata":{
    "datalore":{
     "node_id":"v7d7khPbc36hvHbvdUX4y1",
     "type":"MD",
     "hide_input_from_viewers":false,
     "hide_output_from_viewers":false,
     "report_properties":{
      "rowId":"Ao6NadTgvzT2z7TNJrtrqc"
     }
    }
   }
  },
  {
   "cell_type":"code",
   "source":[
    "import bs4\n",
    "import pandas as pd\n",
    "from bs4 import BeautifulSoup\n",
    "import requests"
   ],
   "execution_count":2,
   "outputs":[
    
   ],
   "metadata":{
    "datalore":{
     "node_id":"f1VvJwiQO684sAhTNxW7EV",
     "type":"CODE",
     "hide_input_from_viewers":false,
     "hide_output_from_viewers":false,
     "report_properties":{
      "rowId":"gJuRbOj1kdvgBj5rJH8bpa"
     }
    }
   }
  },
  {
   "cell_type":"markdown",
   "source":[
    "Download the webpage at the url"
   ],
   "attachments":{
    
   },
   "metadata":{
    "datalore":{
     "node_id":"sRWFgvtUo3q81owKaPt5YQ",
     "type":"MD",
     "hide_input_from_viewers":false,
     "hide_output_from_viewers":false,
     "report_properties":{
      "rowId":"LkNcZLtaGjeFPO29ZOxm5Q"
     }
    }
   }
  },
  {
   "cell_type":"code",
   "source":[
    "r = requests.get(url)\n",
    "data = r.text"
   ],
   "execution_count":3,
   "outputs":[
    
   ],
   "metadata":{
    "datalore":{
     "node_id":"ZEns3szKciNAcZqnuQhcaj",
     "type":"CODE",
     "hide_input_from_viewers":false,
     "hide_output_from_viewers":false,
     "report_properties":{
      "rowId":"yAHjVjI2LqV9RlTvWGli7L"
     }
    }
   }
  },
  {
   "cell_type":"markdown",
   "source":[
    "Create a soup object"
   ],
   "attachments":{
    
   },
   "metadata":{
    "datalore":{
     "node_id":"NL1KBlR6oexwoMXNO2HPTK",
     "type":"MD",
     "hide_input_from_viewers":false,
     "hide_output_from_viewers":false,
     "report_properties":{
      "rowId":"9SwIJLRp64JXyoPbiJjVnA"
     }
    }
   }
  },
  {
   "cell_type":"code",
   "source":[
    "soup = BeautifulSoup(data,'html5lib')\n",
    "soup"
   ],
   "execution_count":5,
   "outputs":[
    {
     "data":{
      "text\/plain":[
       "<!DOCTYPE html>\n",
       "<html lang=\"en\"><head>\n",
       "<title>\n",
       "Salary survey results of programming languages\n",
       "<\/title>\n",
       "<style>\n",
       "table, th, td {\n",
       "  border: 1px solid black;\n",
       "}\n",
       "<\/style>\n",
       "<\/head>\n",
       "\n",
       "<body>\n",
       "<hr\/>\n",
       "<h2>Popular Programming Languages<\/h2>\n",
       "<hr\/>\n",
       "<p>Finding out which is the best language is a tough task. A programming language is created to solve a specific problem. A language which is good for task A may not be able to properly handle task B. Comparing programming language is never easy. What we can do, however, is find which is popular in the industry.<\/p>\n",
       "<p>There are many ways to find the popularity of a programming languages. Counting the number of google searchs for each language is a simple way to find the popularity. GitHub and StackOverflow also can give some good pointers.<\/p>\n",
       "<p>Salary surveys are a way to find out the programmings languages that are most in demand in the industry. Below table is the result of one such survey. When using any survey keep in mind that the results vary year on year.<\/p>\n",
       "<hr\/>\n",
       "<table>\n",
       "<tbody>\n",
       "<tr>\n",
       "<td>No.<\/td>\n",
       "<td>Language<\/td>\n",
       "<td>Created By<\/td>\n",
       "<td>Average Annual Salary<\/td>\n",
       "<td>Learning Difficulty<\/td>\n",
       "<\/tr>\n",
       "<tr>\n",
       "<td>1<\/td>\n",
       "<td>Python<\/td>\n",
       "<td>Guido van Rossum<\/td>\n",
       "<td>$114,383<\/td>\n",
       "<td>Easy<\/td>\n",
       "<\/tr>\n",
       "<tr>\n",
       "<td>2<\/td>\n",
       "<td>Java<\/td>\n",
       "<td>James Gosling<\/td>\n",
       "<td>$101,013<\/td>\n",
       "<td>Easy<\/td>\n",
       "<\/tr>\n",
       "<tr>\n",
       "<td>3<\/td>\n",
       "<td>R<\/td>\n",
       "<td>Robert Gentleman, Ross Ihaka<\/td>\n",
       "<td>$92,037<\/td>\n",
       "<td>Hard<\/td>\n",
       "<\/tr>\n",
       "<tr>\n",
       "<td>4<\/td>\n",
       "<td>Javascript<\/td>\n",
       "<td>Netscape<\/td>\n",
       "<td>$110,981<\/td>\n",
       "<td>Easy<\/td>\n",
       "<\/tr>\n",
       "<tr>\n",
       "<td>5<\/td>\n",
       "<td>Swift<\/td>\n",
       "<td>Apple<\/td>\n",
       "<td>$130,801<\/td>\n",
       "<td>Easy<\/td>\n",
       "<\/tr>\n",
       "<tr>\n",
       "<td>6<\/td>\n",
       "<td>C++<\/td>\n",
       "<td>Bjarne Stroustrup<\/td>\n",
       "<td>$113,865<\/td>\n",
       "<td>Hard<\/td>\n",
       "<\/tr>\n",
       "<tr>\n",
       "<td>7<\/td>\n",
       "<td>C#<\/td>\n",
       "<td>Microsoft<\/td>\n",
       "<td>$88,726<\/td>\n",
       "<td>Hard<\/td>\n",
       "<\/tr>\n",
       "<tr>\n",
       "<td>8<\/td>\n",
       "<td>PHP<\/td>\n",
       "<td>Rasmus Lerdorf<\/td>\n",
       "<td>$84,727<\/td>\n",
       "<td>Easy<\/td>\n",
       "<\/tr>\n",
       "<tr>\n",
       "<td>9<\/td>\n",
       "<td>SQL<\/td>\n",
       "<td>Donald D. Chamberlin, Raymond F. Boyce.<\/td>\n",
       "<td>$84,793<\/td>\n",
       "<td>Easy<\/td>\n",
       "<\/tr>\n",
       "<tr>\n",
       "<td>10<\/td>\n",
       "<td>Go<\/td>\n",
       "<td>Robert Griesemer, Ken Thompson, Rob Pike.<\/td>\n",
       "<td>$94,082<\/td>\n",
       "<td>Difficult<\/td>\n",
       "<\/tr>\n",
       "<\/tbody>\n",
       "<\/table>\n",
       "<hr\/>\n",
       "\n",
       "<\/body><\/html>"
      ]
     },
     "metadata":{
      
     },
     "output_type":"display_data"
    }
   ],
   "metadata":{
    "datalore":{
     "node_id":"uayi0nNZFY72XL0KfiRn7c",
     "type":"CODE",
     "hide_input_from_viewers":false,
     "hide_output_from_viewers":false,
     "report_properties":{
      "rowId":"FYdpGID043WoHNOuoUkxK0"
     }
    }
   }
  },
  {
   "cell_type":"markdown",
   "source":[
    "Scrape the `Language name` and `annual average salary`."
   ],
   "attachments":{
    
   },
   "metadata":{
    "datalore":{
     "node_id":"RjO9XPADfRCYQe4Cw1N0z7",
     "type":"MD",
     "hide_input_from_viewers":false,
     "hide_output_from_viewers":false,
     "report_properties":{
      "rowId":"ajmR6ygXZnGG2zLksEhE63"
     }
    }
   }
  },
  {
   "cell_type":"code",
   "source":[
    "table = pd.DataFrame({\"No\",\"Language\",\"Created By\",\"Average Annual Salary\",\"Learning Difficulty\"})\n",
    "\n",
    "for row in soup.findAll('tr'):\n",
    "\n",
    "    cols = row.find_all('td')\n",
    "    langauge_name = cols[1].getText()\n",
    "    average_salary =cols[3].getText()\n",
    "    print(\"{} AND {}\".format(langauge_name,average_salary))\n",
    "\n",
    "    table = table.append({\"Language\":langauge_name,\"Average Annual Salary\": average_salary}, ignore_index=True)\n",
    "    table.head()\n",
    "    "
   ],
   "execution_count":8,
   "outputs":[
    {
     "name":"stdout",
     "text":[
      "Language AND Average Annual Salary\n",
      "Python AND $114,383\n",
      "Java AND $101,013\n",
      "R AND $92,037\n",
      "Javascript AND $110,981\n",
      "Swift AND $130,801\n",
      "C++ AND $113,865\n",
      "C# AND $88,726\n",
      "PHP AND $84,727\n",
      "SQL AND $84,793\n",
      "Go AND $94,082\n"
     ],
     "output_type":"stream"
    }
   ],
   "metadata":{
    "datalore":{
     "node_id":"v0iJyMISYoAH7VgzYrnjjV",
     "type":"CODE",
     "hide_input_from_viewers":false,
     "hide_output_from_viewers":false,
     "report_properties":{
      "rowId":"9ZeRIlHoIZgH7cYwAGkbr0"
     }
    }
   }
  },
  {
   "cell_type":"markdown",
   "source":[
    "Save the scrapped data into a file named *popular-languages.csv*"
   ],
   "attachments":{
    
   },
   "metadata":{
    "datalore":{
     "node_id":"VvaFWtI4sAgyQ6fxXir2UX",
     "type":"MD",
     "hide_input_from_viewers":false,
     "hide_output_from_viewers":false,
     "report_properties":{
      "rowId":"UI2KQQv3Szmpes2rWfsvJc"
     }
    }
   }
  },
  {
   "cell_type":"code",
   "source":[
    "table_rows = soup.find_all('tr')\n",
    "l = []\n",
    "\n",
    "for tr in table_rows:\n",
    "    td = tr.find_all('td')\n",
    "    row = [tr.text for tr in td]\n",
    "    l.append(row)\n",
    "\n",
    "df = pd.DataFrame(l,columns=[\"No.\",\"Language\",\"Created By\",\"Average Annual Salary\",\"Learning Difficulty\"])\n",
    "df.drop([\"No.\",\"Created By\",\"Learning Difficulty\"], axis = 1,inplace= True)\n",
    "df.drop(df.index[0],inplace=True)\n",
    "df.to_csv(\"popular_languages.csv\")"
   ],
   "execution_count":9,
   "outputs":[
    
   ],
   "metadata":{
    "datalore":{
     "node_id":"tcpeCHvBUKHT2xIgYvdPYj",
     "type":"CODE",
     "hide_input_from_viewers":false,
     "hide_output_from_viewers":false,
     "report_properties":{
      "rowId":"liC1UZtZQRV4I3PWPVknLH"
     }
    }
   }
  },
  {
   "cell_type":"markdown",
   "source":[
    "## Authors"
   ],
   "attachments":{
    
   },
   "metadata":{
    "datalore":{
     "node_id":"qfqPnzLVtD3PUAWWSWwPHa",
     "type":"MD",
     "hide_input_from_viewers":false,
     "hide_output_from_viewers":false,
     "report_properties":{
      "rowId":"D58k8LNo7H20uFK8TtTWJg"
     }
    }
   }
  },
  {
   "cell_type":"markdown",
   "source":[
    "Ramesh Sannareddy"
   ],
   "attachments":{
    
   },
   "metadata":{
    "datalore":{
     "node_id":"l6DGZUb6BqH73k4fsKja8Y",
     "type":"MD",
     "hide_input_from_viewers":false,
     "hide_output_from_viewers":false,
     "report_properties":{
      "rowId":"KTVb42zjx2MhC9eOhl9tUr"
     }
    }
   }
  },
  {
   "cell_type":"markdown",
   "source":[
    "### Other Contributors"
   ],
   "attachments":{
    
   },
   "metadata":{
    "datalore":{
     "node_id":"nnGc2auxkjHVPOhMYlKM8z",
     "type":"MD",
     "hide_input_from_viewers":false,
     "hide_output_from_viewers":false,
     "report_properties":{
      "rowId":"9xIWAXeN0bQFaKwl8xVYvo"
     }
    }
   }
  },
  {
   "cell_type":"markdown",
   "source":[
    "Rav Ahuja"
   ],
   "attachments":{
    
   },
   "metadata":{
    "datalore":{
     "node_id":"aUeHC4AjdL9G9IXH8rNB5U",
     "type":"MD",
     "hide_input_from_viewers":false,
     "hide_output_from_viewers":false,
     "report_properties":{
      "rowId":"lKvlkz1P9MJK0HjehCXjpa"
     }
    }
   }
  },
  {
   "cell_type":"markdown",
   "source":[
    "## Change Log"
   ],
   "attachments":{
    
   },
   "metadata":{
    "datalore":{
     "node_id":"6pbbCvRXG9KXwF526g1feO",
     "type":"MD",
     "hide_input_from_viewers":false,
     "hide_output_from_viewers":false,
     "report_properties":{
      "rowId":"Phr4yjTzg6VOx1Re2b7XL7"
     }
    }
   }
  },
  {
   "cell_type":"markdown",
   "source":[
    "|  Date (YYYY-MM-DD) |  Version | Changed By  |  Change Description |\n",
    "|---|---|---|---|\n",
    "| 2020-10-17  | 0.1  | Ramesh Sannareddy  |  Created initial version of the lab |"
   ],
   "attachments":{
    
   },
   "metadata":{
    "datalore":{
     "node_id":"eZuPQGt0qHWa21UdzA9w1G",
     "type":"MD",
     "hide_input_from_viewers":false,
     "hide_output_from_viewers":false,
     "report_properties":{
      "rowId":"hTSZYAfEUCRnskcey8zAhj"
     }
    }
   }
  },
  {
   "cell_type":"markdown",
   "source":[
    " Copyright &copy; 2020 IBM Corporation. This notebook and its source code are released under the terms of the [MIT License](https:\/\/cognitiveclass.ai\/mit-license\/?utm_medium=Exinfluencer&utm_source=Exinfluencer&utm_content=000026UJ&utm_term=10006555&utm_id=NA-SkillsNetwork-Channel-SkillsNetworkCoursesIBMDA0321ENSkillsNetwork928-2022-01-01)."
   ],
   "attachments":{
    
   },
   "metadata":{
    "datalore":{
     "node_id":"r5bFxulJOgpCunHtp5wIhG",
     "type":"MD",
     "hide_input_from_viewers":false,
     "hide_output_from_viewers":false,
     "report_properties":{
      "rowId":"PbO56dy4iXbFVmzmPSV608"
     }
    }
   }
  }
 ],
 "metadata":{
  "kernelspec":{
   "display_name":"Python",
   "language":"python",
   "name":"python"
  },
  "datalore":{
   "computation_mode":"JUPYTER",
   "package_manager":"pip",
   "base_environment":"default",
   "packages":[
    {
     "name":"html5lib",
     "version":"1.1",
     "source":"PIP"
    }
   ],
   "report_row_ids":[
    "HVPQEPgCZKeRFBc1sd34Yx",
    "CjhyI10bDjnAxolvoQllnM",
    "DxxcEuc4ttIYugjNHjX0i1",
    "RdvCnmBnpjprVFA8qCbEJH",
    "435rAxGj85P6x3HDRhXPvn",
    "wvcPpUGhEXyarPJhjRXa9h",
    "Lv8yXrnt1YuvupHodBOATT",
    "Uw8SxC3SBobuaHVctspzZH",
    "b16mkMkLsPvSsmTXwSwHAY",
    "Ao6NadTgvzT2z7TNJrtrqc",
    "gJuRbOj1kdvgBj5rJH8bpa",
    "LkNcZLtaGjeFPO29ZOxm5Q",
    "yAHjVjI2LqV9RlTvWGli7L",
    "9SwIJLRp64JXyoPbiJjVnA",
    "FYdpGID043WoHNOuoUkxK0",
    "ajmR6ygXZnGG2zLksEhE63",
    "9ZeRIlHoIZgH7cYwAGkbr0",
    "UI2KQQv3Szmpes2rWfsvJc",
    "liC1UZtZQRV4I3PWPVknLH",
    "D58k8LNo7H20uFK8TtTWJg",
    "KTVb42zjx2MhC9eOhl9tUr",
    "9xIWAXeN0bQFaKwl8xVYvo",
    "lKvlkz1P9MJK0HjehCXjpa",
    "Phr4yjTzg6VOx1Re2b7XL7",
    "hTSZYAfEUCRnskcey8zAhj",
    "PbO56dy4iXbFVmzmPSV608"
   ],
   "version":2
  }
 },
 "nbformat":4,
 "nbformat_minor":4
}